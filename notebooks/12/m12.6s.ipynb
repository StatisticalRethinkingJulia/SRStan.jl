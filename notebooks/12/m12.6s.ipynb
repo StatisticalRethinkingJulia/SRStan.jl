{
 "cells": [
  {
   "outputs": [
    {
     "output_type": "execute_result",
     "data": {
      "text/plain": "(10, 5)"
     },
     "metadata": {},
     "execution_count": 1
    }
   ],
   "cell_type": "code",
   "source": [
    "using StanModels\n",
    "\n",
    "ProjDir = rel_path_s(\"..\", \"scripts\", \"12\")\n",
    "cd(ProjDir)\n",
    "\n",
    "d = CSV.read(rel_path( \"..\", \"data\",  \"Kline.csv\"), delim=';');\n",
    "size(d) # Should be 10x5"
   ],
   "metadata": {},
   "execution_count": 1
  },
  {
   "outputs": [],
   "cell_type": "markdown",
   "source": [
    "New col log_pop, set log() for population data"
   ],
   "metadata": {}
  },
  {
   "outputs": [],
   "cell_type": "code",
   "source": [
    "d[:log_pop] = map((x) -> log(x), d[:population]);\n",
    "d[:society] = 1:10;\n",
    "first(d[[:culture, :population, :log_pop, :society]], 5)\n",
    "\n",
    "m12_6 = \"\n",
    "data {\n",
    "    int N;\n",
    "    int N_societies;\n",
    "    int total_tools[N];\n",
    "    real logpop[N];\n",
    "    int society[N];\n",
    "}\n",
    "parameters{\n",
    "    real a;\n",
    "    real bp;\n",
    "    vector[N_societies] a_society;\n",
    "    real<lower=0> sigma_society;\n",
    "}\n",
    "model{\n",
    "    vector[N_societies] mu;\n",
    "    sigma_society ~ cauchy( 0 , 1 );\n",
    "    a_society ~ normal( 0 , sigma_society );\n",
    "    bp ~ normal( 0 , 1 );\n",
    "    a ~ normal( 0 , 10 );\n",
    "    for ( i in 1:N ) {\n",
    "        mu[i] = a + a_society[society[i]] + bp * logpop[i];\n",
    "        mu[i] = exp(mu[i]);\n",
    "    }\n",
    "    total_tools ~ poisson( mu );\n",
    "}\n",
    "\";"
   ],
   "metadata": {},
   "execution_count": 2
  },
  {
   "outputs": [],
   "cell_type": "markdown",
   "source": [
    "Define the Stanmodel and set the output format to :mcmcchain."
   ],
   "metadata": {}
  },
  {
   "outputs": [
    {
     "name": "stdout",
     "output_type": "stream",
     "text": [
      "\n",
      "File /Users/rob/.julia/dev/StanModels/scripts/12/tmp/m12.6.stan will be updated.\n",
      "\n"
     ]
    }
   ],
   "cell_type": "code",
   "source": [
    "stanmodel = Stanmodel(name=\"m12.6\",  model=m12_6, output_format=:mcmcchain);"
   ],
   "metadata": {},
   "execution_count": 3
  },
  {
   "outputs": [],
   "cell_type": "markdown",
   "source": [
    "Input data for cmdstan"
   ],
   "metadata": {}
  },
  {
   "outputs": [],
   "cell_type": "code",
   "source": [
    "m12_6_data = Dict(\"N\" => size(d, 1),\"N_societies\" => 10,\n",
    "\"total_tools\" => d[:total_tools], \"logpop\" => d[:log_pop],\n",
    "\"society\" => d[:society]);"
   ],
   "metadata": {},
   "execution_count": 4
  },
  {
   "outputs": [],
   "cell_type": "markdown",
   "source": [
    "Sample using cmdstan"
   ],
   "metadata": {}
  },
  {
   "outputs": [],
   "cell_type": "code",
   "source": [
    "rc, chn, cnames = stan(stanmodel, m12_6_data, ProjDir, diagnostics=false, summary=false, CmdStanDir=CMDSTAN_HOME);"
   ],
   "metadata": {},
   "execution_count": 5
  },
  {
   "outputs": [],
   "cell_type": "markdown",
   "source": [
    "Describe the draws"
   ],
   "metadata": {}
  },
  {
   "outputs": [
    {
     "name": "stdout",
     "output_type": "stream",
     "text": [
      "Iterations = 1:1000\n",
      "Thinning interval = 1\n",
      "Chains = 1,2,3,4\n",
      "Samples per chain = 1000\n",
      "\n",
      "Empirical Posterior Estimates:\n",
      "                   Mean           SD         Naive SE        MCSE         ESS    \n",
      "         lp__  927.853562000  3.184714488 0.050354757393 0.1159372315  754.562392\n",
      "accept_stat__    0.942140191  0.080755045 0.001276849370 0.0016794265 1000.000000\n",
      "   stepsize__    0.048463950  0.004672777 0.000073883087 0.0007481496   39.009752\n",
      "  treedepth__    5.923500000  0.417961030 0.006608544145 0.0112121157 1000.000000\n",
      " n_leapfrog__   73.252000000 32.102618905 0.507586972975 0.8131511355 1000.000000\n",
      "  divergent__    0.000000000  0.000000000 0.000000000000 0.0000000000         NaN\n",
      "     energy__ -921.286832250  4.107998984 0.064953167075 0.1429295316  826.069741\n",
      "            a    1.121403146  0.752510513 0.011898235915 0.0235459975 1000.000000\n",
      "           bp    0.258884482  0.081372748 0.001286616116 0.0025943695  983.771679\n",
      "  a_society.1   -0.216080266  0.250700621 0.003963924862 0.0060379238 1000.000000\n",
      "  a_society.2    0.037823563  0.222768838 0.003522284606 0.0056082448 1000.000000\n",
      "  a_society.3   -0.048430196  0.196752193 0.003110925322 0.0036016852 1000.000000\n",
      "  a_society.4    0.327410155  0.191695703 0.003030975189 0.0048861426 1000.000000\n",
      "  a_society.5    0.042444182  0.179419058 0.002836864394 0.0040552717 1000.000000\n",
      "  a_society.6   -0.325265729  0.209226535 0.003308161984 0.0037210894 1000.000000\n",
      "  a_society.7    0.146722629  0.176046402 0.002783538027 0.0036395380 1000.000000\n",
      "  a_society.8   -0.176573094  0.187967634 0.002972029252 0.0032524586 1000.000000\n",
      "  a_society.9    0.275877221  0.181876394 0.002875718282 0.0056281124 1000.000000\n",
      " a_society.10   -0.089490530  0.288780085 0.004566014056 0.0095444481  915.446232\n",
      "sigma_society    0.314035288  0.132639795 0.002097219306 0.0047567761  777.539156\n",
      "\n",
      "Quantiles:\n",
      "                   2.5%           25.0%         50.0%          75.0%          97.5%    \n",
      "         lp__  920.559850000  925.964750000  928.21700000  930.042000000  933.212175000\n",
      "accept_stat__    0.713220925    0.920029750    0.97726250    0.996340000    0.999956025\n",
      "   stepsize__    0.041963800    0.045465625    0.04869525    0.051693575    0.054501500\n",
      "  treedepth__    5.000000000    6.000000000    6.00000000    6.000000000    7.000000000\n",
      " n_leapfrog__   31.000000000   63.000000000   63.00000000   63.000000000  127.000000000\n",
      "  divergent__    0.000000000    0.000000000    0.00000000    0.000000000    0.000000000\n",
      "     energy__ -928.441350000 -924.158250000 -921.58550000 -918.772750000 -912.123700000\n",
      "            a   -0.395091100    0.685516000    1.13329500    1.573975000    2.562162250\n",
      "           bp    0.103274150    0.210818250    0.25856600    0.305816250    0.425278925\n",
      "  a_society.1   -0.766669050   -0.359882750   -0.19643250   -0.052230450    0.229667550\n",
      "  a_society.2   -0.403210675   -0.093241150    0.03134905    0.169797750    0.510499000\n",
      "  a_society.3   -0.464846350   -0.167220750   -0.04451675    0.076178425    0.325930975\n",
      "  a_society.4   -0.011921027    0.191956250    0.31527650    0.446878250    0.732027200\n",
      "  a_society.5   -0.319085750   -0.071523800    0.03931755    0.155029000    0.403317500\n",
      "  a_society.6   -0.778604250   -0.453460000   -0.30970300   -0.179978000    0.030440145\n",
      "  a_society.7   -0.187195325    0.031709225    0.14195700    0.255749750    0.514440525\n",
      "  a_society.8   -0.570922650   -0.293297500   -0.16841800   -0.054955225    0.182477675\n",
      "  a_society.9   -0.047786448    0.154480500    0.26574600    0.385621500    0.668307025\n",
      " a_society.10   -0.676797175   -0.245326000   -0.08480195    0.074069475    0.466867500\n",
      "sigma_society    0.120952075    0.223635000    0.29169950    0.381499500    0.652916175\n",
      "\n"
     ]
    }
   ],
   "cell_type": "code",
   "source": [
    "describe(chn)"
   ],
   "metadata": {},
   "execution_count": 6
  },
  {
   "outputs": [],
   "cell_type": "markdown",
   "source": [
    "*This notebook was generated using [Literate.jl](https://github.com/fredrikekre/Literate.jl).*"
   ],
   "metadata": {}
  }
 ],
 "nbformat_minor": 3,
 "metadata": {
  "language_info": {
   "file_extension": ".jl",
   "mimetype": "application/julia",
   "name": "julia",
   "version": "1.2.0-DEV.296"
  },
  "kernelspec": {
   "name": "julia-1.2",
   "display_name": "Julia 1.2.0-DEV.296",
   "language": "julia"
  }
 },
 "nbformat": 4
}
