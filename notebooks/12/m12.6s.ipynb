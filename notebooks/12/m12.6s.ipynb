{
 "cells": [
  {
   "outputs": [
    {
     "output_type": "execute_result",
     "data": {
      "text/plain": "(10, 5)"
     },
     "metadata": {},
     "execution_count": 1
    }
   ],
   "cell_type": "code",
   "source": [
    "using StanModels\n",
    "\n",
    "ProjDir = rel_path_s(\"..\", \"scripts\", \"12\")\n",
    "cd(ProjDir)\n",
    "\n",
    "d = CSV.read(rel_path( \"..\", \"data\",  \"Kline.csv\"), delim=';');\n",
    "size(d) # Should be 10x5"
   ],
   "metadata": {},
   "execution_count": 1
  },
  {
   "outputs": [],
   "cell_type": "markdown",
   "source": [
    "New col log_pop, set log() for population data"
   ],
   "metadata": {}
  },
  {
   "outputs": [],
   "cell_type": "code",
   "source": [
    "d[:log_pop] = map((x) -> log(x), d[:population]);\n",
    "d[:society] = 1:10;\n",
    "first(d[[:culture, :population, :log_pop, :society]], 5)\n",
    "\n",
    "m12_6 = \"\n",
    "data {\n",
    "    int N;\n",
    "    int N_societies;\n",
    "    int total_tools[N];\n",
    "    real logpop[N];\n",
    "    int society[N];\n",
    "}\n",
    "parameters{\n",
    "    real a;\n",
    "    real bp;\n",
    "    vector[N_societies] a_society;\n",
    "    real<lower=0> sigma_society;\n",
    "}\n",
    "model{\n",
    "    vector[N_societies] mu;\n",
    "    sigma_society ~ cauchy( 0 , 1 );\n",
    "    a_society ~ normal( 0 , sigma_society );\n",
    "    bp ~ normal( 0 , 1 );\n",
    "    a ~ normal( 0 , 10 );\n",
    "    for ( i in 1:N ) {\n",
    "        mu[i] = a + a_society[society[i]] + bp * logpop[i];\n",
    "        mu[i] = exp(mu[i]);\n",
    "    }\n",
    "    total_tools ~ poisson( mu );\n",
    "}\n",
    "\";"
   ],
   "metadata": {},
   "execution_count": 2
  },
  {
   "outputs": [],
   "cell_type": "markdown",
   "source": [
    "Define the Stanmodel and set the output format to :mcmcchains."
   ],
   "metadata": {}
  },
  {
   "outputs": [],
   "cell_type": "code",
   "source": [
    "stanmodel = Stanmodel(name=\"m12.6\",  model=m12_6, output_format=:mcmcchains);"
   ],
   "metadata": {},
   "execution_count": 3
  },
  {
   "outputs": [],
   "cell_type": "markdown",
   "source": [
    "Input data for cmdstan"
   ],
   "metadata": {}
  },
  {
   "outputs": [],
   "cell_type": "code",
   "source": [
    "m12_6_data = Dict(\"N\" => size(d, 1),\"N_societies\" => 10,\n",
    "\"total_tools\" => d[:total_tools], \"logpop\" => d[:log_pop],\n",
    "\"society\" => d[:society]);"
   ],
   "metadata": {},
   "execution_count": 4
  },
  {
   "outputs": [],
   "cell_type": "markdown",
   "source": [
    "Sample using cmdstan"
   ],
   "metadata": {}
  },
  {
   "outputs": [],
   "cell_type": "code",
   "source": [
    "rc, chn, cnames = stan(stanmodel, m12_6_data, ProjDir, diagnostics=false, summary=false, CmdStanDir=CMDSTAN_HOME);"
   ],
   "metadata": {},
   "execution_count": 5
  },
  {
   "outputs": [],
   "cell_type": "markdown",
   "source": [
    "Describe the draws"
   ],
   "metadata": {}
  },
  {
   "outputs": [
    {
     "name": "stdout",
     "output_type": "stream",
     "text": [
      "Log evidence      = 0.0\n",
      "Iterations        = 1:1000\n",
      "Thinning interval = 1\n",
      "Chains            = 1, 2, 3, 4\n",
      "Samples per chain = 1000\n",
      "parameters        = a, bp, a_society.1, a_society.2, a_society.3, a_society.4, a_society.5, a_society.6, a_society.7, a_society.8, a_society.9, a_society.10, sigma_society\n",
      "\n",
      "Empirical Posterior Estimates\n",
      "──────────────────────────────────────────────────────\n",
      "parameters\n",
      "                Mean    SD   Naive SE  MCSE     ESS   \n",
      "            a  1.1210 0.7399   0.0117 0.0204 1000.0000\n",
      "  a_society.1 -0.2049 0.2386   0.0038 0.0050 1000.0000\n",
      "  a_society.2  0.0418 0.2148   0.0034 0.0047 1000.0000\n",
      "  a_society.3 -0.0399 0.1865   0.0029 0.0037 1000.0000\n",
      "  a_society.4  0.3278 0.1919   0.0030 0.0056 1000.0000\n",
      "  a_society.5  0.0437 0.1751   0.0028 0.0037 1000.0000\n",
      "  a_society.6 -0.3172 0.2004   0.0032 0.0044 1000.0000\n",
      "  a_society.7  0.1510 0.1710   0.0027 0.0043 1000.0000\n",
      "  a_society.8 -0.1663 0.1810   0.0029 0.0042 1000.0000\n",
      "  a_society.9  0.2789 0.1775   0.0028 0.0044 1000.0000\n",
      " a_society.10 -0.0832 0.2870   0.0045 0.0077 1000.0000\n",
      "           bp  0.2583 0.0803   0.0013 0.0022 1000.0000\n",
      "sigma_society  0.3076 0.1277   0.0020 0.0043  891.4222\n",
      "\n",
      "Quantiles\n",
      "──────────────────────────────────────────────────────\n",
      "parameters\n",
      "                2.5%   25.0%   50.0%   75.0%   97.5%\n",
      "            a -1.8489  0.6741  1.1330  1.5966 5.3600\n",
      "  a_society.1 -1.7513 -0.3524 -0.1885 -0.0421 0.9630\n",
      "  a_society.2 -0.8010 -0.0905  0.0333  0.1711 0.9686\n",
      "  a_society.3 -0.7551 -0.1542 -0.0407  0.0804 0.6595\n",
      "  a_society.4 -0.2263  0.1947  0.3175  0.4529 1.1165\n",
      "  a_society.5 -0.5611 -0.0711  0.0388  0.1476 0.8158\n",
      "  a_society.6 -1.1728 -0.4512 -0.3021 -0.1746 0.2891\n",
      "  a_society.7 -0.5227  0.0347  0.1454  0.2600 0.8239\n",
      "  a_society.8 -0.9743 -0.2809 -0.1610 -0.0438 0.5026\n",
      "  a_society.9 -0.3507  0.1585  0.2701  0.3914 1.2915\n",
      " a_society.10 -1.5436 -0.2438 -0.0774  0.0814 1.8679\n",
      "           bp -0.2370  0.2086  0.2574  0.3070 0.6096\n",
      "sigma_society  0.0233  0.2233  0.2898  0.3716 1.1289\n",
      "\n"
     ]
    }
   ],
   "cell_type": "code",
   "source": [
    "describe(chn)"
   ],
   "metadata": {},
   "execution_count": 6
  },
  {
   "outputs": [],
   "cell_type": "markdown",
   "source": [
    "*This notebook was generated using [Literate.jl](https://github.com/fredrikekre/Literate.jl).*"
   ],
   "metadata": {}
  }
 ],
 "nbformat_minor": 3,
 "metadata": {
  "language_info": {
   "file_extension": ".jl",
   "mimetype": "application/julia",
   "name": "julia",
   "version": "1.2.0-DEV.462"
  },
  "kernelspec": {
   "name": "julia-1.2",
   "display_name": "Julia 1.2.0-DEV.462",
   "language": "julia"
  }
 },
 "nbformat": 4
}
