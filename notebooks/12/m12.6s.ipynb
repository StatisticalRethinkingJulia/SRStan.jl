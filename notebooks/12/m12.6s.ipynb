{
 "cells": [
  {
   "outputs": [
    {
     "output_type": "execute_result",
     "data": {
      "text/plain": "(10, 5)"
     },
     "metadata": {},
     "execution_count": 1
    }
   ],
   "cell_type": "code",
   "source": [
    "using StanModels\n",
    "\n",
    "ProjDir = rel_path_s(\"..\", \"scripts\", \"12\")\n",
    "cd(ProjDir)\n",
    "\n",
    "d = CSV.read(rel_path( \"..\", \"data\",  \"Kline.csv\"), delim=';');\n",
    "size(d) # Should be 10x5"
   ],
   "metadata": {},
   "execution_count": 1
  },
  {
   "outputs": [],
   "cell_type": "markdown",
   "source": [
    "New col log_pop, set log() for population data"
   ],
   "metadata": {}
  },
  {
   "outputs": [],
   "cell_type": "code",
   "source": [
    "d[:log_pop] = map((x) -> log(x), d[:population]);\n",
    "d[:society] = 1:10;\n",
    "first(d[[:culture, :population, :log_pop, :society]], 5)\n",
    "\n",
    "m12_6 = \"\n",
    "data {\n",
    "    int N;\n",
    "    int N_societies;\n",
    "    int total_tools[N];\n",
    "    real logpop[N];\n",
    "    int society[N];\n",
    "}\n",
    "parameters{\n",
    "    real a;\n",
    "    real bp;\n",
    "    vector[N_societies] a_society;\n",
    "    real<lower=0> sigma_society;\n",
    "}\n",
    "model{\n",
    "    vector[N_societies] mu;\n",
    "    sigma_society ~ cauchy( 0 , 1 );\n",
    "    a_society ~ normal( 0 , sigma_society );\n",
    "    bp ~ normal( 0 , 1 );\n",
    "    a ~ normal( 0 , 10 );\n",
    "    for ( i in 1:N ) {\n",
    "        mu[i] = a + a_society[society[i]] + bp * logpop[i];\n",
    "        mu[i] = exp(mu[i]);\n",
    "    }\n",
    "    total_tools ~ poisson( mu );\n",
    "}\n",
    "\";"
   ],
   "metadata": {},
   "execution_count": 2
  },
  {
   "outputs": [],
   "cell_type": "markdown",
   "source": [
    "Define the Stanmodel and set the output format to :mcmcchains."
   ],
   "metadata": {}
  },
  {
   "outputs": [
    {
     "name": "stdout",
     "output_type": "stream",
     "text": [
      "\n",
      "File /Users/rob/.julia/dev/StanModels/scripts/12/tmp/m12.6.stan will be updated.\n",
      "\n"
     ]
    }
   ],
   "cell_type": "code",
   "source": [
    "stanmodel = Stanmodel(name=\"m12.6\",  model=m12_6, output_format=:mcmcchains);"
   ],
   "metadata": {},
   "execution_count": 3
  },
  {
   "outputs": [],
   "cell_type": "markdown",
   "source": [
    "Input data for cmdstan"
   ],
   "metadata": {}
  },
  {
   "outputs": [],
   "cell_type": "code",
   "source": [
    "m12_6_data = Dict(\"N\" => size(d, 1),\"N_societies\" => 10,\n",
    "\"total_tools\" => d[:total_tools], \"logpop\" => d[:log_pop],\n",
    "\"society\" => d[:society]);"
   ],
   "metadata": {},
   "execution_count": 4
  },
  {
   "outputs": [],
   "cell_type": "markdown",
   "source": [
    "Sample using cmdstan"
   ],
   "metadata": {}
  },
  {
   "outputs": [],
   "cell_type": "code",
   "source": [
    "rc, chn, cnames = stan(stanmodel, m12_6_data, ProjDir, diagnostics=false, summary=false, CmdStanDir=CMDSTAN_HOME);"
   ],
   "metadata": {},
   "execution_count": 5
  },
  {
   "outputs": [],
   "cell_type": "markdown",
   "source": [
    "Describe the draws"
   ],
   "metadata": {}
  },
  {
   "outputs": [
    {
     "name": "stdout",
     "output_type": "stream",
     "text": [
      "Log evidence      = 0.0\n",
      "Iterations        = 1:1000\n",
      "Thinning interval = 1\n",
      "Chains            = Chain1, Chain2, Chain3, Chain4\n",
      "Samples per chain = 1000\n",
      "parameters        = a, bp, a_society.1, a_society.2, a_society.3, a_society.4, a_society.5, a_society.6, a_society.7, a_society.8, a_society.9, a_society.10, sigma_society\n",
      "\n",
      "Empirical Posterior Estimates:\n",
      "====================================================\n",
      "parameters\n",
      "                Mean    SD   Naive SE  MCSE   ESS\n",
      "            a  1.0912 0.7873   0.0124 0.0232 1000\n",
      "  a_society.1 -0.2022 0.2464   0.0039 0.0061 1000\n",
      "  a_society.2  0.0501 0.2292   0.0036 0.0058 1000\n",
      "  a_society.3 -0.0410 0.1982   0.0031 0.0048 1000\n",
      "  a_society.4  0.3404 0.1992   0.0031 0.0049 1000\n",
      "  a_society.5  0.0505 0.1808   0.0029 0.0039 1000\n",
      "  a_society.6 -0.3224 0.2067   0.0033 0.0057 1000\n",
      "  a_society.7  0.1567 0.1784   0.0028 0.0039 1000\n",
      "  a_society.8 -0.1687 0.1881   0.0030 0.0044 1000\n",
      "  a_society.9  0.2836 0.1859   0.0029 0.0040 1000\n",
      " a_society.10 -0.0892 0.3145   0.0050 0.0090 1000\n",
      "           bp  0.2612 0.0862   0.0014 0.0025 1000\n",
      "sigma_society  0.3195 0.1330   0.0021 0.0039 1000\n",
      "\n",
      "Quantiles:\n",
      "====================================================\n",
      "parameters\n",
      "                2.5%   25.0%   50.0%   75.0%   97.5%\n",
      "            a -2.4772  0.6305  1.0889  1.5546 6.1967\n",
      "  a_society.1 -1.7379 -0.3496 -0.1901 -0.0369 0.6876\n",
      "  a_society.2 -1.1342 -0.0911  0.0482  0.1933 1.2922\n",
      "  a_society.3 -1.1112 -0.1628 -0.0363  0.0870 0.7253\n",
      "  a_society.4 -0.3486  0.2001  0.3301  0.4694 1.2366\n",
      "  a_society.5 -0.6289 -0.0659  0.0438  0.1623 0.9054\n",
      "  a_society.6 -1.2266 -0.4540 -0.3109 -0.1758 0.5637\n",
      "  a_society.7 -0.6304  0.0395  0.1463  0.2640 1.1309\n",
      "  a_society.8 -0.8198 -0.2871 -0.1616 -0.0433 0.9886\n",
      "  a_society.9 -0.3075  0.1620  0.2696  0.3946 1.2424\n",
      " a_society.10 -1.5608 -0.2650 -0.0863  0.0771 1.7240\n",
      "           bp -0.2698  0.2108  0.2612  0.3124 0.6475\n",
      "sigma_society  0.0467  0.2280  0.2983  0.3905 1.7010\n",
      "\n"
     ]
    }
   ],
   "cell_type": "code",
   "source": [
    "describe(chn)"
   ],
   "metadata": {},
   "execution_count": 6
  },
  {
   "outputs": [],
   "cell_type": "markdown",
   "source": [
    "*This notebook was generated using [Literate.jl](https://github.com/fredrikekre/Literate.jl).*"
   ],
   "metadata": {}
  }
 ],
 "nbformat_minor": 3,
 "metadata": {
  "language_info": {
   "file_extension": ".jl",
   "mimetype": "application/julia",
   "name": "julia",
   "version": "1.2.0-DEV.406"
  },
  "kernelspec": {
   "name": "julia-1.2",
   "display_name": "Julia 1.2.0-DEV.406",
   "language": "julia"
  }
 },
 "nbformat": 4
}
