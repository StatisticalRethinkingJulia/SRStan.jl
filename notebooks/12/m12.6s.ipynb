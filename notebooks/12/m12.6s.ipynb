{
 "cells": [
  {
   "outputs": [
    {
     "output_type": "execute_result",
     "data": {
      "text/plain": "(10, 5)"
     },
     "metadata": {},
     "execution_count": 1
    }
   ],
   "cell_type": "code",
   "source": [
    "using StanModels\n",
    "\n",
    "ProjDir = rel_path_s(\"..\", \"scripts\", \"12\")\n",
    "cd(ProjDir)\n",
    "\n",
    "d = CSV.read(rel_path( \"..\", \"data\",  \"Kline.csv\"), delim=';');\n",
    "size(d) # Should be 10x5"
   ],
   "metadata": {},
   "execution_count": 1
  },
  {
   "outputs": [],
   "cell_type": "markdown",
   "source": [
    "New col log_pop, set log() for population data"
   ],
   "metadata": {}
  },
  {
   "outputs": [],
   "cell_type": "code",
   "source": [
    "d[:log_pop] = map((x) -> log(x), d[:population]);\n",
    "d[:society] = 1:10;\n",
    "first(d[[:culture, :population, :log_pop, :society]], 5)\n",
    "\n",
    "m12_6 = \"\n",
    "data {\n",
    "    int N;\n",
    "    int N_societies;\n",
    "    int total_tools[N];\n",
    "    real logpop[N];\n",
    "    int society[N];\n",
    "}\n",
    "parameters{\n",
    "    real a;\n",
    "    real bp;\n",
    "    vector[N_societies] a_society;\n",
    "    real<lower=0> sigma_society;\n",
    "}\n",
    "model{\n",
    "    vector[N_societies] mu;\n",
    "    sigma_society ~ cauchy( 0 , 1 );\n",
    "    a_society ~ normal( 0 , sigma_society );\n",
    "    bp ~ normal( 0 , 1 );\n",
    "    a ~ normal( 0 , 10 );\n",
    "    for ( i in 1:N ) {\n",
    "        mu[i] = a + a_society[society[i]] + bp * logpop[i];\n",
    "        mu[i] = exp(mu[i]);\n",
    "    }\n",
    "    total_tools ~ poisson( mu );\n",
    "}\n",
    "\";"
   ],
   "metadata": {},
   "execution_count": 2
  },
  {
   "outputs": [],
   "cell_type": "markdown",
   "source": [
    "Define the Stanmodel and set the output format to :mcmcchain."
   ],
   "metadata": {}
  },
  {
   "outputs": [
    {
     "name": "stdout",
     "output_type": "stream",
     "text": [
      "\n",
      "File /Users/rob/.julia/dev/StanModels/scripts/12/tmp/m12.6.stan will be updated.\n",
      "\n"
     ]
    }
   ],
   "cell_type": "code",
   "source": [
    "stanmodel = Stanmodel(name=\"m12.6\",  model=m12_6, output_format=:mcmcchain);"
   ],
   "metadata": {},
   "execution_count": 3
  },
  {
   "outputs": [],
   "cell_type": "markdown",
   "source": [
    "Input data for cmdstan"
   ],
   "metadata": {}
  },
  {
   "outputs": [],
   "cell_type": "code",
   "source": [
    "m12_6_data = Dict(\"N\" => size(d, 1),\"N_societies\" => 10,\n",
    "\"total_tools\" => d[:total_tools], \"logpop\" => d[:log_pop],\n",
    "\"society\" => d[:society]);"
   ],
   "metadata": {},
   "execution_count": 4
  },
  {
   "outputs": [],
   "cell_type": "markdown",
   "source": [
    "Sample using cmdstan"
   ],
   "metadata": {}
  },
  {
   "outputs": [
    {
     "name": "stdout",
     "output_type": "stream",
     "text": [
      "Informational Message: The current Metropolis proposal is about to be rejected because of the following issue:\n",
      "Exception: normal_lpdf: Scale parameter is 0, but must be > 0!  (in '/Users/rob/.julia/dev/StanModels/scripts/12/tmp/m12.6.stan' at line 17)\n",
      "\n",
      "If this warning occurs sporadically, such as for highly constrained variable types like covariance matrices, then the sampler is fine,\n",
      "but if this warning occurs often then your model may be either severely ill-conditioned or misspecified.\n",
      "\n",
      "Informational Message: The current Metropolis proposal is about to be rejected because of the following issue:\n",
      "Exception: normal_lpdf: Scale parameter is 0, but must be > 0!  (in '/Users/rob/.julia/dev/StanModels/scripts/12/tmp/m12.6.stan' at line 17)\n",
      "\n",
      "If this warning occurs sporadically, such as for highly constrained variable types like covariance matrices, then the sampler is fine,\n",
      "but if this warning occurs often then your model may be either severely ill-conditioned or misspecified.\n",
      "\n"
     ]
    }
   ],
   "cell_type": "code",
   "source": [
    "rc, chn, cnames = stan(stanmodel, m12_6_data, ProjDir, diagnostics=false, summary=false, CmdStanDir=CMDSTAN_HOME);"
   ],
   "metadata": {},
   "execution_count": 5
  },
  {
   "outputs": [],
   "cell_type": "markdown",
   "source": [
    "Describe the draws"
   ],
   "metadata": {}
  },
  {
   "outputs": [
    {
     "name": "stdout",
     "output_type": "stream",
     "text": [
      "Iterations = 1:1000\n",
      "Thinning interval = 1\n",
      "Chains = 1,2,3,4\n",
      "Samples per chain = 1000\n",
      "\n",
      "Empirical Posterior Estimates:\n",
      "                   Mean            SD         Naive SE        MCSE         ESS    \n",
      "         lp__  927.984290500  3.0451569045 0.048148158253 0.0998707692  929.699421\n",
      "accept_stat__    0.940335511  0.0831214800 0.001314265997 0.0014697124 1000.000000\n",
      "   stepsize__    0.053168800  0.0019641763 0.000031056354 0.0003144806   39.009752\n",
      "  treedepth__    5.818000000  0.4630654461 0.007321707578 0.0113069074 1000.000000\n",
      " n_leapfrog__   68.450000000 29.0868528936 0.459903525550 0.6649137210 1000.000000\n",
      "  divergent__    0.000000000  0.0000000000 0.000000000000 0.0000000000         NaN\n",
      "     energy__ -921.484384500  3.9624337964 0.062651579371 0.1239145894 1000.000000\n",
      "            a    1.097854504  0.7026094681 0.011109231124 0.0235815521  887.734752\n",
      "           bp    0.260969592  0.0758161757 0.001198758994 0.0025237497  902.466713\n",
      "  a_society.1   -0.197211604  0.2373795407 0.003753300092 0.0063853095 1000.000000\n",
      "  a_society.2    0.040164827  0.2163392670 0.003420624155 0.0055193152 1000.000000\n",
      "  a_society.3   -0.045993804  0.1911815792 0.003022846185 0.0042692697 1000.000000\n",
      "  a_society.4    0.329049565  0.1900634579 0.003005167134 0.0040290209 1000.000000\n",
      "  a_society.5    0.044451178  0.1737925409 0.002747901347 0.0043052801 1000.000000\n",
      "  a_society.6   -0.315551886  0.2032911142 0.003214314744 0.0046861713 1000.000000\n",
      "  a_society.7    0.148120275  0.1727378991 0.002731225997 0.0039122217 1000.000000\n",
      "  a_society.8   -0.167293491  0.1796435320 0.002840413640 0.0045375543 1000.000000\n",
      "  a_society.9    0.278876572  0.1752999534 0.002771735633 0.0045604215 1000.000000\n",
      " a_society.10   -0.091703631  0.2745983216 0.004341780690 0.0084320755 1000.000000\n",
      "sigma_society    0.306379660  0.1256552405 0.001986783799 0.0033410456 1000.000000\n",
      "\n",
      "Quantiles:\n",
      "                   2.5%          25.0%         50.0%          75.0%          97.5%    \n",
      "         lp__  921.307875000  926.18150000  928.22450000  930.039250000  933.245100000\n",
      "accept_stat__    0.700824925    0.91864650    0.97529750    0.995775000    0.999961000\n",
      "   stepsize__    0.051276800    0.05169920    0.05252730    0.053996900    0.056343800\n",
      "  treedepth__    5.000000000    6.00000000    6.00000000    6.000000000    6.000000000\n",
      " n_leapfrog__   31.000000000   63.00000000   63.00000000   63.000000000  127.000000000\n",
      "  divergent__    0.000000000    0.00000000    0.00000000    0.000000000    0.000000000\n",
      "     energy__ -928.531100000 -924.21325000 -921.71100000 -919.118000000 -912.918950000\n",
      "            a   -0.280849400    0.63368400    1.10927500    1.540342500    2.509224750\n",
      "           bp    0.107180450    0.21414325    0.26057950    0.309432250    0.411315500\n",
      "  a_society.1   -0.685732275   -0.34336975   -0.18092600   -0.040447250    0.227545750\n",
      "  a_society.2   -0.370940900   -0.09286695    0.03362225    0.169832000    0.486766250\n",
      "  a_society.3   -0.439992650   -0.16773800   -0.03817730    0.077300275    0.328510700\n",
      "  a_society.4   -0.018692140    0.19868275    0.32278050    0.451090000    0.721331600\n",
      "  a_society.5   -0.288769475   -0.06835430    0.04299030    0.155550250    0.389144650\n",
      "  a_society.6   -0.741741850   -0.44374100   -0.30189650   -0.175175250    0.043405115\n",
      "  a_society.7   -0.182297350    0.03093615    0.14223000    0.262418500    0.493662000\n",
      "  a_society.8   -0.557443775   -0.27725600   -0.15842150   -0.046630925    0.163915800\n",
      "  a_society.9   -0.027680092    0.16029900    0.27076550    0.390220000    0.652884275\n",
      " a_society.10   -0.650611450   -0.25678850   -0.08733490    0.069052350    0.439278025\n",
      "sigma_society    0.113757500    0.22102275    0.28915850    0.369744000    0.590880375\n",
      "\n"
     ]
    }
   ],
   "cell_type": "code",
   "source": [
    "describe(chn)"
   ],
   "metadata": {},
   "execution_count": 6
  },
  {
   "outputs": [],
   "cell_type": "markdown",
   "source": [
    "*This notebook was generated using [Literate.jl](https://github.com/fredrikekre/Literate.jl).*"
   ],
   "metadata": {}
  }
 ],
 "nbformat_minor": 3,
 "metadata": {
  "language_info": {
   "file_extension": ".jl",
   "mimetype": "application/julia",
   "name": "julia",
   "version": "1.2.0-DEV.281"
  },
  "kernelspec": {
   "name": "julia-1.2",
   "display_name": "Julia 1.2.0-DEV.281",
   "language": "julia"
  }
 },
 "nbformat": 4
}
