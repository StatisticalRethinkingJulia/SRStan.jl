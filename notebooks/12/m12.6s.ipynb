{
 "cells": [
  {
   "outputs": [
    {
     "output_type": "execute_result",
     "data": {
      "text/plain": "(10, 5)"
     },
     "metadata": {},
     "execution_count": 1
    }
   ],
   "cell_type": "code",
   "source": [
    "using StanModels\n",
    "using CmdStan, StanMCMCChain\n",
    "\n",
    "ProjDir = rel_path_s(\"..\", \"scripts\", \"12\")\n",
    "cd(ProjDir)\n",
    "\n",
    "d = CSV.read(rel_path( \"..\", \"data\",  \"Kline.csv\"), delim=';');\n",
    "size(d) # Should be 10x5"
   ],
   "metadata": {},
   "execution_count": 1
  },
  {
   "outputs": [],
   "cell_type": "markdown",
   "source": [
    "New col log_pop, set log() for population data"
   ],
   "metadata": {}
  },
  {
   "outputs": [],
   "cell_type": "code",
   "source": [
    "d[:log_pop] = map((x) -> log(x), d[:population]);\n",
    "d[:society] = 1:10;\n",
    "first(d[[:culture, :population, :log_pop, :society]], 5)\n",
    "\n",
    "m12_6 = \"\n",
    "data {\n",
    "    int N;\n",
    "    int N_societies;\n",
    "    int total_tools[N];\n",
    "    real logpop[N];\n",
    "    int society[N];\n",
    "}\n",
    "parameters{\n",
    "    real a;\n",
    "    real bp;\n",
    "    vector[N_societies] a_society;\n",
    "    real<lower=0> sigma_society;\n",
    "}\n",
    "model{\n",
    "    vector[N_societies] mu;\n",
    "    sigma_society ~ cauchy( 0 , 1 );\n",
    "    a_society ~ normal( 0 , sigma_society );\n",
    "    bp ~ normal( 0 , 1 );\n",
    "    a ~ normal( 0 , 10 );\n",
    "    for ( i in 1:N ) {\n",
    "        mu[i] = a + a_society[society[i]] + bp * logpop[i];\n",
    "        mu[i] = exp(mu[i]);\n",
    "    }\n",
    "    total_tools ~ poisson( mu );\n",
    "}\n",
    "\";"
   ],
   "metadata": {},
   "execution_count": 2
  },
  {
   "outputs": [],
   "cell_type": "markdown",
   "source": [
    "Define the Stanmodel and set the output format to :mcmcchain."
   ],
   "metadata": {}
  },
  {
   "outputs": [],
   "cell_type": "code",
   "source": [
    "stanmodel = Stanmodel(name=\"m12.6\",  model=m12_6, output_format=:mcmcchain);"
   ],
   "metadata": {},
   "execution_count": 3
  },
  {
   "outputs": [],
   "cell_type": "markdown",
   "source": [
    "Input data for cmdstan"
   ],
   "metadata": {}
  },
  {
   "outputs": [],
   "cell_type": "code",
   "source": [
    "m12_6_data = Dict(\"N\" => size(d, 1),\"N_societies\" => 10,\n",
    "\"total_tools\" => d[:total_tools], \"logpop\" => d[:log_pop],\n",
    "\"society\" => d[:society]);"
   ],
   "metadata": {},
   "execution_count": 4
  },
  {
   "outputs": [],
   "cell_type": "markdown",
   "source": [
    "Sample using cmdstan"
   ],
   "metadata": {}
  },
  {
   "outputs": [],
   "cell_type": "code",
   "source": [
    "rc, chn, cnames = stan(stanmodel, m12_6_data, ProjDir, diagnostics=false, summary=false, CmdStanDir=CMDSTAN_HOME);"
   ],
   "metadata": {},
   "execution_count": 5
  },
  {
   "outputs": [],
   "cell_type": "markdown",
   "source": [
    "Describe the draws"
   ],
   "metadata": {}
  },
  {
   "outputs": [
    {
     "name": "stdout",
     "output_type": "stream",
     "text": [
      "Iterations = 1:1000\n",
      "Thinning interval = 1\n",
      "Chains = 1,2,3,4\n",
      "Samples per chain = 1000\n",
      "\n",
      "Empirical Posterior Estimates:\n",
      "                   Mean           SD        Naive SE         MCSE         ESS    \n",
      "         lp__  927.828355000  3.14161435 0.049673284361 0.11391184934  760.620346\n",
      "accept_stat__    0.937357280  0.08607389 0.001360947737 0.00186926599 1000.000000\n",
      "   stepsize__    0.055005450  0.00518057 0.000081911998 0.00082945135   39.009752\n",
      "  treedepth__    5.845250000  0.46835593 0.007405357466 0.01304325889 1000.000000\n",
      " n_leapfrog__   69.212000000 30.90504549 0.488651674626 0.82257157743 1000.000000\n",
      "  divergent__    0.000000000  0.00000000 0.000000000000 0.00000000000         NaN\n",
      "     energy__ -921.364402500  4.05188405 0.064065912117 0.14456084492  785.620238\n",
      "            a    1.131973004  0.77846283 0.012308578147 0.02325224831 1000.000000\n",
      "           bp    0.257828020  0.08476864 0.001340309830 0.00248302904 1000.000000\n",
      "  a_society.1   -0.209175907  0.24454095 0.003866531853 0.00677597047 1000.000000\n",
      "  a_society.2    0.038662766  0.22357654 0.003535055512 0.00596077940 1000.000000\n",
      "  a_society.3   -0.053120713  0.19902169 0.003146809236 0.00564643937 1000.000000\n",
      "  a_society.4    0.324891831  0.18978612 0.003000782038 0.00447064658 1000.000000\n",
      "  a_society.5    0.040031661  0.17621622 0.002786223042 0.00420754392 1000.000000\n",
      "  a_society.6   -0.316699272  0.21170047 0.003347278363 0.00521934821 1000.000000\n",
      "  a_society.7    0.146520642  0.17510015 0.002768576424 0.00425645090 1000.000000\n",
      "  a_society.8   -0.169915984  0.18916782 0.002991005833 0.00488522845 1000.000000\n",
      "  a_society.9    0.274823888  0.18061544 0.002855780923 0.00468458742 1000.000000\n",
      " a_society.10   -0.088288925  0.30405754 0.004807571787 0.00832084839 1000.000000\n",
      "sigma_society    0.310660699  0.13030251 0.002060263623 0.00391528722 1000.000000\n",
      "\n",
      "Quantiles:\n",
      "                   2.5%           25.0%         50.0%          75.0%         97.5%    \n",
      "         lp__  920.884975000  925.910250000  928.10650000  930.015500000  933.05422500\n",
      "accept_stat__    0.680534700    0.909878250    0.97505500    0.995903250    0.99997502\n",
      "   stepsize__    0.046109500    0.054256675    0.05752305    0.058271825    0.05886620\n",
      "  treedepth__    5.000000000    6.000000000    6.00000000    6.000000000    7.00000000\n",
      " n_leapfrog__   31.000000000   63.000000000   63.00000000   63.000000000  127.00000000\n",
      "  divergent__    0.000000000    0.000000000    0.00000000    0.000000000    0.00000000\n",
      "     energy__ -928.254250000 -924.238500000 -921.63300000 -918.852750000 -912.51775000\n",
      "            a   -0.481354300    0.693110250    1.15504000    1.597342500    2.64696925\n",
      "           bp    0.087942410    0.208680500    0.25492200    0.306316500    0.43551200\n",
      "  a_society.1   -0.741473025   -0.348088000   -0.18459650   -0.048049075    0.22305468\n",
      "  a_society.2   -0.391782875   -0.099809200    0.03760880    0.172997500    0.48953030\n",
      "  a_society.3   -0.468737225   -0.174065750   -0.04678930    0.075374800    0.32161540\n",
      "  a_society.4   -0.017642632    0.191217250    0.32094950    0.445828500    0.72435898\n",
      "  a_society.5   -0.313594475   -0.068589125    0.04015130    0.149510500    0.38941823\n",
      "  a_society.6   -0.778098150   -0.447842500   -0.29970750   -0.166056250    0.04294845\n",
      "  a_society.7   -0.198726550    0.032162850    0.14271050    0.259103500    0.50736550\n",
      "  a_society.8   -0.579122575   -0.283669500   -0.16115550   -0.044661575    0.18160595\n",
      "  a_society.9   -0.063159613    0.152402750    0.26502250    0.386757250    0.66200410\n",
      " a_society.10   -0.705505675   -0.261079000   -0.08181200    0.079848375    0.54620063\n",
      "sigma_society    0.115702150    0.221010750    0.29143650    0.377046500    0.61058033\n",
      "\n"
     ]
    }
   ],
   "cell_type": "code",
   "source": [
    "describe(chn)"
   ],
   "metadata": {},
   "execution_count": 6
  },
  {
   "outputs": [],
   "cell_type": "markdown",
   "source": [
    "*This notebook was generated using [Literate.jl](https://github.com/fredrikekre/Literate.jl).*"
   ],
   "metadata": {}
  }
 ],
 "nbformat_minor": 3,
 "metadata": {
  "language_info": {
   "file_extension": ".jl",
   "mimetype": "application/julia",
   "name": "julia",
   "version": "1.2.0-DEV.264"
  },
  "kernelspec": {
   "name": "julia-1.2",
   "display_name": "Julia 1.2.0-DEV.264",
   "language": "julia"
  }
 },
 "nbformat": 4
}
