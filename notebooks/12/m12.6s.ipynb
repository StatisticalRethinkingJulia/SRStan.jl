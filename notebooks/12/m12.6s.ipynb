{
 "cells": [
  {
   "outputs": [
    {
     "output_type": "execute_result",
     "data": {
      "text/plain": "(10, 5)"
     },
     "metadata": {},
     "execution_count": 1
    }
   ],
   "cell_type": "code",
   "source": [
    "using StanModels\n",
    "using CmdStan, StanMCMCChain\n",
    "\n",
    "ProjDir = rel_path_s(\"..\", \"scripts\", \"12\")\n",
    "cd(ProjDir)\n",
    "\n",
    "d = CSV.read(rel_path( \"..\", \"data\",  \"Kline.csv\"), delim=';');\n",
    "size(d) # Should be 10x5"
   ],
   "metadata": {},
   "execution_count": 1
  },
  {
   "outputs": [],
   "cell_type": "markdown",
   "source": [
    "New col log_pop, set log() for population data"
   ],
   "metadata": {}
  },
  {
   "outputs": [],
   "cell_type": "code",
   "source": [
    "d[:log_pop] = map((x) -> log(x), d[:population]);\n",
    "d[:society] = 1:10;\n",
    "first(d[[:culture, :population, :log_pop, :society]], 5)\n",
    "\n",
    "m12_6 = \"\n",
    "data {\n",
    "    int N;\n",
    "    int N_societies;\n",
    "    int total_tools[N];\n",
    "    real logpop[N];\n",
    "    int society[N];\n",
    "}\n",
    "parameters{\n",
    "    real a;\n",
    "    real bp;\n",
    "    vector[N_societies] a_society;\n",
    "    real<lower=0> sigma_society;\n",
    "}\n",
    "model{\n",
    "    vector[N_societies] mu;\n",
    "    sigma_society ~ cauchy( 0 , 1 );\n",
    "    a_society ~ normal( 0 , sigma_society );\n",
    "    bp ~ normal( 0 , 1 );\n",
    "    a ~ normal( 0 , 10 );\n",
    "    for ( i in 1:N ) {\n",
    "        mu[i] = a + a_society[society[i]] + bp * logpop[i];\n",
    "        mu[i] = exp(mu[i]);\n",
    "    }\n",
    "    total_tools ~ poisson( mu );\n",
    "}\n",
    "\";"
   ],
   "metadata": {},
   "execution_count": 2
  },
  {
   "outputs": [],
   "cell_type": "markdown",
   "source": [
    "Define the Stanmodel and set the output format to :mcmcchain."
   ],
   "metadata": {}
  },
  {
   "outputs": [
    {
     "name": "stdout",
     "output_type": "stream",
     "text": [
      "\n",
      "File /Users/rob/.julia/dev/StanModels/scripts/12/tmp/m12.6.stan will be updated.\n",
      "\n"
     ]
    }
   ],
   "cell_type": "code",
   "source": [
    "stanmodel = Stanmodel(name=\"m12.6\",  model=m12_6, output_format=:mcmcchain);"
   ],
   "metadata": {},
   "execution_count": 3
  },
  {
   "outputs": [],
   "cell_type": "markdown",
   "source": [
    "Input data for cmdstan"
   ],
   "metadata": {}
  },
  {
   "outputs": [],
   "cell_type": "code",
   "source": [
    "m12_6_data = Dict(\"N\" => size(d, 1),\"N_societies\" => 10,\n",
    "\"total_tools\" => d[:total_tools], \"logpop\" => d[:log_pop],\n",
    "\"society\" => d[:society]);"
   ],
   "metadata": {},
   "execution_count": 4
  },
  {
   "outputs": [],
   "cell_type": "markdown",
   "source": [
    "Sample using cmdstan"
   ],
   "metadata": {}
  },
  {
   "outputs": [
    {
     "name": "stdout",
     "output_type": "stream",
     "text": [
      "Informational Message: The current Metropolis proposal is about to be rejected because of the following issue:\n",
      "Exception: normal_lpdf: Scale parameter is 0, but must be > 0!  (in '/Users/rob/.julia/dev/StanModels/scripts/12/tmp/m12.6.stan' at line 17)\n",
      "\n",
      "If this warning occurs sporadically, such as for highly constrained variable types like covariance matrices, then the sampler is fine,\n",
      "but if this warning occurs often then your model may be either severely ill-conditioned or misspecified.\n",
      "\n"
     ]
    }
   ],
   "cell_type": "code",
   "source": [
    "rc, chn, cnames = stan(stanmodel, m12_6_data, ProjDir, diagnostics=false, summary=false, CmdStanDir=CMDSTAN_HOME);"
   ],
   "metadata": {},
   "execution_count": 5
  },
  {
   "outputs": [],
   "cell_type": "markdown",
   "source": [
    "Describe the draws"
   ],
   "metadata": {}
  },
  {
   "outputs": [
    {
     "name": "stdout",
     "output_type": "stream",
     "text": [
      "Iterations = 1:1000\n",
      "Thinning interval = 1\n",
      "Chains = 1,2,3,4\n",
      "Samples per chain = 1000\n",
      "\n",
      "Empirical Posterior Estimates:\n",
      "                   Mean            SD         Naive SE        MCSE         ESS    \n",
      "         lp__  928.006257500  3.0618467579 0.048412048006 0.0980132660  975.881714\n",
      "accept_stat__    0.930488503  0.0956354165 0.001512128706 0.0019565594 1000.000000\n",
      "   stepsize__    0.056599500  0.0031152208 0.000049255966 0.0004987722   39.009752\n",
      "  treedepth__    5.796000000  0.4684430165 0.007406734431 0.0121939455 1000.000000\n",
      " n_leapfrog__   66.154000000 27.3006706081 0.431661503859 0.6449926257 1000.000000\n",
      "  divergent__    0.000000000  0.0000000000 0.000000000000 0.0000000000         NaN\n",
      "     energy__ -921.543517000  3.9773669610 0.062887693436 0.1156483820 1000.000000\n",
      "            a    1.086289644  0.7284432427 0.011517698966 0.0239918454  921.858214\n",
      "           bp    0.261935929  0.0785957315 0.001242707630 0.0025971780  915.787048\n",
      "  a_society.1   -0.195565764  0.2429783309 0.003841824738 0.0054586060 1000.000000\n",
      "  a_society.2    0.048288998  0.2153619406 0.003405171268 0.0056755522 1000.000000\n",
      "  a_society.3   -0.040554697  0.1944422059 0.003074401220 0.0034565840 1000.000000\n",
      "  a_society.4    0.333006678  0.1898376591 0.003001596943 0.0040565232 1000.000000\n",
      "  a_society.5    0.049788230  0.1780170502 0.002814696705 0.0038145797 1000.000000\n",
      "  a_society.6   -0.311676796  0.2081199687 0.003290665639 0.0048002278 1000.000000\n",
      "  a_society.7    0.148458441  0.1760438918 0.002783498331 0.0035473152 1000.000000\n",
      "  a_society.8   -0.164233075  0.1850467287 0.002925845681 0.0035136837 1000.000000\n",
      "  a_society.9    0.278914969  0.1758827547 0.002780950531 0.0043328282 1000.000000\n",
      " a_society.10   -0.087932187  0.2813021910 0.004447778171 0.0086132441 1000.000000\n",
      "sigma_society    0.306170900  0.1282275190 0.002027455095 0.0041418401  958.464016\n",
      "\n",
      "Quantiles:\n",
      "                   2.5%           25.0%         50.0%          75.0%         97.5%    \n",
      "         lp__  921.223725000  926.199500000  928.34700000  930.145750000  933.03905000\n",
      "accept_stat__    0.653355700    0.903882750    0.97267050    0.995296250    0.99995705\n",
      "   stepsize__    0.052055500    0.054889825    0.05688440    0.058594075    0.06057370\n",
      "  treedepth__    5.000000000    6.000000000    6.00000000    6.000000000    6.00000000\n",
      " n_leapfrog__   31.000000000   63.000000000   63.00000000   63.000000000  127.00000000\n",
      "  divergent__    0.000000000    0.000000000    0.00000000    0.000000000    0.00000000\n",
      "     energy__ -928.231350000 -924.331000000 -921.83750000 -919.076750000 -912.92935000\n",
      "            a   -0.416096175    0.663469500    1.09994500    1.537400000    2.48035050\n",
      "           bp    0.111058125    0.212908250    0.26088550    0.307595250    0.42823240\n",
      "  a_society.1   -0.725243550   -0.340096250   -0.17641250   -0.041353950    0.24258648\n",
      "  a_society.2   -0.368977325   -0.088317575    0.03874965    0.177623000    0.51141923\n",
      "  a_society.3   -0.425797650   -0.158705000   -0.04004570    0.080199400    0.35151480\n",
      "  a_society.4   -0.010639230    0.202677000    0.32463600    0.452643500    0.73507650\n",
      "  a_society.5   -0.295977350   -0.066689225    0.04386035    0.162825250    0.41199500\n",
      "  a_society.6   -0.766908400   -0.432031500   -0.29512650   -0.172720500    0.05689096\n",
      "  a_society.7   -0.175125300    0.031246325    0.14018450    0.258453250    0.50802270\n",
      "  a_society.8   -0.551522000   -0.275338750   -0.15677750   -0.043466450    0.18512563\n",
      "  a_society.9   -0.027572202    0.162041500    0.26667450    0.381715000    0.64941615\n",
      " a_society.10   -0.679844075   -0.249361500   -0.08307495    0.077596875    0.47055675\n",
      "sigma_society    0.123027750    0.217239000    0.28398750    0.369148500    0.61944900\n",
      "\n"
     ]
    }
   ],
   "cell_type": "code",
   "source": [
    "describe(chn)"
   ],
   "metadata": {},
   "execution_count": 6
  },
  {
   "outputs": [],
   "cell_type": "markdown",
   "source": [
    "*This notebook was generated using [Literate.jl](https://github.com/fredrikekre/Literate.jl).*"
   ],
   "metadata": {}
  }
 ],
 "nbformat_minor": 3,
 "metadata": {
  "language_info": {
   "file_extension": ".jl",
   "mimetype": "application/julia",
   "name": "julia",
   "version": "1.2.0-DEV.270"
  },
  "kernelspec": {
   "name": "julia-1.2",
   "display_name": "Julia 1.2.0-DEV.270",
   "language": "julia"
  }
 },
 "nbformat": 4
}
