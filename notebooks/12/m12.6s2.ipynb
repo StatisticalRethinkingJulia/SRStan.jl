{
 "cells": [
  {
   "outputs": [
    {
     "output_type": "execute_result",
     "data": {
      "text/plain": "(10, 5)"
     },
     "metadata": {},
     "execution_count": 1
    }
   ],
   "cell_type": "code",
   "source": [
    "using StanModels\n",
    "\n",
    "ProjDir = rel_path_s(\"..\", \"scripts\", \"12\")\n",
    "\n",
    "d = CSV.read(rel_path( \"..\", \"data\",  \"Kline.csv\"), delim=';');\n",
    "size(d) # Should be 10x5"
   ],
   "metadata": {},
   "execution_count": 1
  },
  {
   "outputs": [],
   "cell_type": "markdown",
   "source": [
    "New col log_pop, set log() for population data"
   ],
   "metadata": {}
  },
  {
   "outputs": [],
   "cell_type": "code",
   "source": [
    "d[:log_pop] = map((x) -> log(x), d[:population]);\n",
    "d[:society] = 1:10;\n",
    "\n",
    "first(d, 5)\n",
    "\n",
    "m12_6_2 = \"\n",
    "  data {\n",
    "    int N;\n",
    "    int T[N];\n",
    "    int N_societies;\n",
    "    int society[N];\n",
    "    int P[N];\n",
    "  }\n",
    "  parameters {\n",
    "    real alpha;\n",
    "    vector[N_societies] a_society;\n",
    "    real bp;\n",
    "    real<lower=0> sigma_society;\n",
    "  }\n",
    "  model {\n",
    "    vector[N] mu;\n",
    "    target += normal_lpdf(alpha | 0, 10);\n",
    "    target += normal_lpdf(bp | 0, 1);\n",
    "    target += cauchy_lpdf(sigma_society | 0, 1);\n",
    "    target += normal_lpdf(a_society | 0, sigma_society);\n",
    "    for(i in 1:N) mu[i] = alpha + a_society[society[i]] + bp * log(P[i]);\n",
    "    target += poisson_log_lpmf(T | mu);\n",
    "  }\n",
    "  generated quantities {\n",
    "    vector[N] log_lik;\n",
    "    {\n",
    "    vector[N] mu;\n",
    "    for(i in 1:N) {\n",
    "      mu[i] = alpha + a_society[society[i]] + bp * log(P[i]);\n",
    "      log_lik[i] = poisson_log_lpmf(T[i] | mu[i]);\n",
    "    }\n",
    "    }\n",
    "  }\n",
    "\";"
   ],
   "metadata": {},
   "execution_count": 2
  },
  {
   "outputs": [],
   "cell_type": "markdown",
   "source": [
    "Define the Stanmodel and set the output format to :mcmcchains."
   ],
   "metadata": {}
  },
  {
   "outputs": [],
   "cell_type": "code",
   "source": [
    "stanmodel = Stanmodel(name=\"m12.6.2\",  model=m12_6_2,\n",
    "output_format=:mcmcchains);"
   ],
   "metadata": {},
   "execution_count": 3
  },
  {
   "outputs": [],
   "cell_type": "markdown",
   "source": [
    "Input data for cmdstan"
   ],
   "metadata": {}
  },
  {
   "outputs": [],
   "cell_type": "code",
   "source": [
    "m12_6_2_data = Dict(\"N\" => size(d, 1), \"T\" => d[:total_tools],\n",
    "\"N_societies\" => 10, \"society\" => d[:society], \"P\" => d[:population]);"
   ],
   "metadata": {},
   "execution_count": 4
  },
  {
   "outputs": [],
   "cell_type": "markdown",
   "source": [
    "Sample using cmdstan"
   ],
   "metadata": {}
  },
  {
   "outputs": [],
   "cell_type": "code",
   "source": [
    "rc, chn, cnames = stan(stanmodel, m12_6_2_data, ProjDir,\n",
    "diagnostics=false, summary=false, CmdStanDir=CMDSTAN_HOME);"
   ],
   "metadata": {},
   "execution_count": 5
  },
  {
   "outputs": [],
   "cell_type": "markdown",
   "source": [
    "Describe the draws"
   ],
   "metadata": {}
  },
  {
   "outputs": [
    {
     "name": "stdout",
     "output_type": "stream",
     "text": [
      "Log evidence      = 0.0\n",
      "Iterations        = 1:1000\n",
      "Thinning interval = 1\n",
      "Chains            = Chain1, Chain2, Chain3, Chain4\n",
      "Samples per chain = 1000\n",
      "parameters        = alpha, a_society.1, a_society.2, a_society.3, a_society.4, a_society.5, a_society.6, a_society.7, a_society.8, a_society.9, a_society.10, bp, sigma_society, log_lik.1, log_lik.2, log_lik.3, log_lik.4, log_lik.5, log_lik.6, log_lik.7, log_lik.8, log_lik.9, log_lik.10\n",
      "\n",
      "Empirical Posterior Estimates:\n",
      "======================================================\n",
      "parameters\n",
      "                Mean    SD   Naive SE  MCSE     ESS   \n",
      "  a_society.1 -0.1992 0.2447   0.0039 0.0067 1000.0000\n",
      "  a_society.2  0.0462 0.2209   0.0035 0.0049 1000.0000\n",
      "  a_society.3 -0.0487 0.1943   0.0031 0.0042 1000.0000\n",
      "  a_society.4  0.3245 0.1899   0.0030 0.0063  903.1970\n",
      "  a_society.5  0.0437 0.1779   0.0028 0.0037 1000.0000\n",
      "  a_society.6 -0.3110 0.2069   0.0033 0.0057 1000.0000\n",
      "  a_society.7  0.1404 0.1744   0.0028 0.0042 1000.0000\n",
      "  a_society.8 -0.1678 0.1785   0.0028 0.0044 1000.0000\n",
      "  a_society.9  0.2730 0.1773   0.0028 0.0053 1000.0000\n",
      " a_society.10 -0.0929 0.2949   0.0047 0.0093 1000.0000\n",
      "        alpha  1.1031 0.7538   0.0119 0.0235 1000.0000\n",
      "           bp  0.2607 0.0821   0.0013 0.0026 1000.0000\n",
      "    log_lik.1 -2.7825 0.7270   0.0115 0.0169 1000.0000\n",
      "    log_lik.2 -2.8349 0.5214   0.0082 0.0126 1000.0000\n",
      "    log_lik.3 -2.8727 0.5317   0.0084 0.0145 1000.0000\n",
      "    log_lik.4 -3.5778 0.9463   0.0150 0.0341  769.3255\n",
      "    log_lik.5 -3.0489 0.5431   0.0086 0.0139 1000.0000\n",
      "    log_lik.6 -3.2024 0.9279   0.0147 0.0348  710.0971\n",
      "    log_lik.7 -3.2416 0.6007   0.0095 0.0154 1000.0000\n",
      "    log_lik.8 -3.0423 0.6262   0.0099 0.0120 1000.0000\n",
      "    log_lik.9 -3.5766 0.8661   0.0137 0.0289  899.9341\n",
      "   log_lik.10 -3.5343 0.6713   0.0106 0.0151 1000.0000\n",
      "sigma_society  0.3061 0.1284   0.0020 0.0056  517.0488\n",
      "\n",
      "Quantiles:\n",
      "======================================================\n",
      "parameters\n",
      "                2.5%   25.0%   50.0%   75.0%   97.5% \n",
      "  a_society.1 -1.6270 -0.3475 -0.1830 -0.0330  0.6637\n",
      "  a_society.2 -0.9142 -0.0920  0.0400  0.1859  0.9401\n",
      "  a_society.3 -0.9420 -0.1695 -0.0439  0.0741  0.7561\n",
      "  a_society.4 -0.3134  0.1903  0.3162  0.4469  1.0344\n",
      "  a_society.5 -0.7491 -0.0725  0.0389  0.1558  0.8773\n",
      "  a_society.6 -1.2610 -0.4365 -0.2933 -0.1664  0.3583\n",
      "  a_society.7 -0.5488  0.0166  0.1293  0.2569  1.0435\n",
      "  a_society.8 -1.0408 -0.2781 -0.1579 -0.0473  0.5206\n",
      "  a_society.9 -0.3718  0.1577  0.2643  0.3825  1.0624\n",
      " a_society.10 -1.5835 -0.2592 -0.0781  0.0696  1.7611\n",
      "        alpha -2.8256  0.6692  1.1288  1.5565  5.5371\n",
      "           bp -0.2321  0.2125  0.2578  0.3077  0.6794\n",
      "    log_lik.1 -8.1071 -3.0032 -2.5011 -2.2769 -2.2078\n",
      "    log_lik.2 -7.5459 -2.9396 -2.6411 -2.5069 -2.4682\n",
      "    log_lik.3 -8.8543 -2.9743 -2.6727 -2.5474 -2.5114\n",
      "    log_lik.4 -8.9055 -3.9166 -3.2166 -2.8949 -2.8015\n",
      "    log_lik.5 -8.0799 -3.1675 -2.8405 -2.7081 -2.6697\n",
      "    log_lik.6 -8.9960 -3.5761 -2.8722 -2.5117 -2.3955\n",
      "    log_lik.7 -7.8363 -3.4403 -3.0151 -2.8211 -2.7655\n",
      "    log_lik.8 -9.0359 -3.1930 -2.8120 -2.6391 -2.5880\n",
      "    log_lik.9 -9.7439 -3.8382 -3.2217 -2.9900 -2.9241\n",
      "   log_lik.10 -9.5092 -3.7067 -3.2713 -3.0989 -3.0514\n",
      "sigma_society  0.0335  0.2194  0.2874  0.3714  1.1052\n",
      "\n"
     ]
    }
   ],
   "cell_type": "code",
   "source": [
    "describe(chn)"
   ],
   "metadata": {},
   "execution_count": 6
  },
  {
   "outputs": [],
   "cell_type": "markdown",
   "source": [
    "*This notebook was generated using [Literate.jl](https://github.com/fredrikekre/Literate.jl).*"
   ],
   "metadata": {}
  }
 ],
 "nbformat_minor": 3,
 "metadata": {
  "language_info": {
   "file_extension": ".jl",
   "mimetype": "application/julia",
   "name": "julia",
   "version": "1.2.0-DEV.406"
  },
  "kernelspec": {
   "name": "julia-1.2",
   "display_name": "Julia 1.2.0-DEV.406",
   "language": "julia"
  }
 },
 "nbformat": 4
}
