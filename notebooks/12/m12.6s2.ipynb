{
 "cells": [
  {
   "outputs": [
    {
     "output_type": "execute_result",
     "data": {
      "text/plain": "(10, 5)"
     },
     "metadata": {},
     "execution_count": 1
    }
   ],
   "cell_type": "code",
   "source": [
    "using StanModels\n",
    "\n",
    "ProjDir = rel_path_s(\"..\", \"scripts\", \"12\")\n",
    "\n",
    "d = CSV.read(rel_path( \"..\", \"data\",  \"Kline.csv\"), delim=';');\n",
    "size(d) # Should be 10x5"
   ],
   "metadata": {},
   "execution_count": 1
  },
  {
   "outputs": [],
   "cell_type": "markdown",
   "source": [
    "New col log_pop, set log() for population data"
   ],
   "metadata": {}
  },
  {
   "outputs": [],
   "cell_type": "code",
   "source": [
    "d[:log_pop] = map((x) -> log(x), d[:population]);\n",
    "d[:society] = 1:10;\n",
    "\n",
    "first(d, 5)\n",
    "\n",
    "m12_6_2 = \"\n",
    "  data {\n",
    "    int N;\n",
    "    int T[N];\n",
    "    int N_societies;\n",
    "    int society[N];\n",
    "    int P[N];\n",
    "  }\n",
    "  parameters {\n",
    "    real alpha;\n",
    "    vector[N_societies] a_society;\n",
    "    real bp;\n",
    "    real<lower=0> sigma_society;\n",
    "  }\n",
    "  model {\n",
    "    vector[N] mu;\n",
    "    target += normal_lpdf(alpha | 0, 10);\n",
    "    target += normal_lpdf(bp | 0, 1);\n",
    "    target += cauchy_lpdf(sigma_society | 0, 1);\n",
    "    target += normal_lpdf(a_society | 0, sigma_society);\n",
    "    for(i in 1:N) mu[i] = alpha + a_society[society[i]] + bp * log(P[i]);\n",
    "    target += poisson_log_lpmf(T | mu);\n",
    "  }\n",
    "  generated quantities {\n",
    "    vector[N] log_lik;\n",
    "    {\n",
    "    vector[N] mu;\n",
    "    for(i in 1:N) {\n",
    "      mu[i] = alpha + a_society[society[i]] + bp * log(P[i]);\n",
    "      log_lik[i] = poisson_log_lpmf(T[i] | mu[i]);\n",
    "    }\n",
    "    }\n",
    "  }\n",
    "\";"
   ],
   "metadata": {},
   "execution_count": 2
  },
  {
   "outputs": [],
   "cell_type": "markdown",
   "source": [
    "Define the Stanmodel and set the output format to :mcmcchain."
   ],
   "metadata": {}
  },
  {
   "outputs": [],
   "cell_type": "code",
   "source": [
    "stanmodel = Stanmodel(name=\"m12.6.2\",  model=m12_6_2,\n",
    "output_format=:mcmcchain);"
   ],
   "metadata": {},
   "execution_count": 3
  },
  {
   "outputs": [],
   "cell_type": "markdown",
   "source": [
    "Input data for cmdstan"
   ],
   "metadata": {}
  },
  {
   "outputs": [],
   "cell_type": "code",
   "source": [
    "m12_6_2_data = Dict(\"N\" => size(d, 1), \"T\" => d[:total_tools],\n",
    "\"N_societies\" => 10, \"society\" => d[:society], \"P\" => d[:population]);"
   ],
   "metadata": {},
   "execution_count": 4
  },
  {
   "outputs": [],
   "cell_type": "markdown",
   "source": [
    "Sample using cmdstan"
   ],
   "metadata": {}
  },
  {
   "outputs": [
    {
     "name": "stdout",
     "output_type": "stream",
     "text": [
      "Informational Message: The current Metropolis proposal is about to be rejected because of the following issue:\n",
      "Exception: normal_lpdf: Scale parameter is 0, but must be > 0!  (in '/Users/rob/.julia/dev/StanModels/notebooks/12/tmp/m12.6.2.stan' at line 19)\n",
      "\n",
      "If this warning occurs sporadically, such as for highly constrained variable types like covariance matrices, then the sampler is fine,\n",
      "but if this warning occurs often then your model may be either severely ill-conditioned or misspecified.\n",
      "\n",
      "Informational Message: The current Metropolis proposal is about to be rejected because of the following issue:\n",
      "Exception: normal_lpdf: Scale parameter is 0, but must be > 0!  (in '/Users/rob/.julia/dev/StanModels/notebooks/12/tmp/m12.6.2.stan' at line 19)\n",
      "\n",
      "If this warning occurs sporadically, such as for highly constrained variable types like covariance matrices, then the sampler is fine,\n",
      "but if this warning occurs often then your model may be either severely ill-conditioned or misspecified.\n",
      "\n"
     ]
    }
   ],
   "cell_type": "code",
   "source": [
    "rc, chn, cnames = stan(stanmodel, m12_6_2_data, ProjDir,\n",
    "diagnostics=false, summary=false, CmdStanDir=CMDSTAN_HOME);"
   ],
   "metadata": {},
   "execution_count": 5
  },
  {
   "outputs": [],
   "cell_type": "markdown",
   "source": [
    "Describe the draws"
   ],
   "metadata": {}
  },
  {
   "outputs": [
    {
     "name": "stdout",
     "output_type": "stream",
     "text": [
      "Iterations = 1:1000\n",
      "Thinning interval = 1\n",
      "Chains = 1,2,3,4\n",
      "Samples per chain = 1000\n",
      "\n",
      "Empirical Posterior Estimates:\n",
      "                   Mean           SD         Naive SE        MCSE         ESS    \n",
      "         lp__ -39.635722125  3.1130546319 0.04922171559 0.09714455236 1000.000000\n",
      "accept_stat__   0.936643134  0.0885917122 0.00140075796 0.00205660814 1000.000000\n",
      "   stepsize__   0.051827000  0.0038285474 0.00006053465 0.00061298158   39.009752\n",
      "  treedepth__   5.893750000  0.4577262455 0.00723728740 0.01545749963  876.865818\n",
      " n_leapfrog__  74.000000000 36.3542900990 0.57481179716 1.12188486086 1000.000000\n",
      "  divergent__   0.000000000  0.0000000000 0.00000000000 0.00000000000         NaN\n",
      "     energy__  46.201684000  4.0279688780 0.06368777999 0.11736980810 1000.000000\n",
      "        alpha   1.124204221  0.7751502480 0.01225620156 0.02470434579  984.521184\n",
      "  a_society.1  -0.211981391  0.2447145290 0.00386927644 0.00703243362 1000.000000\n",
      "  a_society.2   0.034377810  0.2264830040 0.00358101072 0.00575427699 1000.000000\n",
      "  a_society.3  -0.047228290  0.1963123457 0.00310397073 0.00443153111 1000.000000\n",
      "  a_society.4   0.329527696  0.1806508570 0.00285634085 0.00517149400 1000.000000\n",
      "  a_society.5   0.044721744  0.1757110799 0.00277823611 0.00348647501 1000.000000\n",
      "  a_society.6  -0.320888888  0.2110099174 0.00333635974 0.00528907514 1000.000000\n",
      "  a_society.7   0.148066402  0.1687738393 0.00266854871 0.00377692837 1000.000000\n",
      "  a_society.8  -0.171903246  0.1770868087 0.00279998830 0.00349341707 1000.000000\n",
      "  a_society.9   0.279655785  0.1770122286 0.00279880908 0.00398472735 1000.000000\n",
      " a_society.10  -0.085151172  0.2994625938 0.00473491935 0.00800105471 1000.000000\n",
      "           bp   0.258177756  0.0841883794 0.00133113516 0.00260615384 1000.000000\n",
      "sigma_society   0.311510446  0.1248183658 0.00197355165 0.00385644146 1000.000000\n",
      "    log_lik.1  -2.739778220  0.6759561926 0.01068780584 0.01377935040 1000.000000\n",
      "    log_lik.2  -2.870277342  0.5876683526 0.00929185252 0.01225563245 1000.000000\n",
      "    log_lik.3  -2.874005015  0.5311109150 0.00839760091 0.01076219724 1000.000000\n",
      "    log_lik.4  -3.526707575  0.8882859051 0.01404503337 0.02096720550 1000.000000\n",
      "    log_lik.5  -3.051544982  0.5573892035 0.00881309713 0.01184207947 1000.000000\n",
      "    log_lik.6  -3.154991480  0.9324539849 0.01474339203 0.01788542701 1000.000000\n",
      "    log_lik.7  -3.209897050  0.6083479343 0.00961882541 0.01171109340 1000.000000\n",
      "    log_lik.8  -3.031354837  0.6182210311 0.00977493278 0.01189792630 1000.000000\n",
      "    log_lik.9  -3.579930222  0.8817151670 0.01394114088 0.01884299178 1000.000000\n",
      "   log_lik.10  -3.553708572  0.7040074324 0.01113133488 0.01460634072 1000.000000\n",
      "\n",
      "Quantiles:\n",
      "                    2.5%          25.0%         50.0%        75.0%         97.5%    \n",
      "         lp__ -46.61909500000 -41.458325000 -39.29210000 -37.423300000 -34.588390000\n",
      "accept_stat__   0.68533382500   0.913987250   0.97516000   0.996195750   0.999972000\n",
      "   stepsize__   0.04738510000   0.048487900   0.05162705   0.054966150   0.056668800\n",
      "  treedepth__   5.00000000000   6.000000000   6.00000000   6.000000000   7.000000000\n",
      " n_leapfrog__  31.00000000000  63.000000000  63.00000000  63.000000000 127.000000000\n",
      "  divergent__   0.00000000000   0.000000000   0.00000000   0.000000000   0.000000000\n",
      "     energy__  39.41014500000  43.303425000  45.88460000  48.750850000  55.084967500\n",
      "        alpha  -0.41596020000   0.677356000   1.12500000   1.582575000   2.647963250\n",
      "  a_society.1  -0.75022267500  -0.347391250  -0.19072600  -0.055239225   0.224228775\n",
      "  a_society.2  -0.40988007500  -0.103884750   0.03703550   0.177551500   0.474852575\n",
      "  a_society.3  -0.44255560000  -0.168879750  -0.04377415   0.079254100   0.333082500\n",
      "  a_society.4   0.00081126638   0.207006000   0.32463400   0.444122500   0.710078750\n",
      "  a_society.5  -0.30666677500  -0.069981275   0.04453155   0.156235500   0.395575500\n",
      "  a_society.6  -0.76482367500  -0.456727750  -0.30363350  -0.171799000   0.052676513\n",
      "  a_society.7  -0.17752627500   0.037715775   0.13859250   0.253252750   0.492532400\n",
      "  a_society.8  -0.54475435000  -0.281755500  -0.16788100  -0.053700900   0.163579750\n",
      "  a_society.9  -0.04253064000   0.155722500   0.27027800   0.391691250   0.648465025\n",
      " a_society.10  -0.68882510000  -0.260676500  -0.08325260   0.088925025   0.531196300\n",
      "           bp   0.09071104750   0.207587750   0.25844950   0.308613500   0.421823575\n",
      "sigma_society   0.12917242500   0.224602750   0.29324800   0.375041500   0.608231975\n",
      "    log_lik.1  -4.62241475000  -2.953680000  -2.49158500  -2.270135000  -2.208519750\n",
      "    log_lik.2  -4.45007625000  -2.996042500  -2.64239000  -2.505200000  -2.468749750\n",
      "    log_lik.3  -4.38893350000  -2.968550000  -2.67097000  -2.545565000  -2.511809000\n",
      "    log_lik.4  -5.90746100000  -3.821962500  -3.19445500  -2.882880000  -2.802598500\n",
      "    log_lik.5  -4.63602700000  -3.154417500  -2.83617000  -2.708947500  -2.670179750\n",
      "    log_lik.6  -5.74572725000  -3.474502500  -2.80617000  -2.495195000  -2.396309750\n",
      "    log_lik.7  -4.97027200000  -3.365827500  -2.97626000  -2.810147500  -2.765970000\n",
      "    log_lik.8  -4.71721900000  -3.189405000  -2.79337000  -2.638257500  -2.588690000\n",
      "    log_lik.9  -5.94042925000  -3.807457500  -3.24589000  -2.993790000  -2.924729500\n",
      "   log_lik.10  -5.64210725000  -3.704842500  -3.28685000  -3.105650000  -3.052019750\n",
      "\n"
     ]
    }
   ],
   "cell_type": "code",
   "source": [
    "describe(chn)"
   ],
   "metadata": {},
   "execution_count": 6
  },
  {
   "outputs": [],
   "cell_type": "markdown",
   "source": [
    "*This notebook was generated using [Literate.jl](https://github.com/fredrikekre/Literate.jl).*"
   ],
   "metadata": {}
  }
 ],
 "nbformat_minor": 3,
 "metadata": {
  "language_info": {
   "file_extension": ".jl",
   "mimetype": "application/julia",
   "name": "julia",
   "version": "1.2.0-DEV.296"
  },
  "kernelspec": {
   "name": "julia-1.2",
   "display_name": "Julia 1.2.0-DEV.296",
   "language": "julia"
  }
 },
 "nbformat": 4
}
