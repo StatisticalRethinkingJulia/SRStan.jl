{
 "cells": [
  {
   "outputs": [
    {
     "output_type": "execute_result",
     "data": {
      "text/plain": "(10, 5)"
     },
     "metadata": {},
     "execution_count": 1
    }
   ],
   "cell_type": "code",
   "source": [
    "using StanModels\n",
    "using CmdStan, StanMCMCChain\n",
    "\n",
    "ProjDir = rel_path_s(\"..\", \"scripts\", \"12\")\n",
    "\n",
    "d = CSV.read(rel_path( \"..\", \"data\",  \"Kline.csv\"), delim=';');\n",
    "size(d) # Should be 10x5"
   ],
   "metadata": {},
   "execution_count": 1
  },
  {
   "outputs": [],
   "cell_type": "markdown",
   "source": [
    "New col log_pop, set log() for population data"
   ],
   "metadata": {}
  },
  {
   "outputs": [],
   "cell_type": "code",
   "source": [
    "d[:log_pop] = map((x) -> log(x), d[:population]);\n",
    "d[:society] = 1:10;\n",
    "\n",
    "first(d, 5)\n",
    "\n",
    "m12_6_2 = \"\n",
    "  data {\n",
    "    int N;\n",
    "    int T[N];\n",
    "    int N_societies;\n",
    "    int society[N];\n",
    "    int P[N];\n",
    "  }\n",
    "  parameters {\n",
    "    real alpha;\n",
    "    vector[N_societies] a_society;\n",
    "    real bp;\n",
    "    real<lower=0> sigma_society;\n",
    "  }\n",
    "  model {\n",
    "    vector[N] mu;\n",
    "    target += normal_lpdf(alpha | 0, 10);\n",
    "    target += normal_lpdf(bp | 0, 1);\n",
    "    target += cauchy_lpdf(sigma_society | 0, 1);\n",
    "    target += normal_lpdf(a_society | 0, sigma_society);\n",
    "    for(i in 1:N) mu[i] = alpha + a_society[society[i]] + bp * log(P[i]);\n",
    "    target += poisson_log_lpmf(T | mu);\n",
    "  }\n",
    "  generated quantities {\n",
    "    vector[N] log_lik;\n",
    "    {\n",
    "    vector[N] mu;\n",
    "    for(i in 1:N) {\n",
    "      mu[i] = alpha + a_society[society[i]] + bp * log(P[i]);\n",
    "      log_lik[i] = poisson_log_lpmf(T[i] | mu[i]);\n",
    "    }\n",
    "    }\n",
    "  }\n",
    "\";"
   ],
   "metadata": {},
   "execution_count": 2
  },
  {
   "outputs": [],
   "cell_type": "markdown",
   "source": [
    "Define the Stanmodel and set the output format to :mcmcchain."
   ],
   "metadata": {}
  },
  {
   "outputs": [
    {
     "name": "stdout",
     "output_type": "stream",
     "text": [
      "\n",
      "File /Users/rob/.julia/dev/StanModels/notebooks/12/tmp/m12.6.2.stan will be updated.\n",
      "\n"
     ]
    }
   ],
   "cell_type": "code",
   "source": [
    "stanmodel = Stanmodel(name=\"m12.6.2\",  model=m12_6_2,\n",
    "output_format=:mcmcchain);"
   ],
   "metadata": {},
   "execution_count": 3
  },
  {
   "outputs": [],
   "cell_type": "markdown",
   "source": [
    "Input data for cmdstan"
   ],
   "metadata": {}
  },
  {
   "outputs": [],
   "cell_type": "code",
   "source": [
    "m12_6_2_data = Dict(\"N\" => size(d, 1), \"T\" => d[:total_tools],\n",
    "\"N_societies\" => 10, \"society\" => d[:society], \"P\" => d[:population]);"
   ],
   "metadata": {},
   "execution_count": 4
  },
  {
   "outputs": [],
   "cell_type": "markdown",
   "source": [
    "Sample using cmdstan"
   ],
   "metadata": {}
  },
  {
   "outputs": [
    {
     "name": "stdout",
     "output_type": "stream",
     "text": [
      "Informational Message: The current Metropolis proposal is about to be rejected because of the following issue:\n",
      "Exception: normal_lpdf: Scale parameter is 0, but must be > 0!  (in '/Users/rob/.julia/dev/StanModels/notebooks/12/tmp/m12.6.2.stan' at line 19)\n",
      "\n",
      "If this warning occurs sporadically, such as for highly constrained variable types like covariance matrices, then the sampler is fine,\n",
      "but if this warning occurs often then your model may be either severely ill-conditioned or misspecified.\n",
      "\n"
     ]
    }
   ],
   "cell_type": "code",
   "source": [
    "rc, chn, cnames = stan(stanmodel, m12_6_2_data, ProjDir,\n",
    "diagnostics=false, summary=false, CmdStanDir=CMDSTAN_HOME);"
   ],
   "metadata": {},
   "execution_count": 5
  },
  {
   "outputs": [],
   "cell_type": "markdown",
   "source": [
    "Describe the draws"
   ],
   "metadata": {}
  },
  {
   "outputs": [
    {
     "name": "stdout",
     "output_type": "stream",
     "text": [
      "Iterations = 1:1000\n",
      "Thinning interval = 1\n",
      "Chains = 1,2,3,4\n",
      "Samples per chain = 1000\n",
      "\n",
      "Empirical Posterior Estimates:\n",
      "                   Mean           SD         Naive SE        MCSE         ESS    \n",
      "         lp__ -39.619071600  3.0241928411 0.047816687307 0.0751213413 1000.000000\n",
      "accept_stat__   0.941207732  0.0815449287 0.001289338531 0.0015989632 1000.000000\n",
      "   stepsize__   0.045981300  0.0027642555 0.000043706717 0.0004425798   39.009752\n",
      "  treedepth__   5.946250000  0.4334834651 0.006853975388 0.0148310464  854.282457\n",
      " n_leapfrog__  77.042000000 34.3888046240 0.543734743113 1.0175404736 1000.000000\n",
      "  divergent__   0.000000000  0.0000000000 0.000000000000 0.0000000000         NaN\n",
      "     energy__  46.125880875  3.8994470277 0.061655671114 0.0957828046 1000.000000\n",
      "        alpha   1.105122592  0.7466474328 0.011805532483 0.0166971260 1000.000000\n",
      "  a_society.1  -0.205773072  0.2439030304 0.003856445522 0.0057541985 1000.000000\n",
      "  a_society.2   0.047975160  0.2187265158 0.003458369872 0.0044701068 1000.000000\n",
      "  a_society.3  -0.043335297  0.1914876993 0.003027686369 0.0040978771 1000.000000\n",
      "  a_society.4   0.330209943  0.1906824624 0.003014954456 0.0044827260 1000.000000\n",
      "  a_society.5   0.047797451  0.1764598396 0.002790075043 0.0039509157 1000.000000\n",
      "  a_society.6  -0.320705025  0.2113000070 0.003340946459 0.0048037992 1000.000000\n",
      "  a_society.7   0.151674080  0.1728912290 0.002733650356 0.0042142812 1000.000000\n",
      "  a_society.8  -0.174822978  0.1897375820 0.003000014585 0.0036919686 1000.000000\n",
      "  a_society.9   0.277573200  0.1781878894 0.002817397910 0.0041985872 1000.000000\n",
      " a_society.10  -0.092219820  0.2931889741 0.004635724715 0.0069198129 1000.000000\n",
      "           bp   0.260149245  0.0810701305 0.001281831313 0.0018304156 1000.000000\n",
      "sigma_society   0.314586852  0.1324740886 0.002094599254 0.0039243650 1000.000000\n",
      "    log_lik.1  -2.754028603  0.6946258064 0.010982998348 0.0156166518 1000.000000\n",
      "    log_lik.2  -2.828518730  0.5287792609 0.008360734220 0.0130514829 1000.000000\n",
      "    log_lik.3  -2.849332170  0.4883037920 0.007720760863 0.0107234986 1000.000000\n",
      "    log_lik.4  -3.556217465  0.9213813711 0.014568318632 0.0208731118 1000.000000\n",
      "    log_lik.5  -3.033475692  0.5191573403 0.008208598297 0.0118041852 1000.000000\n",
      "    log_lik.6  -3.153758795  0.8921661113 0.014106384814 0.0171464682 1000.000000\n",
      "    log_lik.7  -3.211916613  0.6033367210 0.009539591172 0.0114911787 1000.000000\n",
      "    log_lik.8  -3.034007283  0.5986743187 0.009465872118 0.0110253779 1000.000000\n",
      "    log_lik.9  -3.567991518  0.8220825384 0.012998266229 0.0166066466 1000.000000\n",
      "   log_lik.10  -3.571778205  0.7077973007 0.011191257960 0.0144919321 1000.000000\n",
      "\n",
      "Quantiles:\n",
      "                   2.5%         25.0%        50.0%        75.0%         97.5%   \n",
      "         lp__ -46.620645000 -41.383625000 -39.3267500 -37.428450000 -34.67560500\n",
      "accept_stat__   0.699728000   0.917028500   0.9768140   0.996211500   0.99997400\n",
      "   stepsize__   0.043547600   0.043879775   0.0449257   0.047027225   0.05052620\n",
      "  treedepth__   5.000000000   6.000000000   6.0000000   6.000000000   7.00000000\n",
      " n_leapfrog__  31.000000000  63.000000000  63.0000000  63.000000000 127.00000000\n",
      "  divergent__   0.000000000   0.000000000   0.0000000   0.000000000   0.00000000\n",
      "     energy__  39.616965000  43.390825000  45.8317500  48.526650000  54.74539750\n",
      "        alpha  -0.442986075   0.645651500   1.1270250   1.582650000   2.61731700\n",
      "  a_society.1  -0.749718425  -0.343561250  -0.1857995  -0.050292450   0.24093593\n",
      "  a_society.2  -0.385395900  -0.087695425   0.0403523   0.179457500   0.49616318\n",
      "  a_society.3  -0.431677100  -0.161469750  -0.0410157   0.078153000   0.33228455\n",
      "  a_society.4  -0.009031100   0.199315000   0.3183235   0.451789000   0.72281875\n",
      "  a_society.5  -0.295756600  -0.061220175   0.0466149   0.159180500   0.39456233\n",
      "  a_society.6  -0.783873875  -0.452843500  -0.3052845  -0.173665750   0.05639887\n",
      "  a_society.7  -0.168208850   0.038109525   0.1494975   0.258633250   0.52444770\n",
      "  a_society.8  -0.578937825  -0.291489750  -0.1658075  -0.048352000   0.17889683\n",
      "  a_society.9  -0.040795327   0.157321000   0.2695875   0.384426500   0.63558333\n",
      " a_society.10  -0.684183300  -0.266239250  -0.0886148   0.077626150   0.50422738\n",
      "           bp   0.098174790   0.209497000   0.2590380   0.310115750   0.42680110\n",
      "sigma_society   0.126125425   0.225031250   0.2915720   0.376570500   0.64362138\n",
      "    log_lik.1  -4.624182250  -2.969377500  -2.4903250  -2.268860000  -2.20836950\n",
      "    log_lik.2  -4.292971750  -2.931042500  -2.6185550  -2.503600000  -2.46850975\n",
      "    log_lik.3  -4.242523250  -2.951005000  -2.6610200  -2.543437500  -2.51173950\n",
      "    log_lik.4  -6.065024250  -3.889290000  -3.2049700  -2.893730000  -2.80256950\n",
      "    log_lik.5  -4.547676250  -3.142175000  -2.8216850  -2.705807500  -2.66997975\n",
      "    log_lik.6  -5.610669000  -3.510435000  -2.8244600  -2.498627500  -2.39678975\n",
      "    log_lik.7  -4.924847750  -3.361310000  -2.9821150  -2.815575000  -2.76594975\n",
      "    log_lik.8  -4.733171500  -3.204342500  -2.8005900  -2.637697500  -2.58860975\n",
      "    log_lik.9  -5.797480500  -3.831100000  -3.2455400  -2.994905000  -2.92467950\n",
      "   log_lik.10  -5.605822750  -3.756427500  -3.2994300  -3.106097500  -3.05203925\n",
      "\n"
     ]
    }
   ],
   "cell_type": "code",
   "source": [
    "describe(chn)"
   ],
   "metadata": {},
   "execution_count": 6
  },
  {
   "outputs": [],
   "cell_type": "markdown",
   "source": [
    "*This notebook was generated using [Literate.jl](https://github.com/fredrikekre/Literate.jl).*"
   ],
   "metadata": {}
  }
 ],
 "nbformat_minor": 3,
 "metadata": {
  "language_info": {
   "file_extension": ".jl",
   "mimetype": "application/julia",
   "name": "julia",
   "version": "1.2.0-DEV.264"
  },
  "kernelspec": {
   "name": "julia-1.2",
   "display_name": "Julia 1.2.0-DEV.264",
   "language": "julia"
  }
 },
 "nbformat": 4
}
