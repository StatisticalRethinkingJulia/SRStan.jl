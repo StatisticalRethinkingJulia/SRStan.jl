{
 "cells": [
  {
   "outputs": [
    {
     "output_type": "execute_result",
     "data": {
      "text/plain": "(10, 5)"
     },
     "metadata": {},
     "execution_count": 1
    }
   ],
   "cell_type": "code",
   "source": [
    "using StanModels\n",
    "using CmdStan, StanMCMCChain\n",
    "\n",
    "ProjDir = rel_path_s(\"..\", \"scripts\", \"12\")\n",
    "\n",
    "d = CSV.read(rel_path( \"..\", \"data\",  \"Kline.csv\"), delim=';');\n",
    "size(d) # Should be 10x5"
   ],
   "metadata": {},
   "execution_count": 1
  },
  {
   "outputs": [],
   "cell_type": "markdown",
   "source": [
    "New col log_pop, set log() for population data"
   ],
   "metadata": {}
  },
  {
   "outputs": [],
   "cell_type": "code",
   "source": [
    "d[:log_pop] = map((x) -> log(x), d[:population]);\n",
    "d[:society] = 1:10;\n",
    "\n",
    "first(d, 5)\n",
    "\n",
    "m12_6_2 = \"\n",
    "  data {\n",
    "    int N;\n",
    "    int T[N];\n",
    "    int N_societies;\n",
    "    int society[N];\n",
    "    int P[N];\n",
    "  }\n",
    "  parameters {\n",
    "    real alpha;\n",
    "    vector[N_societies] a_society;\n",
    "    real bp;\n",
    "    real<lower=0> sigma_society;\n",
    "  }\n",
    "  model {\n",
    "    vector[N] mu;\n",
    "    target += normal_lpdf(alpha | 0, 10);\n",
    "    target += normal_lpdf(bp | 0, 1);\n",
    "    target += cauchy_lpdf(sigma_society | 0, 1);\n",
    "    target += normal_lpdf(a_society | 0, sigma_society);\n",
    "    for(i in 1:N) mu[i] = alpha + a_society[society[i]] + bp * log(P[i]);\n",
    "    target += poisson_log_lpmf(T | mu);\n",
    "  }\n",
    "  generated quantities {\n",
    "    vector[N] log_lik;\n",
    "    {\n",
    "    vector[N] mu;\n",
    "    for(i in 1:N) {\n",
    "      mu[i] = alpha + a_society[society[i]] + bp * log(P[i]);\n",
    "      log_lik[i] = poisson_log_lpmf(T[i] | mu[i]);\n",
    "    }\n",
    "    }\n",
    "  }\n",
    "\";"
   ],
   "metadata": {},
   "execution_count": 2
  },
  {
   "outputs": [],
   "cell_type": "markdown",
   "source": [
    "Define the Stanmodel and set the output format to :mcmcchain."
   ],
   "metadata": {}
  },
  {
   "outputs": [
    {
     "name": "stdout",
     "output_type": "stream",
     "text": [
      "\n",
      "File /Users/rob/.julia/dev/StanModels/notebooks/12/tmp/m12.6.2.stan will be updated.\n",
      "\n"
     ]
    }
   ],
   "cell_type": "code",
   "source": [
    "stanmodel = Stanmodel(name=\"m12.6.2\",  model=m12_6_2,\n",
    "output_format=:mcmcchain);"
   ],
   "metadata": {},
   "execution_count": 3
  },
  {
   "outputs": [],
   "cell_type": "markdown",
   "source": [
    "Input data for cmdstan"
   ],
   "metadata": {}
  },
  {
   "outputs": [],
   "cell_type": "code",
   "source": [
    "m12_6_2_data = Dict(\"N\" => size(d, 1), \"T\" => d[:total_tools],\n",
    "\"N_societies\" => 10, \"society\" => d[:society], \"P\" => d[:population]);"
   ],
   "metadata": {},
   "execution_count": 4
  },
  {
   "outputs": [],
   "cell_type": "markdown",
   "source": [
    "Sample using cmdstan"
   ],
   "metadata": {}
  },
  {
   "outputs": [
    {
     "name": "stdout",
     "output_type": "stream",
     "text": [
      "Informational Message: The current Metropolis proposal is about to be rejected because of the following issue:\n",
      "Exception: normal_lpdf: Scale parameter is 0, but must be > 0!  (in '/Users/rob/.julia/dev/StanModels/notebooks/12/tmp/m12.6.2.stan' at line 19)\n",
      "\n",
      "If this warning occurs sporadically, such as for highly constrained variable types like covariance matrices, then the sampler is fine,\n",
      "but if this warning occurs often then your model may be either severely ill-conditioned or misspecified.\n",
      "\n"
     ]
    }
   ],
   "cell_type": "code",
   "source": [
    "rc, chn, cnames = stan(stanmodel, m12_6_2_data, ProjDir,\n",
    "diagnostics=false, summary=false, CmdStanDir=CMDSTAN_HOME);"
   ],
   "metadata": {},
   "execution_count": 5
  },
  {
   "outputs": [],
   "cell_type": "markdown",
   "source": [
    "Describe the draws"
   ],
   "metadata": {}
  },
  {
   "outputs": [
    {
     "name": "stdout",
     "output_type": "stream",
     "text": [
      "Iterations = 1:1000\n",
      "Thinning interval = 1\n",
      "Chains = 1,2,3,4\n",
      "Samples per chain = 1000\n",
      "\n",
      "Empirical Posterior Estimates:\n",
      "                   Mean           SD         Naive SE        MCSE         ESS    \n",
      "         lp__ -39.291259450  3.0090714725 0.047577597477 0.1028879647  855.334234\n",
      "accept_stat__   0.940581443  0.0821686425 0.001299200312 0.0013856502 1000.000000\n",
      "   stepsize__   0.052082025  0.0031226338 0.000049373175 0.0004999591   39.009752\n",
      "  treedepth__   5.802000000  0.4629790356 0.007320341307 0.0146550070  998.046073\n",
      " n_leapfrog__  67.500000000 27.2064523186 0.430171781897 0.6502559654 1000.000000\n",
      "  divergent__   0.000000000  0.0000000000 0.000000000000 0.0000000000         NaN\n",
      "     energy__  45.803302450  3.8858758113 0.061441091342 0.1427906616  740.590645\n",
      "        alpha   1.103577719  0.7182322968 0.011356249735 0.0249645257  827.719564\n",
      "  a_society.1  -0.199922703  0.2313128221 0.003657376850 0.0049205005 1000.000000\n",
      "  a_society.2   0.044449418  0.2110678317 0.003337275445 0.0050925779 1000.000000\n",
      "  a_society.3  -0.044569044  0.1824960304 0.002885515599 0.0037591055 1000.000000\n",
      "  a_society.4   0.318668972  0.1854761236 0.002932635011 0.0044759113 1000.000000\n",
      "  a_society.5   0.042990280  0.1664354714 0.002631575865 0.0029900647 1000.000000\n",
      "  a_society.6  -0.312870462  0.2049889548 0.003241159962 0.0041429492 1000.000000\n",
      "  a_society.7   0.141851104  0.1621081914 0.002563155561 0.0035885260 1000.000000\n",
      "  a_society.8  -0.169405880  0.1786598287 0.002824859926 0.0037039925 1000.000000\n",
      "  a_society.9   0.268110990  0.1707580388 0.002699921657 0.0040966047 1000.000000\n",
      " a_society.10  -0.095856777  0.2844549237 0.004497627253 0.0098011474  842.312159\n",
      "           bp   0.260880179  0.0783291211 0.001238492149 0.0028064887  778.968544\n",
      "sigma_society   0.302082406  0.1266729325 0.002002874923 0.0033749699 1000.000000\n",
      "    log_lik.1  -2.757765003  0.6951151055 0.010990734847 0.0115822713 1000.000000\n",
      "    log_lik.2  -2.817683072  0.4921915174 0.007782231201 0.0105947793 1000.000000\n",
      "    log_lik.3  -2.848221143  0.5061580351 0.008003061235 0.0117614900 1000.000000\n",
      "    log_lik.4  -3.591266695  0.9495939655 0.015014398917 0.0212529258 1000.000000\n",
      "    log_lik.5  -3.029882610  0.5050300638 0.007985226442 0.0130628847 1000.000000\n",
      "    log_lik.6  -3.209569335  0.9548964522 0.015098238592 0.0191244890 1000.000000\n",
      "    log_lik.7  -3.209382687  0.5946086867 0.009401588832 0.0148061988 1000.000000\n",
      "    log_lik.8  -3.054615703  0.6036438704 0.009544447630 0.0124873806 1000.000000\n",
      "    log_lik.9  -3.587720140  0.8655431485 0.013685438811 0.0200947011 1000.000000\n",
      "   log_lik.10  -3.521281593  0.6588649124 0.010417568968 0.0144527038 1000.000000\n",
      "\n",
      "Quantiles:\n",
      "                   2.5%         25.0%        50.0%        75.0%         97.5%    \n",
      "         lp__ -45.992432500 -41.14905000 -39.05250000 -37.184875000 -34.170305000\n",
      "accept_stat__   0.703621525   0.91783300   0.97567000   0.996460750   0.999963000\n",
      "   stepsize__   0.048247600   0.04951855   0.05202270   0.054586175   0.056035100\n",
      "  treedepth__   5.000000000   6.00000000   6.00000000   6.000000000   6.000000000\n",
      " n_leapfrog__  31.000000000  63.00000000  63.00000000  63.000000000 127.000000000\n",
      "  divergent__   0.000000000   0.00000000   0.00000000   0.000000000   0.000000000\n",
      "     energy__  38.977575000  43.12280000  45.49465000  48.283900000  54.296632500\n",
      "        alpha  -0.437529400   0.68834400   1.13036500   1.552802500   2.474449250\n",
      "  a_society.1  -0.688264175  -0.33959175  -0.18053850  -0.042899850   0.217783725\n",
      "  a_society.2  -0.359233400  -0.08801523   0.03651480   0.175249500   0.480086075\n",
      "  a_society.3  -0.422412525  -0.15660075  -0.03907135   0.067759175   0.313214275\n",
      "  a_society.4  -0.013393725   0.18916275   0.30854950   0.436466750   0.709650350\n",
      "  a_society.5  -0.281380700  -0.06328615   0.04174995   0.148873750   0.369515400\n",
      "  a_society.6  -0.742922425  -0.44549450  -0.29711000  -0.167601750   0.043560835\n",
      "  a_society.7  -0.156906950   0.02899400   0.13527500   0.247368500   0.470568050\n",
      "  a_society.8  -0.552832725  -0.28136350  -0.15812000  -0.045162950   0.144584000\n",
      "  a_society.9  -0.052809625   0.15242700   0.26248450   0.375565250   0.614649050\n",
      " a_society.10  -0.720176575  -0.25976400  -0.08331915   0.071168525   0.472194900\n",
      "           bp   0.109747350   0.21312525   0.25759200   0.305057750   0.428422175\n",
      "sigma_society   0.108502675   0.21415775   0.28256000   0.366574000   0.596021950\n",
      "    log_lik.1  -4.637711000  -2.97488500  -2.49012000  -2.274207500  -2.208590000\n",
      "    log_lik.2  -4.221064500  -2.94241500  -2.61899500  -2.503107500  -2.468600000\n",
      "    log_lik.3  -4.292270000  -2.94511750  -2.65893000  -2.541455000  -2.511669750\n",
      "    log_lik.4  -6.127842250  -3.95029250  -3.23199500  -2.902305000  -2.802359750\n",
      "    log_lik.5  -4.529809250  -3.14308250  -2.82832000  -2.706025000  -2.669979750\n",
      "    log_lik.6  -5.937305750  -3.58063250  -2.86675000  -2.507912500  -2.396340000\n",
      "    log_lik.7  -4.795719250  -3.39025000  -2.97591000  -2.811940000  -2.765930000\n",
      "    log_lik.8  -4.706656500  -3.24360250  -2.82189000  -2.639662500  -2.588500000\n",
      "    log_lik.9  -6.067328000  -3.85420000  -3.23908500  -2.995947500  -2.924799750\n",
      "   log_lik.10  -5.404577750  -3.67328750  -3.27581000  -3.099440000  -3.051829750\n",
      "\n"
     ]
    }
   ],
   "cell_type": "code",
   "source": [
    "describe(chn)"
   ],
   "metadata": {},
   "execution_count": 6
  },
  {
   "outputs": [],
   "cell_type": "markdown",
   "source": [
    "*This notebook was generated using [Literate.jl](https://github.com/fredrikekre/Literate.jl).*"
   ],
   "metadata": {}
  }
 ],
 "nbformat_minor": 3,
 "metadata": {
  "language_info": {
   "file_extension": ".jl",
   "mimetype": "application/julia",
   "name": "julia",
   "version": "1.2.0-DEV.270"
  },
  "kernelspec": {
   "name": "julia-1.2",
   "display_name": "Julia 1.2.0-DEV.270",
   "language": "julia"
  }
 },
 "nbformat": 4
}
