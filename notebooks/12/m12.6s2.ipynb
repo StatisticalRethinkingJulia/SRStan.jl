{
 "cells": [
  {
   "outputs": [
    {
     "output_type": "execute_result",
     "data": {
      "text/plain": "(10, 5)"
     },
     "metadata": {},
     "execution_count": 1
    }
   ],
   "cell_type": "code",
   "source": [
    "using StanModels\n",
    "\n",
    "ProjDir = rel_path_s(\"..\", \"scripts\", \"12\")\n",
    "\n",
    "d = CSV.read(rel_path( \"..\", \"data\",  \"Kline.csv\"), delim=';');\n",
    "size(d) # Should be 10x5"
   ],
   "metadata": {},
   "execution_count": 1
  },
  {
   "outputs": [],
   "cell_type": "markdown",
   "source": [
    "New col log_pop, set log() for population data"
   ],
   "metadata": {}
  },
  {
   "outputs": [],
   "cell_type": "code",
   "source": [
    "d[:log_pop] = map((x) -> log(x), d[:population]);\n",
    "d[:society] = 1:10;\n",
    "\n",
    "first(d, 5)\n",
    "\n",
    "m12_6_2 = \"\n",
    "  data {\n",
    "    int N;\n",
    "    int T[N];\n",
    "    int N_societies;\n",
    "    int society[N];\n",
    "    int P[N];\n",
    "  }\n",
    "  parameters {\n",
    "    real alpha;\n",
    "    vector[N_societies] a_society;\n",
    "    real bp;\n",
    "    real<lower=0> sigma_society;\n",
    "  }\n",
    "  model {\n",
    "    vector[N] mu;\n",
    "    target += normal_lpdf(alpha | 0, 10);\n",
    "    target += normal_lpdf(bp | 0, 1);\n",
    "    target += cauchy_lpdf(sigma_society | 0, 1);\n",
    "    target += normal_lpdf(a_society | 0, sigma_society);\n",
    "    for(i in 1:N) mu[i] = alpha + a_society[society[i]] + bp * log(P[i]);\n",
    "    target += poisson_log_lpmf(T | mu);\n",
    "  }\n",
    "  generated quantities {\n",
    "    vector[N] log_lik;\n",
    "    {\n",
    "    vector[N] mu;\n",
    "    for(i in 1:N) {\n",
    "      mu[i] = alpha + a_society[society[i]] + bp * log(P[i]);\n",
    "      log_lik[i] = poisson_log_lpmf(T[i] | mu[i]);\n",
    "    }\n",
    "    }\n",
    "  }\n",
    "\";"
   ],
   "metadata": {},
   "execution_count": 2
  },
  {
   "outputs": [],
   "cell_type": "markdown",
   "source": [
    "Define the Stanmodel and set the output format to :mcmcchain."
   ],
   "metadata": {}
  },
  {
   "outputs": [
    {
     "name": "stdout",
     "output_type": "stream",
     "text": [
      "\n",
      "File /Users/rob/.julia/dev/StanModels/notebooks/12/tmp/m12.6.2.stan will be updated.\n",
      "\n"
     ]
    }
   ],
   "cell_type": "code",
   "source": [
    "stanmodel = Stanmodel(name=\"m12.6.2\",  model=m12_6_2,\n",
    "output_format=:mcmcchain);"
   ],
   "metadata": {},
   "execution_count": 3
  },
  {
   "outputs": [],
   "cell_type": "markdown",
   "source": [
    "Input data for cmdstan"
   ],
   "metadata": {}
  },
  {
   "outputs": [],
   "cell_type": "code",
   "source": [
    "m12_6_2_data = Dict(\"N\" => size(d, 1), \"T\" => d[:total_tools],\n",
    "\"N_societies\" => 10, \"society\" => d[:society], \"P\" => d[:population]);"
   ],
   "metadata": {},
   "execution_count": 4
  },
  {
   "outputs": [],
   "cell_type": "markdown",
   "source": [
    "Sample using cmdstan"
   ],
   "metadata": {}
  },
  {
   "outputs": [
    {
     "name": "stdout",
     "output_type": "stream",
     "text": [
      "Informational Message: The current Metropolis proposal is about to be rejected because of the following issue:\n",
      "Exception: normal_lpdf: Scale parameter is 0, but must be > 0!  (in '/Users/rob/.julia/dev/StanModels/notebooks/12/tmp/m12.6.2.stan' at line 19)\n",
      "\n",
      "If this warning occurs sporadically, such as for highly constrained variable types like covariance matrices, then the sampler is fine,\n",
      "but if this warning occurs often then your model may be either severely ill-conditioned or misspecified.\n",
      "\n",
      "Informational Message: The current Metropolis proposal is about to be rejected because of the following issue:\n",
      "Exception: normal_lpdf: Scale parameter is 0, but must be > 0!  (in '/Users/rob/.julia/dev/StanModels/notebooks/12/tmp/m12.6.2.stan' at line 19)\n",
      "\n",
      "If this warning occurs sporadically, such as for highly constrained variable types like covariance matrices, then the sampler is fine,\n",
      "but if this warning occurs often then your model may be either severely ill-conditioned or misspecified.\n",
      "\n",
      "Informational Message: The current Metropolis proposal is about to be rejected because of the following issue:\n",
      "Exception: normal_lpdf: Scale parameter is 0, but must be > 0!  (in '/Users/rob/.julia/dev/StanModels/notebooks/12/tmp/m12.6.2.stan' at line 19)\n",
      "\n",
      "If this warning occurs sporadically, such as for highly constrained variable types like covariance matrices, then the sampler is fine,\n",
      "but if this warning occurs often then your model may be either severely ill-conditioned or misspecified.\n",
      "\n",
      "Informational Message: The current Metropolis proposal is about to be rejected because of the following issue:\n",
      "Exception: normal_lpdf: Scale parameter is 0, but must be > 0!  (in '/Users/rob/.julia/dev/StanModels/notebooks/12/tmp/m12.6.2.stan' at line 19)\n",
      "\n",
      "If this warning occurs sporadically, such as for highly constrained variable types like covariance matrices, then the sampler is fine,\n",
      "but if this warning occurs often then your model may be either severely ill-conditioned or misspecified.\n",
      "\n"
     ]
    }
   ],
   "cell_type": "code",
   "source": [
    "rc, chn, cnames = stan(stanmodel, m12_6_2_data, ProjDir,\n",
    "diagnostics=false, summary=false, CmdStanDir=CMDSTAN_HOME);"
   ],
   "metadata": {},
   "execution_count": 5
  },
  {
   "outputs": [],
   "cell_type": "markdown",
   "source": [
    "Describe the draws"
   ],
   "metadata": {}
  },
  {
   "outputs": [
    {
     "name": "stdout",
     "output_type": "stream",
     "text": [
      "Iterations = 1:1000\n",
      "Thinning interval = 1\n",
      "Chains = 1,2,3,4\n",
      "Samples per chain = 1000\n",
      "\n",
      "Empirical Posterior Estimates:\n",
      "                   Mean           SD         Naive SE       MCSE         ESS    \n",
      "         lp__ -39.585620650  3.1257106642 0.04942182503 0.1111624351  790.644848\n",
      "accept_stat__   0.934363813  0.0902924453 0.00142764891 0.0019821972 1000.000000\n",
      "   stepsize__   0.052165925  0.0066049346 0.00010443319 0.0010575038   39.009752\n",
      "  treedepth__   5.893750000  0.4415990149 0.00698229350 0.0185523773  566.574539\n",
      " n_leapfrog__  72.480000000 32.4467686866 0.51302845881 1.0609913120  935.231767\n",
      "  divergent__   0.000000000  0.0000000000 0.00000000000 0.0000000000         NaN\n",
      "     energy__  46.040967375  4.0203899648 0.06356794685 0.1348216527  889.236064\n",
      "        alpha   1.087590421  0.7712629351 0.01219473775 0.0213218790 1000.000000\n",
      "  a_society.1  -0.202061054  0.2397064309 0.00379009146 0.0056674858 1000.000000\n",
      "  a_society.2   0.044039516  0.2226497804 0.00352040213 0.0053824170 1000.000000\n",
      "  a_society.3  -0.048025409  0.1958908910 0.00309730694 0.0043842607 1000.000000\n",
      "  a_society.4   0.325091852  0.1865230001 0.00294918758 0.0046302663 1000.000000\n",
      "  a_society.5   0.042612649  0.1803829885 0.00285210547 0.0035990217 1000.000000\n",
      "  a_society.6  -0.324270208  0.2137817605 0.00338018643 0.0046003151 1000.000000\n",
      "  a_society.7   0.140321315  0.1726243277 0.00272943028 0.0038679976 1000.000000\n",
      "  a_society.8  -0.178766099  0.1815859878 0.00287112656 0.0034566361 1000.000000\n",
      "  a_society.9   0.272570458  0.1751768423 0.00276978907 0.0033347636 1000.000000\n",
      " a_society.10  -0.104391698  0.3067554150 0.00485022898 0.0075910441 1000.000000\n",
      "           bp   0.262866893  0.0841439662 0.00133043292 0.0022429767 1000.000000\n",
      "sigma_society   0.312797212  0.1333858237 0.00210901505 0.0042423208  988.581196\n",
      "    log_lik.1  -2.754640847  0.6898395702 0.01090732131 0.0085736771 1000.000000\n",
      "    log_lik.2  -2.830589653  0.5288954393 0.00836257116 0.0118118514 1000.000000\n",
      "    log_lik.3  -2.861940590  0.5128787734 0.00810932544 0.0098808117 1000.000000\n",
      "    log_lik.4  -3.548338768  0.9251682755 0.01462819485 0.0189775687 1000.000000\n",
      "    log_lik.5  -3.054427407  0.5578916559 0.00882104160 0.0089683616 1000.000000\n",
      "    log_lik.6  -3.169845730  0.9005241672 0.01423853728 0.0184347717 1000.000000\n",
      "    log_lik.7  -3.230900708  0.6561563288 0.01037474250 0.0140172917 1000.000000\n",
      "    log_lik.8  -3.033118033  0.6125643306 0.00968549249 0.0101292636 1000.000000\n",
      "    log_lik.9  -3.542316255  0.7959451753 0.01258499823 0.0132110567 1000.000000\n",
      "   log_lik.10  -3.526129267  0.6443304367 0.01018775873 0.0125122736 1000.000000\n",
      "\n",
      "Quantiles:\n",
      "                   2.5%         25.0%         50.0%        75.0%        97.5%    \n",
      "         lp__ -46.727067500 -41.413900000 -39.22690000 -37.36107500 -34.424522500\n",
      "accept_stat__   0.671749400   0.907098250   0.97407250   0.99609000   0.999956025\n",
      "   stepsize__   0.045493900   0.047375425   0.05019730   0.05498780   0.062775200\n",
      "  treedepth__   5.000000000   6.000000000   6.00000000   6.00000000   7.000000000\n",
      " n_leapfrog__  31.000000000  63.000000000  63.00000000  63.00000000 127.000000000\n",
      "  divergent__   0.000000000   0.000000000   0.00000000   0.00000000   0.000000000\n",
      "     energy__  39.064605000  43.227400000  45.70845000  48.51425000  54.661412500\n",
      "        alpha  -0.501934325   0.666598000   1.11858000   1.54424250   2.603304000\n",
      "  a_society.1  -0.712401625  -0.345466250  -0.18956050  -0.04323035   0.244233825\n",
      "  a_society.2  -0.393813750  -0.097207250   0.03652270   0.17908000   0.508281850\n",
      "  a_society.3  -0.434661100  -0.170813250  -0.04697060   0.07364635   0.340192025\n",
      "  a_society.4  -0.016509282   0.199051250   0.31110950   0.43920625   0.727245950\n",
      "  a_society.5  -0.310808725  -0.073789075   0.04185375   0.15868850   0.401666225\n",
      "  a_society.6  -0.799650275  -0.451144500  -0.30637800  -0.18240525   0.054856608\n",
      "  a_society.7  -0.181430050   0.025277525   0.13419900   0.25056475   0.497899750\n",
      "  a_society.8  -0.556536100  -0.294721000  -0.17017350  -0.05916750   0.163249700\n",
      "  a_society.9  -0.054278630   0.155296500   0.26391750   0.38535725   0.628772775\n",
      " a_society.10  -0.745979725  -0.264101250  -0.09307390   0.06702983   0.479078675\n",
      "           bp   0.095649187   0.213790500   0.26090200   0.30968950   0.439028100\n",
      "sigma_society   0.121642625   0.224079000   0.28989900   0.37416250   0.630803350\n",
      "    log_lik.1  -4.680667250  -2.990030000  -2.48606500  -2.27550750  -2.208739000\n",
      "    log_lik.2  -4.368760500  -2.930192500  -2.62762000  -2.50403000  -2.468659750\n",
      "    log_lik.3  -4.352795250  -2.961567500  -2.66313000  -2.54789000  -2.511780000\n",
      "    log_lik.4  -6.060029250  -3.841592500  -3.19927000  -2.89993500  -2.802460000\n",
      "    log_lik.5  -4.625698750  -3.178872500  -2.83904500  -2.70313750  -2.670119750\n",
      "    log_lik.6  -5.632009750  -3.516725000  -2.84564000  -2.51125250  -2.396929250\n",
      "    log_lik.7  -5.069020750  -3.379700000  -2.97625000  -2.81269250  -2.765850000\n",
      "    log_lik.8  -4.753245000  -3.186200000  -2.80033500  -2.63594000  -2.588609750\n",
      "    log_lik.9  -5.819293500  -3.770902500  -3.23887000  -2.99452750  -2.924770000\n",
      "   log_lik.10  -5.410022000  -3.686865000  -3.26878500  -3.10036750  -3.051989250\n",
      "\n"
     ]
    }
   ],
   "cell_type": "code",
   "source": [
    "describe(chn)"
   ],
   "metadata": {},
   "execution_count": 6
  },
  {
   "outputs": [],
   "cell_type": "markdown",
   "source": [
    "*This notebook was generated using [Literate.jl](https://github.com/fredrikekre/Literate.jl).*"
   ],
   "metadata": {}
  }
 ],
 "nbformat_minor": 3,
 "metadata": {
  "language_info": {
   "file_extension": ".jl",
   "mimetype": "application/julia",
   "name": "julia",
   "version": "1.2.0-DEV.281"
  },
  "kernelspec": {
   "name": "julia-1.2",
   "display_name": "Julia 1.2.0-DEV.281",
   "language": "julia"
  }
 },
 "nbformat": 4
}
