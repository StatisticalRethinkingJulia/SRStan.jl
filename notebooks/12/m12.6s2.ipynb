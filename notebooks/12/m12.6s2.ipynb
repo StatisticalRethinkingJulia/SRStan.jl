{
 "cells": [
  {
   "outputs": [
    {
     "output_type": "execute_result",
     "data": {
      "text/plain": "(10, 5)"
     },
     "metadata": {},
     "execution_count": 1
    }
   ],
   "cell_type": "code",
   "source": [
    "using StanModels\n",
    "\n",
    "ProjDir = rel_path_s(\"..\", \"scripts\", \"12\")\n",
    "\n",
    "d = CSV.read(rel_path( \"..\", \"data\",  \"Kline.csv\"), delim=';');\n",
    "size(d) # Should be 10x5"
   ],
   "metadata": {},
   "execution_count": 1
  },
  {
   "outputs": [],
   "cell_type": "markdown",
   "source": [
    "New col log_pop, set log() for population data"
   ],
   "metadata": {}
  },
  {
   "outputs": [],
   "cell_type": "code",
   "source": [
    "d[:log_pop] = map((x) -> log(x), d[:population]);\n",
    "d[:society] = 1:10;\n",
    "\n",
    "first(d, 5)\n",
    "\n",
    "m12_6_2 = \"\n",
    "  data {\n",
    "    int N;\n",
    "    int T[N];\n",
    "    int N_societies;\n",
    "    int society[N];\n",
    "    int P[N];\n",
    "  }\n",
    "  parameters {\n",
    "    real alpha;\n",
    "    vector[N_societies] a_society;\n",
    "    real bp;\n",
    "    real<lower=0> sigma_society;\n",
    "  }\n",
    "  model {\n",
    "    vector[N] mu;\n",
    "    target += normal_lpdf(alpha | 0, 10);\n",
    "    target += normal_lpdf(bp | 0, 1);\n",
    "    target += cauchy_lpdf(sigma_society | 0, 1);\n",
    "    target += normal_lpdf(a_society | 0, sigma_society);\n",
    "    for(i in 1:N) mu[i] = alpha + a_society[society[i]] + bp * log(P[i]);\n",
    "    target += poisson_log_lpmf(T | mu);\n",
    "  }\n",
    "  generated quantities {\n",
    "    vector[N] log_lik;\n",
    "    {\n",
    "    vector[N] mu;\n",
    "    for(i in 1:N) {\n",
    "      mu[i] = alpha + a_society[society[i]] + bp * log(P[i]);\n",
    "      log_lik[i] = poisson_log_lpmf(T[i] | mu[i]);\n",
    "    }\n",
    "    }\n",
    "  }\n",
    "\";"
   ],
   "metadata": {},
   "execution_count": 2
  },
  {
   "outputs": [],
   "cell_type": "markdown",
   "source": [
    "Define the Stanmodel and set the output format to :mcmcchains."
   ],
   "metadata": {}
  },
  {
   "outputs": [],
   "cell_type": "code",
   "source": [
    "stanmodel = Stanmodel(name=\"m12.6.2\",  model=m12_6_2,\n",
    "output_format=:mcmcchains);"
   ],
   "metadata": {},
   "execution_count": 3
  },
  {
   "outputs": [],
   "cell_type": "markdown",
   "source": [
    "Input data for cmdstan"
   ],
   "metadata": {}
  },
  {
   "outputs": [],
   "cell_type": "code",
   "source": [
    "m12_6_2_data = Dict(\"N\" => size(d, 1), \"T\" => d[:total_tools],\n",
    "\"N_societies\" => 10, \"society\" => d[:society], \"P\" => d[:population]);"
   ],
   "metadata": {},
   "execution_count": 4
  },
  {
   "outputs": [],
   "cell_type": "markdown",
   "source": [
    "Sample using cmdstan"
   ],
   "metadata": {}
  },
  {
   "outputs": [],
   "cell_type": "code",
   "source": [
    "rc, chn, cnames = stan(stanmodel, m12_6_2_data, ProjDir,\n",
    "diagnostics=false, summary=false, CmdStanDir=CMDSTAN_HOME);"
   ],
   "metadata": {},
   "execution_count": 5
  },
  {
   "outputs": [],
   "cell_type": "markdown",
   "source": [
    "Describe the draws"
   ],
   "metadata": {}
  },
  {
   "outputs": [
    {
     "name": "stdout",
     "output_type": "stream",
     "text": [
      "Log evidence      = 0.0\n",
      "Iterations        = 1:1000\n",
      "Thinning interval = 1\n",
      "Chains            = 1, 2, 3, 4\n",
      "Samples per chain = 1000\n",
      "parameters        = alpha, a_society.1, a_society.2, a_society.3, a_society.4, a_society.5, a_society.6, a_society.7, a_society.8, a_society.9, a_society.10, bp, sigma_society, log_lik.1, log_lik.2, log_lik.3, log_lik.4, log_lik.5, log_lik.6, log_lik.7, log_lik.8, log_lik.9, log_lik.10\n",
      "\n",
      "Empirical Posterior Estimates\n",
      "──────────────────────────────────────────────────────\n",
      "parameters\n",
      "                Mean    SD   Naive SE  MCSE     ESS   \n",
      "  a_society.1 -0.2106 0.2619   0.0041 0.0100  685.2982\n",
      "  a_society.2  0.0394 0.2410   0.0038 0.0085  808.9609\n",
      "  a_society.3 -0.0434 0.2030   0.0032 0.0065  963.7376\n",
      "  a_society.4  0.3278 0.1972   0.0031 0.0064  939.7793\n",
      "  a_society.5  0.0439 0.1844   0.0029 0.0054 1000.0000\n",
      "  a_society.6 -0.3240 0.2194   0.0035 0.0072  917.1036\n",
      "  a_society.7  0.1462 0.1841   0.0029 0.0048 1000.0000\n",
      "  a_society.8 -0.1750 0.1905   0.0030 0.0050 1000.0000\n",
      "  a_society.9  0.2785 0.1830   0.0029 0.0044 1000.0000\n",
      " a_society.10 -0.0913 0.3020   0.0048 0.0095 1000.0000\n",
      "        alpha  1.1138 0.8057   0.0127 0.0334  582.2441\n",
      "           bp  0.2597 0.0864   0.0014 0.0034  644.1608\n",
      "    log_lik.1 -2.7492 0.6871   0.0109 0.0136 1000.0000\n",
      "    log_lik.2 -2.8372 0.5850   0.0093 0.0162 1000.0000\n",
      "    log_lik.3 -2.8613 0.5183   0.0082 0.0113 1000.0000\n",
      "    log_lik.4 -3.5643 0.9383   0.0148 0.0211 1000.0000\n",
      "    log_lik.5 -3.0555 0.5429   0.0086 0.0103 1000.0000\n",
      "    log_lik.6 -3.1730 0.9480   0.0150 0.0279 1000.0000\n",
      "    log_lik.7 -3.2512 0.6618   0.0105 0.0124 1000.0000\n",
      "    log_lik.8 -3.0556 0.6483   0.0103 0.0114 1000.0000\n",
      "    log_lik.9 -3.5731 0.8459   0.0134 0.0208 1000.0000\n",
      "   log_lik.10 -3.5479 0.7174   0.0113 0.0148 1000.0000\n",
      "sigma_society  0.3183 0.1395   0.0022 0.0054  676.3565\n",
      "\n",
      "Quantiles\n",
      "──────────────────────────────────────────────────────\n",
      "parameters\n",
      "                2.5%    25.0%   50.0%   75.0%   97.5% \n",
      "  a_society.1  -2.2082 -0.3560 -0.1928 -0.0472  0.6097\n",
      "  a_society.2  -1.9104 -0.1010  0.0388  0.1777  1.0652\n",
      "  a_society.3  -1.3391 -0.1626 -0.0411  0.0812  0.7798\n",
      "  a_society.4  -0.6593  0.1952  0.3198  0.4526  1.0617\n",
      "  a_society.5  -0.9225 -0.0668  0.0434  0.1595  0.8246\n",
      "  a_society.6  -1.5563 -0.4534 -0.3063 -0.1774  0.3669\n",
      "  a_society.7  -0.6299  0.0278  0.1381  0.2603  1.0940\n",
      "  a_society.8  -1.1877 -0.2899 -0.1664 -0.0491  0.6732\n",
      "  a_society.9  -0.3825  0.1553  0.2694  0.3866  1.1953\n",
      " a_society.10  -1.2270 -0.2660 -0.0909  0.0774  1.5125\n",
      "        alpha  -2.3766  0.6340  1.1230  1.5905  6.3459\n",
      "           bp  -0.2526  0.2090  0.2603  0.3119  0.6315\n",
      "    log_lik.1  -7.6356 -2.9812 -2.4862 -2.2663 -2.2078\n",
      "    log_lik.2 -11.2838 -2.9489 -2.6293 -2.5049 -2.4682\n",
      "    log_lik.3  -8.1968 -2.9533 -2.6721 -2.5479 -2.5114\n",
      "    log_lik.4 -10.7880 -3.9155 -3.2094 -2.8882 -2.8015\n",
      "    log_lik.5  -7.5857 -3.1945 -2.8400 -2.7078 -2.6697\n",
      "    log_lik.6 -10.3358 -3.5334 -2.8166 -2.4922 -2.3955\n",
      "    log_lik.7  -8.0653 -3.4079 -2.9888 -2.8159 -2.7655\n",
      "    log_lik.8  -9.1146 -3.2192 -2.8049 -2.6386 -2.5880\n",
      "    log_lik.9  -8.9480 -3.8167 -3.2393 -2.9989 -2.9241\n",
      "   log_lik.10 -10.7335 -3.7097 -3.2779 -3.1008 -3.0514\n",
      "sigma_society   0.0370  0.2248  0.2969  0.3855  1.4175\n",
      "\n"
     ]
    }
   ],
   "cell_type": "code",
   "source": [
    "describe(chn)"
   ],
   "metadata": {},
   "execution_count": 6
  },
  {
   "outputs": [],
   "cell_type": "markdown",
   "source": [
    "*This notebook was generated using [Literate.jl](https://github.com/fredrikekre/Literate.jl).*"
   ],
   "metadata": {}
  }
 ],
 "nbformat_minor": 3,
 "metadata": {
  "language_info": {
   "file_extension": ".jl",
   "mimetype": "application/julia",
   "name": "julia",
   "version": "1.2.0-DEV.462"
  },
  "kernelspec": {
   "name": "julia-1.2",
   "display_name": "Julia 1.2.0-DEV.462",
   "language": "julia"
  }
 },
 "nbformat": 4
}
