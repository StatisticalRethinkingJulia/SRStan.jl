{
 "cells": [
  {
   "outputs": [],
   "cell_type": "markdown",
   "source": [
    "Load Julia packages (libraries)."
   ],
   "metadata": {}
  },
  {
   "outputs": [],
   "cell_type": "code",
   "source": [
    "using StanModels"
   ],
   "metadata": {},
   "execution_count": 1
  },
  {
   "outputs": [],
   "cell_type": "markdown",
   "source": [
    "CmdStan uses a tmp directory to store the output of cmdstan"
   ],
   "metadata": {}
  },
  {
   "outputs": [],
   "cell_type": "code",
   "source": [
    "ProjDir = rel_path_s(\"..\", \"scripts\", \"08\")\n",
    "cd(ProjDir)"
   ],
   "metadata": {},
   "execution_count": 2
  },
  {
   "outputs": [],
   "cell_type": "markdown",
   "source": [
    "Define the Stan language model"
   ],
   "metadata": {}
  },
  {
   "outputs": [],
   "cell_type": "code",
   "source": [
    "m_8_4 = \"\n",
    "data{\n",
    "  int N;\n",
    "  vector[N] y;\n",
    "}\n",
    "parameters{\n",
    "  real sigma;\n",
    "  real alpha;\n",
    "  real a1;\n",
    "  real a2;\n",
    "}\n",
    "model{\n",
    "  real mu;\n",
    "  mu = a1 + a2;\n",
    "  y ~ normal( mu , sigma );\n",
    "}\n",
    "\";"
   ],
   "metadata": {},
   "execution_count": 3
  },
  {
   "outputs": [],
   "cell_type": "markdown",
   "source": [
    "Define the Stanmodel and set the output format to :mcmcchain."
   ],
   "metadata": {}
  },
  {
   "outputs": [
    {
     "name": "stdout",
     "output_type": "stream",
     "text": [
      "\n",
      "File /Users/rob/.julia/dev/StanModels/scripts/08/tmp/m_8_4.stan will be updated.\n",
      "\n"
     ]
    }
   ],
   "cell_type": "code",
   "source": [
    "stanmodel = Stanmodel(name=\"m_8_4\", monitors = [\"alpha\", \"mu\", \"sigma\"],\n",
    "model=m_8_4, output_format=:mcmcchain);"
   ],
   "metadata": {},
   "execution_count": 4
  },
  {
   "outputs": [],
   "cell_type": "markdown",
   "source": [
    "Input data for cmdstan"
   ],
   "metadata": {}
  },
  {
   "outputs": [],
   "cell_type": "code",
   "source": [
    "m_8_4_data = Dict(\"N\" => 100, \"y\" => rand(Normal(0, 1), 100));"
   ],
   "metadata": {},
   "execution_count": 5
  },
  {
   "outputs": [],
   "cell_type": "markdown",
   "source": [
    "Sample using cmdstan"
   ],
   "metadata": {}
  },
  {
   "outputs": [
    {
     "name": "stdout",
     "output_type": "stream",
     "text": [
      "Informational Message: The current Metropolis proposal is about to be rejected because of the following issue:\n",
      "Exception: normal_lpdf: Scale parameter is -1305.96, but must be > 0!  (in '/Users/rob/.julia/dev/StanModels/scripts/08/tmp/m_8_4.stan' at line 14)\n",
      "\n",
      "If this warning occurs sporadically, such as for highly constrained variable types like covariance matrices, then the sampler is fine,\n",
      "but if this warning occurs often then your model may be either severely ill-conditioned or misspecified.\n",
      "\n",
      "Informational Message: The current Metropolis proposal is about to be rejected because of the following issue:\n",
      "Exception: normal_lpdf: Scale parameter is -35.0848, but must be > 0!  (in '/Users/rob/.julia/dev/StanModels/scripts/08/tmp/m_8_4.stan' at line 14)\n",
      "\n",
      "If this warning occurs sporadically, such as for highly constrained variable types like covariance matrices, then the sampler is fine,\n",
      "but if this warning occurs often then your model may be either severely ill-conditioned or misspecified.\n",
      "\n",
      "Informational Message: The current Metropolis proposal is about to be rejected because of the following issue:\n",
      "Exception: normal_lpdf: Scale parameter is -0.138768, but must be > 0!  (in '/Users/rob/.julia/dev/StanModels/scripts/08/tmp/m_8_4.stan' at line 14)\n",
      "\n",
      "If this warning occurs sporadically, such as for highly constrained variable types like covariance matrices, then the sampler is fine,\n",
      "but if this warning occurs often then your model may be either severely ill-conditioned or misspecified.\n",
      "\n",
      "\n",
      "Inference for Stan model: m_8_4_model\n",
      "4 chains: each with iter=(1000,1000,1000,1000); warmup=(0,0,0,0); thin=(1,1,1,1); 4000 iterations saved.\n",
      "\n",
      "Warmup took (3.6, 3.5, 3.7, 3.7) seconds, 15 seconds total\n",
      "Sampling took (4.2, 4.2, 4.1, 4.2) seconds, 17 seconds total\n",
      "\n",
      "                    Mean     MCSE   StdDev        5%       50%       95%    N_Eff  N_Eff/s    R_hat\n",
      "lp__            -5.5e+01  9.6e-02  1.0e+00  -5.7e+01  -5.5e+01  -5.4e+01  1.1e+02  6.7e+00  1.0e+00\n",
      "accept_stat__    9.4e-01  3.1e-03  8.9e-02   7.6e-01   9.8e-01   1.0e+00  8.2e+02  4.9e+01  1.0e+00\n",
      "stepsize__       2.7e-04  6.4e-05  9.1e-05   1.6e-04   2.9e-04   4.0e-04  2.0e+00  1.2e-01  1.5e+14\n",
      "treedepth__      9.5e+00  3.3e-02  1.9e+00   2.0e+00   1.0e+01   1.0e+01  3.5e+03  2.1e+02  1.0e+00\n",
      "n_leapfrog__     9.5e+02  4.3e+00  2.5e+02   7.0e+00   1.0e+03   1.0e+03  3.4e+03  2.1e+02  1.0e+00\n",
      "divergent__      0.0e+00      nan  0.0e+00   0.0e+00   0.0e+00   0.0e+00      nan      nan      nan\n",
      "energy__         5.7e+01  8.9e-02  1.7e+00   5.5e+01   5.7e+01   6.0e+01  3.7e+02  2.2e+01  1.0e+00\n",
      "sigma            1.0e+00  1.9e-02  7.3e-02   9.2e-01   1.0e+00   1.2e+00  1.4e+01  8.7e-01  1.2e+00\n",
      "alpha           -8.7e+01  2.2e+03  3.5e+03  -4.9e+03  -4.6e+02   6.7e+03  2.6e+00  1.6e-01  2.7e+00\n",
      "a1              -3.6e+02  5.3e+02  8.7e+02  -1.8e+03  -5.1e+02   9.0e+02  2.7e+00  1.6e-01  3.7e+00\n",
      "a2               3.6e+02  5.3e+02  8.7e+02  -9.0e+02   5.1e+02   1.8e+03  2.7e+00  1.6e-01  3.7e+00\n",
      "\n",
      "Samples were drawn using hmc with nuts.\n",
      "For each parameter, N_Eff is a crude measure of effective sample size,\n",
      "and R_hat is the potential scale reduction factor on split chains (at \n",
      "convergence, R_hat=1).\n",
      "\n"
     ]
    }
   ],
   "cell_type": "code",
   "source": [
    "rc, chn, cnames = stan(stanmodel, m_8_4_data, ProjDir, diagnostics=false,\n",
    "  summary=true, CmdStanDir=CMDSTAN_HOME);\n",
    "\n",
    "rethinking = \"\n",
    "        mean   sd  5.5% 94.5% n_eff Rhat\n",
    "alpha 0.06 1.90 -2.22  2.49  1321    1\n",
    "sigma 2.15 2.32  0.70  5.21   461    1\n",
    "\";"
   ],
   "metadata": {},
   "execution_count": 6
  },
  {
   "outputs": [],
   "cell_type": "markdown",
   "source": [
    "Describe the draws"
   ],
   "metadata": {}
  },
  {
   "outputs": [
    {
     "name": "stdout",
     "output_type": "stream",
     "text": [
      "Iterations = 1:1000\n",
      "Thinning interval = 1\n",
      "Chains = 1,2,3,4\n",
      "Samples per chain = 1000\n",
      "\n",
      "Empirical Posterior Estimates:\n",
      "          Mean          SD         Naive SE        MCSE        ESS  \n",
      "sigma   1.0299310    0.07325551  0.0011582713   0.009992183 53.74770\n",
      "alpha -86.8805989 3483.68750769 55.0819359028 548.558824911 40.33035\n",
      "\n",
      "Quantiles:\n",
      "           2.5%          25.0%        50.0%       75.0%        97.5%   \n",
      "sigma     0.9062047     0.97833275    1.02844    1.0733125    1.2073915\n",
      "alpha -5347.5402500 -3025.93500000 -458.25550 2477.7650000 7375.5737500\n",
      "\n"
     ]
    }
   ],
   "cell_type": "code",
   "source": [
    "describe(chn)"
   ],
   "metadata": {},
   "execution_count": 7
  },
  {
   "outputs": [],
   "cell_type": "markdown",
   "source": [
    "End of `m8.4s.jl`"
   ],
   "metadata": {}
  },
  {
   "outputs": [],
   "cell_type": "markdown",
   "source": [
    "*This notebook was generated using [Literate.jl](https://github.com/fredrikekre/Literate.jl).*"
   ],
   "metadata": {}
  }
 ],
 "nbformat_minor": 3,
 "metadata": {
  "language_info": {
   "file_extension": ".jl",
   "mimetype": "application/julia",
   "name": "julia",
   "version": "1.2.0-DEV.281"
  },
  "kernelspec": {
   "name": "julia-1.2",
   "display_name": "Julia 1.2.0-DEV.281",
   "language": "julia"
  }
 },
 "nbformat": 4
}
