{
 "cells": [
  {
   "outputs": [],
   "cell_type": "markdown",
   "source": [
    "Load Julia packages (libraries)."
   ],
   "metadata": {}
  },
  {
   "outputs": [],
   "cell_type": "code",
   "source": [
    "using StanModels"
   ],
   "metadata": {},
   "execution_count": 1
  },
  {
   "outputs": [],
   "cell_type": "markdown",
   "source": [
    "CmdStan uses a tmp directory to store the output of cmdstan"
   ],
   "metadata": {}
  },
  {
   "outputs": [],
   "cell_type": "code",
   "source": [
    "ProjDir = rel_path_s(\"..\", \"scripts\", \"08\")\n",
    "cd(ProjDir)"
   ],
   "metadata": {},
   "execution_count": 2
  },
  {
   "outputs": [],
   "cell_type": "markdown",
   "source": [
    "Define the Stan language model"
   ],
   "metadata": {}
  },
  {
   "outputs": [],
   "cell_type": "code",
   "source": [
    "m_8_3 = \"\n",
    "data{\n",
    "  int N;\n",
    "  vector[N] y;\n",
    "}\n",
    "parameters{\n",
    "  real<lower=0> sigma;\n",
    "  real alpha;\n",
    "}\n",
    "model{\n",
    "  real mu;\n",
    "  alpha ~ normal( 1 , 10 );\n",
    "  sigma ~ cauchy( 0 , 1 );\n",
    "  mu = alpha;\n",
    "  y ~ normal( mu , sigma );\n",
    "}\n",
    "\";"
   ],
   "metadata": {},
   "execution_count": 3
  },
  {
   "outputs": [],
   "cell_type": "markdown",
   "source": [
    "Define the Stanmodel and set the output format to :mcmcchain."
   ],
   "metadata": {}
  },
  {
   "outputs": [
    {
     "name": "stdout",
     "output_type": "stream",
     "text": [
      "\n",
      "File /Users/rob/.julia/dev/StanModels/scripts/08/tmp/m_8_3.stan will be updated.\n",
      "\n"
     ]
    }
   ],
   "cell_type": "code",
   "source": [
    "stanmodel = Stanmodel(name=\"m_8_3\", monitors = [\"alpha\", \"mu\", \"sigma\"],\n",
    "model=m_8_3, output_format=:mcmcchain);"
   ],
   "metadata": {},
   "execution_count": 4
  },
  {
   "outputs": [],
   "cell_type": "markdown",
   "source": [
    "Input data for cmdstan"
   ],
   "metadata": {}
  },
  {
   "outputs": [],
   "cell_type": "code",
   "source": [
    "m_8_3_data = Dict(\"N\" => 2, \"y\" => [-1.0, 1.0]);\n",
    "m_8_3_init = Dict(\"alpha\" => 0.0, \"sigma\" => 1.0);"
   ],
   "metadata": {},
   "execution_count": 5
  },
  {
   "outputs": [],
   "cell_type": "markdown",
   "source": [
    "Sample using cmdstan"
   ],
   "metadata": {}
  },
  {
   "outputs": [
    {
     "name": "stdout",
     "output_type": "stream",
     "text": [
      "\n",
      "Inference for Stan model: m_8_3_model\n",
      "4 chains: each with iter=(1000,1000,1000,1000); warmup=(0,0,0,0); thin=(1,1,1,1); 4000 iterations saved.\n",
      "\n",
      "Warmup took (0.029, 0.026, 0.028, 0.028) seconds, 0.11 seconds total\n",
      "Sampling took (0.046, 0.045, 0.045, 0.039) seconds, 0.17 seconds total\n",
      "\n",
      "                    Mean     MCSE  StdDev    5%       50%   95%    N_Eff  N_Eff/s    R_hat\n",
      "lp__            -3.1e+00  4.8e-02     1.3  -5.8  -2.7e+00  -1.8  7.5e+02  4.3e+03  1.0e+00\n",
      "accept_stat__    9.1e-01  3.4e-03    0.17  0.53   9.7e-01   1.0  2.6e+03  1.5e+04  1.0e+00\n",
      "stepsize__       4.0e-01  2.4e-02   0.034  0.34   4.1e-01  0.43  2.0e+00  1.1e+01  4.7e+13\n",
      "treedepth__      2.3e+00  1.1e-02    0.65   1.0   2.0e+00   3.0  3.3e+03  1.9e+04  1.0e+00\n",
      "n_leapfrog__     5.6e+00  5.3e-02     2.7   1.0   7.0e+00   7.0  2.6e+03  1.5e+04  1.0e+00\n",
      "divergent__      0.0e+00      nan    0.00  0.00   0.0e+00  0.00      nan      nan      nan\n",
      "energy__         4.1e+00  5.7e-02     1.6   2.1   3.7e+00   7.3  8.3e+02  4.7e+03  1.0e+00\n",
      "sigma            2.0e+00  6.3e-02     1.8  0.69   1.5e+00   5.1  7.8e+02  4.4e+03  1.0e+00\n",
      "alpha           -5.6e-02  6.4e-02     1.6  -2.3  -3.0e-02   2.2  6.2e+02  3.6e+03  1.0e+00\n",
      "\n",
      "Samples were drawn using hmc with nuts.\n",
      "For each parameter, N_Eff is a crude measure of effective sample size,\n",
      "and R_hat is the potential scale reduction factor on split chains (at \n",
      "convergence, R_hat=1).\n",
      "\n"
     ]
    }
   ],
   "cell_type": "code",
   "source": [
    "rc, chn, cnames = stan(stanmodel, m_8_3_data, ProjDir, init=m_8_3_init,\n",
    " diagnostics=false, summary=true, CmdStanDir=CMDSTAN_HOME);\n",
    "\n",
    "rethinking = \"\n",
    "        mean   sd  5.5% 94.5% n_eff Rhat\n",
    "alpha 0.06 1.90 -2.22  2.49  1321    1\n",
    "sigma 2.15 2.32  0.70  5.21   461    1\n",
    "\";"
   ],
   "metadata": {},
   "execution_count": 6
  },
  {
   "outputs": [],
   "cell_type": "markdown",
   "source": [
    "Describe the draws"
   ],
   "metadata": {}
  },
  {
   "outputs": [
    {
     "name": "stdout",
     "output_type": "stream",
     "text": [
      "Iterations = 1:1000\n",
      "Thinning interval = 1\n",
      "Chains = 1,2,3,4\n",
      "Samples per chain = 1000\n",
      "\n",
      "Empirical Posterior Estimates:\n",
      "          Mean         SD      Naive SE      MCSE       ESS  \n",
      "sigma  2.018800403 1.7511423 0.027687991 0.061208838 818.4923\n",
      "alpha -0.056236743 1.5836414 0.025039570 0.064347635 605.6874\n",
      "\n",
      "Quantiles:\n",
      "          2.5%       25.0%      50.0%      75.0%     97.5%  \n",
      "sigma  0.61508672  1.0377675  1.4865150 2.34780000 6.7409092\n",
      "alpha -3.36840250 -0.7322315 -0.0297891 0.62213625 3.1875775\n",
      "\n"
     ]
    }
   ],
   "cell_type": "code",
   "source": [
    "describe(chn)"
   ],
   "metadata": {},
   "execution_count": 7
  },
  {
   "outputs": [],
   "cell_type": "markdown",
   "source": [
    "End of `m8.3s.jl`"
   ],
   "metadata": {}
  },
  {
   "outputs": [],
   "cell_type": "markdown",
   "source": [
    "*This notebook was generated using [Literate.jl](https://github.com/fredrikekre/Literate.jl).*"
   ],
   "metadata": {}
  }
 ],
 "nbformat_minor": 3,
 "metadata": {
  "language_info": {
   "file_extension": ".jl",
   "mimetype": "application/julia",
   "name": "julia",
   "version": "1.2.0-DEV.281"
  },
  "kernelspec": {
   "name": "julia-1.2",
   "display_name": "Julia 1.2.0-DEV.281",
   "language": "julia"
  }
 },
 "nbformat": 4
}
