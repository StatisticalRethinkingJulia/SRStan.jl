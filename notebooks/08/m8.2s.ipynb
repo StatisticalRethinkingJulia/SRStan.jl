{
 "cells": [
  {
   "outputs": [],
   "cell_type": "markdown",
   "source": [
    "Load Julia packages (libraries) ."
   ],
   "metadata": {}
  },
  {
   "outputs": [],
   "cell_type": "code",
   "source": [
    "using StanModels"
   ],
   "metadata": {},
   "execution_count": 1
  },
  {
   "outputs": [],
   "cell_type": "markdown",
   "source": [
    "CmdStan uses a tmp directory to store the output of cmdstan"
   ],
   "metadata": {}
  },
  {
   "outputs": [],
   "cell_type": "code",
   "source": [
    "ProjDir = rel_path_s(\"..\", \"scripts\", \"08\")\n",
    "cd(ProjDir)"
   ],
   "metadata": {},
   "execution_count": 2
  },
  {
   "outputs": [],
   "cell_type": "markdown",
   "source": [
    "Define the Stan language model"
   ],
   "metadata": {}
  },
  {
   "outputs": [],
   "cell_type": "code",
   "source": [
    "m_8_2 = \"\n",
    "data{\n",
    "    int N;\n",
    "    vector[N] y;\n",
    "}\n",
    "parameters{\n",
    "    real mu;\n",
    "    real<lower=0> sigma;\n",
    "}\n",
    "model{\n",
    "    y ~ normal( mu , sigma );\n",
    "}\n",
    "\";"
   ],
   "metadata": {},
   "execution_count": 3
  },
  {
   "outputs": [],
   "cell_type": "markdown",
   "source": [
    "Define the Stanmodel, set the output format to :mcmcchain."
   ],
   "metadata": {}
  },
  {
   "outputs": [
    {
     "name": "stdout",
     "output_type": "stream",
     "text": [
      "\n",
      "File /Users/rob/.julia/dev/StanModels/scripts/08/tmp/m_8_2.stan will be updated.\n",
      "\n"
     ]
    }
   ],
   "cell_type": "code",
   "source": [
    "stanmodel = Stanmodel(name=\"m_8_2\", monitors = [\"mu\", \"sigma\"],\n",
    "model=m_8_2, output_format=:mcmcchain);"
   ],
   "metadata": {},
   "execution_count": 4
  },
  {
   "outputs": [],
   "cell_type": "markdown",
   "source": [
    "Input data for cmdstan"
   ],
   "metadata": {}
  },
  {
   "outputs": [],
   "cell_type": "code",
   "source": [
    "m_8_2_data = Dict(\"N\" => 2, \"y\" => [-1, 1]);\n",
    "m_8_2_init = Dict(\"mu\" => 0.0, \"sigma\" => 1.0);"
   ],
   "metadata": {},
   "execution_count": 5
  },
  {
   "outputs": [],
   "cell_type": "markdown",
   "source": [
    "Sample using cmdstan"
   ],
   "metadata": {}
  },
  {
   "outputs": [
    {
     "name": "stdout",
     "output_type": "stream",
     "text": [
      "\n",
      "libc++abi.dylib: terminating with uncaught exception of type boost::exception_detail::clone_impl<boost::exception_detail::error_info_injector<boost::bad_lexical_cast> >: bad lexical cast: source type value could not be interpreted as target\n"
     ]
    }
   ],
   "cell_type": "code",
   "source": [
    "rc, chn, cnames = stan(stanmodel, m_8_2_data, ProjDir,\n",
    "init=m_8_2_init, diagnostics=false,\n",
    "summary=true, CmdStanDir=CMDSTAN_HOME);"
   ],
   "metadata": {},
   "execution_count": 6
  },
  {
   "outputs": [],
   "cell_type": "markdown",
   "source": [
    "Describe the draws"
   ],
   "metadata": {}
  },
  {
   "outputs": [
    {
     "name": "stdout",
     "output_type": "stream",
     "text": [
      "Iterations = 1:1000\n",
      "Thinning interval = 1\n",
      "Chains = 1,2,3,4\n",
      "Samples per chain = 1000\n",
      "\n",
      "Empirical Posterior Estimates:\n",
      "            Mean            SD          Naive SE         MCSE          ESS   \n",
      "   mu  -1.8679153×10⁹ 1.6226152×10¹⁰ 2.5655799×10⁸  2.03996039×10⁹   63.26851\n",
      "sigma 4.30413839×10¹⁰ 5.2475185×10¹¹ 8.2970553×10⁹ 1.63117919×10¹⁰ 1000.00000\n",
      "\n",
      "Quantiles:\n",
      "            2.5%            25.0%         50.0%         75.0%          97.5%     \n",
      "   mu -3.85690825×10¹⁰ -2.5068100×10⁸ -7.455555×10² 9.2011000×10⁶ 2.86657675×10¹⁰\n",
      "sigma   7.13657675×10¹  1.3299775×10⁶  1.806835×10⁸ 3.9423925×10⁹ 2.63861025×10¹¹\n",
      "\n"
     ]
    }
   ],
   "cell_type": "code",
   "source": [
    "describe(chn)"
   ],
   "metadata": {},
   "execution_count": 7
  },
  {
   "outputs": [],
   "cell_type": "markdown",
   "source": [
    "End of `m8.2s.jl`"
   ],
   "metadata": {}
  },
  {
   "outputs": [],
   "cell_type": "markdown",
   "source": [
    "*This notebook was generated using [Literate.jl](https://github.com/fredrikekre/Literate.jl).*"
   ],
   "metadata": {}
  }
 ],
 "nbformat_minor": 3,
 "metadata": {
  "language_info": {
   "file_extension": ".jl",
   "mimetype": "application/julia",
   "name": "julia",
   "version": "1.2.0-DEV.281"
  },
  "kernelspec": {
   "name": "julia-1.2",
   "display_name": "Julia 1.2.0-DEV.281",
   "language": "julia"
  }
 },
 "nbformat": 4
}
