{
 "cells": [
  {
   "outputs": [],
   "cell_type": "markdown",
   "source": [
    "Load Julia packages (libraries) ."
   ],
   "metadata": {}
  },
  {
   "outputs": [],
   "cell_type": "code",
   "source": [
    "using StanModels"
   ],
   "metadata": {},
   "execution_count": 1
  },
  {
   "outputs": [],
   "cell_type": "markdown",
   "source": [
    "CmdStan uses a tmp directory to store the output of cmdstan"
   ],
   "metadata": {}
  },
  {
   "outputs": [],
   "cell_type": "code",
   "source": [
    "ProjDir = rel_path_s(\"..\", \"scripts\", \"08\")\n",
    "cd(ProjDir)"
   ],
   "metadata": {},
   "execution_count": 2
  },
  {
   "outputs": [],
   "cell_type": "markdown",
   "source": [
    "Define the Stan language model"
   ],
   "metadata": {}
  },
  {
   "outputs": [],
   "cell_type": "code",
   "source": [
    "m_8_2 = \"\n",
    "data{\n",
    "    int N;\n",
    "    vector[N] y;\n",
    "}\n",
    "parameters{\n",
    "    real mu;\n",
    "    real<lower=0> sigma;\n",
    "}\n",
    "model{\n",
    "    y ~ normal( mu , sigma );\n",
    "}\n",
    "\";"
   ],
   "metadata": {},
   "execution_count": 3
  },
  {
   "outputs": [],
   "cell_type": "markdown",
   "source": [
    "Define the Stanmodel, set the output format to :mcmcchain."
   ],
   "metadata": {}
  },
  {
   "outputs": [
    {
     "name": "stdout",
     "output_type": "stream",
     "text": [
      "\n",
      "File /Users/rob/.julia/dev/StanModels/scripts/08/tmp/m_8_2.stan will be updated.\n",
      "\n"
     ]
    }
   ],
   "cell_type": "code",
   "source": [
    "stanmodel = Stanmodel(name=\"m_8_2\", monitors = [\"mu\", \"sigma\"],\n",
    "model=m_8_2, output_format=:mcmcchain);"
   ],
   "metadata": {},
   "execution_count": 4
  },
  {
   "outputs": [],
   "cell_type": "markdown",
   "source": [
    "Input data for cmdstan"
   ],
   "metadata": {}
  },
  {
   "outputs": [],
   "cell_type": "code",
   "source": [
    "m_8_2_data = Dict(\"N\" => 2, \"y\" => [-1, 1]);\n",
    "m_8_2_init = Dict(\"mu\" => 0.0, \"sigma\" => 1.0);"
   ],
   "metadata": {},
   "execution_count": 5
  },
  {
   "outputs": [],
   "cell_type": "markdown",
   "source": [
    "Sample using cmdstan"
   ],
   "metadata": {}
  },
  {
   "outputs": [
    {
     "name": "stdout",
     "output_type": "stream",
     "text": [
      "\n",
      "Inference for Stan model: m_8_2_model\n",
      "4 chains: each with iter=(1000,1000,1000,1000); warmup=(0,0,0,0); thin=(1,1,1,1); 4000 iterations saved.\n",
      "\n",
      "Warmup took (0.15, 0.095, 0.080, 0.35) seconds, 0.68 seconds total\n",
      "Sampling took (0.70, 0.82, 0.79, 0.42) seconds, 2.7 seconds total\n",
      "\n",
      "                    Mean     MCSE   StdDev        5%       50%       95%  N_Eff  N_Eff/s    R_hat\n",
      "lp__            -1.6e+01  2.1e+00  4.5e+00  -2.3e+01  -1.6e+01  -7.6e+00    4.8      1.8  1.5e+00\n",
      "accept_stat__    9.0e-01  2.4e-02  2.2e-01   3.3e-01   9.9e-01   1.0e+00     84       31  1.0e+00\n",
      "stepsize__       1.3e-01  5.5e-02  7.8e-02   5.3e-02   1.3e-01   2.6e-01    2.0     0.73  2.5e+14\n",
      "treedepth__      4.5e+00  3.1e-01  2.8e+00   1.0e+00   4.0e+00   1.0e+01     79       29  1.0e+00\n",
      "n_leapfrog__     1.8e+02  4.0e+01  3.4e+02   3.0e+00   1.5e+01   1.0e+03     71       26  1.0e+00\n",
      "divergent__      2.6e-02  1.0e-02  1.6e-01   0.0e+00   0.0e+00   0.0e+00    240       88  1.0e+00\n",
      "energy__         1.7e+01  2.1e+00  4.6e+00   8.5e+00   1.7e+01   2.4e+01    5.1      1.9  1.5e+00\n",
      "mu               3.0e+06  1.6e+08  7.2e+08  -1.0e+09   7.6e+03   6.5e+08     21      7.7  1.2e+00\n",
      "sigma            1.1e+09  5.8e+08  5.8e+09   1.3e+03   7.6e+06   5.2e+09    100       37  1.0e+00\n",
      "\n",
      "Samples were drawn using hmc with nuts.\n",
      "For each parameter, N_Eff is a crude measure of effective sample size,\n",
      "and R_hat is the potential scale reduction factor on split chains (at \n",
      "convergence, R_hat=1).\n",
      "\n"
     ]
    }
   ],
   "cell_type": "code",
   "source": [
    "rc, chn, cnames = stan(stanmodel, m_8_2_data, ProjDir,\n",
    "init=m_8_2_init, diagnostics=false,\n",
    "summary=true, CmdStanDir=CMDSTAN_HOME);"
   ],
   "metadata": {},
   "execution_count": 6
  },
  {
   "outputs": [],
   "cell_type": "markdown",
   "source": [
    "Describe the draws"
   ],
   "metadata": {}
  },
  {
   "outputs": [
    {
     "name": "stdout",
     "output_type": "stream",
     "text": [
      "Iterations = 1:1000\n",
      "Thinning interval = 1\n",
      "Chains = 1,2,3,4\n",
      "Samples per chain = 1000\n",
      "\n",
      "Empirical Posterior Estimates:\n",
      "           Mean            SD          Naive SE         MCSE         ESS   \n",
      "   mu 2.95801535×10⁶ 7.16087226×10⁸ 1.13223332×10⁷ 8.37111492×10⁷  73.17542\n",
      "sigma 1.12968896×10⁹ 5.83841149×10⁹ 9.23133911×10⁷ 3.60712389×10⁸ 261.97949\n",
      "\n",
      "Quantiles:\n",
      "           2.5%          25.0%        50.0%        75.0%          97.5%    \n",
      "   mu -1.6763570×10⁹ -1.592380×10⁶ 7.56411×10³ 4.3249625×10⁶ 1.85070075×10⁹\n",
      "sigma  6.6935335×10²  3.958655×10⁵ 7.59242×10⁶ 2.1561300×10⁸ 9.69670825×10⁹\n",
      "\n"
     ]
    }
   ],
   "cell_type": "code",
   "source": [
    "describe(chn)"
   ],
   "metadata": {},
   "execution_count": 7
  },
  {
   "outputs": [],
   "cell_type": "markdown",
   "source": [
    "End of `m8.2s.jl`"
   ],
   "metadata": {}
  },
  {
   "outputs": [],
   "cell_type": "markdown",
   "source": [
    "*This notebook was generated using [Literate.jl](https://github.com/fredrikekre/Literate.jl).*"
   ],
   "metadata": {}
  }
 ],
 "nbformat_minor": 3,
 "metadata": {
  "language_info": {
   "file_extension": ".jl",
   "mimetype": "application/julia",
   "name": "julia",
   "version": "1.2.0-DEV.296"
  },
  "kernelspec": {
   "name": "julia-1.2",
   "display_name": "Julia 1.2.0-DEV.296",
   "language": "julia"
  }
 },
 "nbformat": 4
}
