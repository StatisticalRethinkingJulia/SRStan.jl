{
 "cells": [
  {
   "outputs": [],
   "cell_type": "markdown",
   "source": [
    "Load Julia packages (libraries) needed  for the snippets in chapter 0"
   ],
   "metadata": {}
  },
  {
   "outputs": [],
   "cell_type": "code",
   "source": [
    "using StatisticalRethinking\n",
    "using CmdStan, StanMCMCChain\n",
    "gr(size=(500,500));"
   ],
   "metadata": {},
   "execution_count": 1
  },
  {
   "outputs": [],
   "cell_type": "markdown",
   "source": [
    "CmdStan uses a tmp directory to store the output of cmdstan"
   ],
   "metadata": {}
  },
  {
   "outputs": [],
   "cell_type": "code",
   "source": [
    "ProjDir = rel_path(\"..\", \"scripts\", \"10\")\n",
    "cd(ProjDir)"
   ],
   "metadata": {},
   "execution_count": 2
  },
  {
   "outputs": [],
   "cell_type": "markdown",
   "source": [
    "### snippet 10.4"
   ],
   "metadata": {}
  },
  {
   "outputs": [
    {
     "output_type": "execute_result",
     "data": {
      "text/plain": "5×8 DataFrame. Omitted printing of 2 columns\n│ Row │ actor  │ recipient │ condition │ block  │ trial  │ prosoc_left │\n│     │ \u001b[90mInt64⍰\u001b[39m │ \u001b[90mString⍰\u001b[39m   │ \u001b[90mInt64⍰\u001b[39m    │ \u001b[90mInt64⍰\u001b[39m │ \u001b[90mInt64⍰\u001b[39m │ \u001b[90mInt64⍰\u001b[39m      │\n├─────┼────────┼───────────┼───────────┼────────┼────────┼─────────────┤\n│ 1   │ 1      │ NA        │ 0         │ 1      │ 2      │ 0           │\n│ 2   │ 1      │ NA        │ 0         │ 1      │ 4      │ 0           │\n│ 3   │ 1      │ NA        │ 0         │ 1      │ 6      │ 1           │\n│ 4   │ 1      │ NA        │ 0         │ 1      │ 8      │ 0           │\n│ 5   │ 1      │ NA        │ 0         │ 1      │ 10     │ 1           │",
      "text/html": [
       "<table class=\"data-frame\"><thead><tr><th></th><th>actor</th><th>recipient</th><th>condition</th><th>block</th><th>trial</th><th>prosoc_left</th><th>chose_prosoc</th><th>pulled_left</th></tr><tr><th></th><th>Int64⍰</th><th>String⍰</th><th>Int64⍰</th><th>Int64⍰</th><th>Int64⍰</th><th>Int64⍰</th><th>Int64⍰</th><th>Int64⍰</th></tr></thead><tbody><p>5 rows × 8 columns</p><tr><th>1</th><td>1</td><td>NA</td><td>0</td><td>1</td><td>2</td><td>0</td><td>1</td><td>0</td></tr><tr><th>2</th><td>1</td><td>NA</td><td>0</td><td>1</td><td>4</td><td>0</td><td>0</td><td>1</td></tr><tr><th>3</th><td>1</td><td>NA</td><td>0</td><td>1</td><td>6</td><td>1</td><td>0</td><td>0</td></tr><tr><th>4</th><td>1</td><td>NA</td><td>0</td><td>1</td><td>8</td><td>0</td><td>1</td><td>0</td></tr><tr><th>5</th><td>1</td><td>NA</td><td>0</td><td>1</td><td>10</td><td>1</td><td>1</td><td>1</td></tr></tbody></table>"
      ]
     },
     "metadata": {},
     "execution_count": 3
    }
   ],
   "cell_type": "code",
   "source": [
    "d = CSV.read(rel_path(\"..\", \"data\", \"chimpanzees.csv\"), delim=';');\n",
    "df = convert(DataFrame, d);\n",
    "\n",
    "first(df, 5)"
   ],
   "metadata": {},
   "execution_count": 3
  },
  {
   "outputs": [],
   "cell_type": "markdown",
   "source": [
    "Define the Stan language model"
   ],
   "metadata": {}
  },
  {
   "outputs": [],
   "cell_type": "code",
   "source": [
    "m_10_04 = \"\n",
    "data{\n",
    "    int N;\n",
    "    int N_actors;\n",
    "    int pulled_left[N];\n",
    "    int prosoc_left[N];\n",
    "    int condition[N];\n",
    "    int actor[N];\n",
    "}\n",
    "parameters{\n",
    "    vector[N_actors] a;\n",
    "    real bp;\n",
    "    real bpC;\n",
    "}\n",
    "model{\n",
    "    vector[N] p;\n",
    "    bpC ~ normal( 0 , 10 );\n",
    "    bp ~ normal( 0 , 10 );\n",
    "    a ~ normal( 0 , 10 );\n",
    "    for ( i in 1:504 ) {\n",
    "        p[i] = a[actor[i]] + (bp + bpC * condition[i]) * prosoc_left[i];\n",
    "        p[i] = inv_logit(p[i]);\n",
    "    }\n",
    "    pulled_left ~ binomial( 1 , p );\n",
    "}\n",
    "\";"
   ],
   "metadata": {},
   "execution_count": 4
  },
  {
   "outputs": [],
   "cell_type": "markdown",
   "source": [
    "Define the Stanmodel and set the output format to :mcmcchain."
   ],
   "metadata": {}
  },
  {
   "outputs": [
    {
     "name": "stdout",
     "output_type": "stream",
     "text": [
      "\n",
      "File /Users/rob/.julia/dev/StatisticalRethinking/scripts/10/tmp/m_10_04.stan will be updated.\n",
      "\n"
     ]
    }
   ],
   "cell_type": "code",
   "source": [
    "stanmodel = Stanmodel(name=\"m_10_04\",\n",
    "monitors = [\"a.1\", \"a.2\", \"a.3\", \"a.4\", \"a.5\", \"a.6\", \"a.7\", \"bp\", \"bpC\"],\n",
    "model=m_10_04, output_format=:mcmcchain);"
   ],
   "metadata": {},
   "execution_count": 5
  },
  {
   "outputs": [],
   "cell_type": "markdown",
   "source": [
    "Input data for cmdstan"
   ],
   "metadata": {}
  },
  {
   "outputs": [],
   "cell_type": "code",
   "source": [
    "m_10_04_data = Dict(\"N\" => size(df, 1), \"N_actors\" => length(unique(df[:actor])),\n",
    "\"actor\" => df[:actor], \"pulled_left\" => df[:pulled_left],\n",
    "\"prosoc_left\" => df[:prosoc_left], \"condition\" => df[:condition]);"
   ],
   "metadata": {},
   "execution_count": 6
  },
  {
   "outputs": [],
   "cell_type": "markdown",
   "source": [
    "Sample using cmdstan"
   ],
   "metadata": {}
  },
  {
   "outputs": [],
   "cell_type": "code",
   "source": [
    "rc, chn, cnames = stan(stanmodel, m_10_04_data, ProjDir, diagnostics=false,\n",
    "  summary=false, CmdStanDir=CMDSTAN_HOME);\n",
    "# Result rethinking\n",
    "# Result rethinking\n",
    "rethinking = \"\n",
    "   mean   sd  5.5% 94.5% n_eff Rhat\n",
    "      mean   sd  5.5% 94.5% n_eff Rhat\n",
    "a[1] -0.74 0.27 -1.17 -0.31  3838    1\n",
    "a[2] 11.02 5.53  4.46 21.27  1759    1\n",
    "a[3] -1.05 0.28 -1.50 -0.61  3784    1\n",
    "a[4] -1.05 0.27 -1.48 -0.62  3761    1\n",
    "a[5] -0.74 0.27 -1.18 -0.32  4347    1\n",
    "a[6]  0.21 0.27 -0.23  0.66  3932    1\n",
    "a[7]  1.81 0.39  1.19  2.46  4791    1\n",
    "bp    0.84 0.26  0.42  1.26  2586    1\n",
    "\";"
   ],
   "metadata": {},
   "execution_count": 7
  },
  {
   "outputs": [],
   "cell_type": "markdown",
   "source": [
    "Describe the draws"
   ],
   "metadata": {}
  },
  {
   "outputs": [
    {
     "name": "stdout",
     "output_type": "stream",
     "text": [
      "Iterations = 1:1000\n",
      "Thinning interval = 1\n",
      "Chains = 1,2,3,4\n",
      "Samples per chain = 1000\n",
      "\n",
      "Empirical Posterior Estimates:\n",
      "        Mean        SD       Naive SE       MCSE      ESS\n",
      "a.1 -0.73343022 0.25838375 0.0040854058 0.0039588828 1000\n",
      "a.2 11.06540241 5.46281677 0.0863747172 0.1492004268 1000\n",
      "a.3 -1.05628586 0.28085103 0.0044406446 0.0039628129 1000\n",
      "a.4 -1.05497986 0.28094399 0.0044421146 0.0042538946 1000\n",
      "a.5 -0.73922410 0.26915969 0.0042557884 0.0046349320 1000\n",
      "a.6  0.21160093 0.27113932 0.0042870890 0.0055139679 1000\n",
      "a.7  1.81275099 0.39202989 0.0061985369 0.0056710879 1000\n",
      " bp  0.83825432 0.25893598 0.0040941373 0.0049557434 1000\n",
      "bpC -0.12509863 0.29656636 0.0046891259 0.0055261818 1000\n",
      "\n",
      "Quantiles:\n",
      "       2.5%        25.0%       50.0%      75.0%       97.5%   \n",
      "a.1 -1.2430375 -0.909632000 -0.7342215 -0.55295900 -0.22456035\n",
      "a.2  3.9984648  6.877675000  9.9084800 14.10175000 24.47144250\n",
      "a.3 -1.6124562 -1.244810000 -1.0540550 -0.86207975 -0.52212810\n",
      "a.4 -1.6147802 -1.238167500 -1.0517950 -0.86162075 -0.52649410\n",
      "a.5 -1.2815222 -0.913773000 -0.7342010 -0.56039175 -0.22113067\n",
      "a.6 -0.3092920  0.026193375  0.2155805  0.39900025  0.73656643\n",
      "a.7  1.1100058  1.541247500  1.7928050  2.05809000  2.63583625\n",
      " bp  0.3344433  0.664688000  0.8336885  1.01125250  1.35229850\n",
      "bpC -0.7020891 -0.320814750 -0.1210405  0.07635130  0.45731995\n",
      "\n"
     ]
    }
   ],
   "cell_type": "code",
   "source": [
    "describe(chn)"
   ],
   "metadata": {},
   "execution_count": 8
  },
  {
   "outputs": [],
   "cell_type": "markdown",
   "source": [
    "End of `10/m10.02s.jl`"
   ],
   "metadata": {}
  },
  {
   "outputs": [],
   "cell_type": "markdown",
   "source": [
    "*This notebook was generated using [Literate.jl](https://github.com/fredrikekre/Literate.jl).*"
   ],
   "metadata": {}
  }
 ],
 "nbformat_minor": 3,
 "metadata": {
  "language_info": {
   "file_extension": ".jl",
   "mimetype": "application/julia",
   "name": "julia",
   "version": "1.2.0-DEV.270"
  },
  "kernelspec": {
   "name": "julia-1.2",
   "display_name": "Julia 1.2.0-DEV.270",
   "language": "julia"
  }
 },
 "nbformat": 4
}
