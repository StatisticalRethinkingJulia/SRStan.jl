{
 "cells": [
  {
   "outputs": [],
   "cell_type": "markdown",
   "source": [
    "Load Julia packages (libraries) needed  for the snippets in chapter 0"
   ],
   "metadata": {}
  },
  {
   "outputs": [],
   "cell_type": "code",
   "source": [
    "using StanModels"
   ],
   "metadata": {},
   "execution_count": 1
  },
  {
   "outputs": [],
   "cell_type": "markdown",
   "source": [
    "CmdStan uses a tmp directory to store the output of cmdstan"
   ],
   "metadata": {}
  },
  {
   "outputs": [],
   "cell_type": "code",
   "source": [
    "ProjDir = @__DIR__\n",
    "cd(ProjDir)"
   ],
   "metadata": {},
   "execution_count": 2
  },
  {
   "outputs": [],
   "cell_type": "markdown",
   "source": [
    "### snippet 10.4"
   ],
   "metadata": {}
  },
  {
   "outputs": [
    {
     "output_type": "execute_result",
     "data": {
      "text/plain": "5×8 DataFrame. Omitted printing of 2 columns\n│ Row │ actor  │ recipient │ condition │ block  │ trial  │ prosoc_left │\n│     │ \u001b[90mInt64⍰\u001b[39m │ \u001b[90mString⍰\u001b[39m   │ \u001b[90mInt64⍰\u001b[39m    │ \u001b[90mInt64⍰\u001b[39m │ \u001b[90mInt64⍰\u001b[39m │ \u001b[90mInt64⍰\u001b[39m      │\n├─────┼────────┼───────────┼───────────┼────────┼────────┼─────────────┤\n│ 1   │ 1      │ NA        │ 0         │ 1      │ 2      │ 0           │\n│ 2   │ 1      │ NA        │ 0         │ 1      │ 4      │ 0           │\n│ 3   │ 1      │ NA        │ 0         │ 1      │ 6      │ 1           │\n│ 4   │ 1      │ NA        │ 0         │ 1      │ 8      │ 0           │\n│ 5   │ 1      │ NA        │ 0         │ 1      │ 10     │ 1           │",
      "text/html": [
       "<table class=\"data-frame\"><thead><tr><th></th><th>actor</th><th>recipient</th><th>condition</th><th>block</th><th>trial</th><th>prosoc_left</th><th>chose_prosoc</th><th>pulled_left</th></tr><tr><th></th><th>Int64⍰</th><th>String⍰</th><th>Int64⍰</th><th>Int64⍰</th><th>Int64⍰</th><th>Int64⍰</th><th>Int64⍰</th><th>Int64⍰</th></tr></thead><tbody><p>5 rows × 8 columns</p><tr><th>1</th><td>1</td><td>NA</td><td>0</td><td>1</td><td>2</td><td>0</td><td>1</td><td>0</td></tr><tr><th>2</th><td>1</td><td>NA</td><td>0</td><td>1</td><td>4</td><td>0</td><td>0</td><td>1</td></tr><tr><th>3</th><td>1</td><td>NA</td><td>0</td><td>1</td><td>6</td><td>1</td><td>0</td><td>0</td></tr><tr><th>4</th><td>1</td><td>NA</td><td>0</td><td>1</td><td>8</td><td>0</td><td>1</td><td>0</td></tr><tr><th>5</th><td>1</td><td>NA</td><td>0</td><td>1</td><td>10</td><td>1</td><td>1</td><td>1</td></tr></tbody></table>"
      ]
     },
     "metadata": {},
     "execution_count": 3
    }
   ],
   "cell_type": "code",
   "source": [
    "d = CSV.read(rel_path(\"..\", \"data\", \"chimpanzees.csv\"), delim=';');\n",
    "df = convert(DataFrame, d);\n",
    "\n",
    "first(df, 5)"
   ],
   "metadata": {},
   "execution_count": 3
  },
  {
   "outputs": [],
   "cell_type": "markdown",
   "source": [
    "Define the Stan language model"
   ],
   "metadata": {}
  },
  {
   "outputs": [],
   "cell_type": "code",
   "source": [
    "m_10_04 = \"\n",
    "data{\n",
    "    int N;\n",
    "    int N_actors;\n",
    "    int pulled_left[N];\n",
    "    int prosoc_left[N];\n",
    "    int condition[N];\n",
    "    int actor[N];\n",
    "}\n",
    "parameters{\n",
    "    vector[N_actors] a;\n",
    "    real bp;\n",
    "    real bpC;\n",
    "}\n",
    "model{\n",
    "    vector[N] p;\n",
    "    bpC ~ normal( 0 , 10 );\n",
    "    bp ~ normal( 0 , 10 );\n",
    "    a ~ normal( 0 , 10 );\n",
    "    for ( i in 1:504 ) {\n",
    "        p[i] = a[actor[i]] + (bp + bpC * condition[i]) * prosoc_left[i];\n",
    "        p[i] = inv_logit(p[i]);\n",
    "    }\n",
    "    pulled_left ~ binomial( 1 , p );\n",
    "}\n",
    "\";"
   ],
   "metadata": {},
   "execution_count": 4
  },
  {
   "outputs": [],
   "cell_type": "markdown",
   "source": [
    "Define the Stanmodel and set the output format to :mcmcchains."
   ],
   "metadata": {}
  },
  {
   "outputs": [
    {
     "name": "stdout",
     "output_type": "stream",
     "text": [
      "\n",
      "File /Users/rob/.julia/dev/StanModels/notebooks/10/tmp/m_10_04.stan will be updated.\n",
      "\n"
     ]
    }
   ],
   "cell_type": "code",
   "source": [
    "stanmodel = Stanmodel(name=\"m_10_04\",\n",
    "model=m_10_04, output_format=:mcmcchains);"
   ],
   "metadata": {},
   "execution_count": 5
  },
  {
   "outputs": [],
   "cell_type": "markdown",
   "source": [
    "Input data for cmdstan"
   ],
   "metadata": {}
  },
  {
   "outputs": [],
   "cell_type": "code",
   "source": [
    "m_10_04_data = Dict(\"N\" => size(df, 1), \"N_actors\" => length(unique(df[:actor])),\n",
    "\"actor\" => df[:actor], \"pulled_left\" => df[:pulled_left],\n",
    "\"prosoc_left\" => df[:prosoc_left], \"condition\" => df[:condition]);"
   ],
   "metadata": {},
   "execution_count": 6
  },
  {
   "outputs": [],
   "cell_type": "markdown",
   "source": [
    "Sample using cmdstan"
   ],
   "metadata": {}
  },
  {
   "outputs": [
    {
     "name": "stdout",
     "output_type": "stream",
     "text": [
      "\n",
      "Inference for Stan model: m_10_04_model\n",
      "4 chains: each with iter=(1000,1000,1000,1000); warmup=(0,0,0,0); thin=(1,1,1,1); 4000 iterations saved.\n",
      "\n",
      "Warmup took (1.2, 1.3, 1.3, 1.3) seconds, 5.1 seconds total\n",
      "Sampling took (1.2, 1.2, 1.0, 1.2) seconds, 4.6 seconds total\n",
      "\n",
      "                 Mean     MCSE  StdDev     5%    50%    95%  N_Eff  N_Eff/s    R_hat\n",
      "lp__             -261  5.2e-02     2.2   -265   -261   -259   1745      378  1.0e+00\n",
      "accept_stat__    0.84  4.1e-03    0.21   0.35   0.92   1.00   2654      575  1.0e+00\n",
      "stepsize__       0.37  1.8e-02   0.026   0.35   0.38   0.41    2.0     0.43  4.9e+13\n",
      "treedepth__       3.2  9.6e-02    0.60    2.0    3.0    4.0     38      8.3  1.0e+00\n",
      "n_leapfrog__       12  1.2e-01     6.1    7.0     11     23   2552      553  1.0e+00\n",
      "divergent__     0.076  5.4e-03    0.27   0.00   0.00    1.0   2435      528  1.0e+00\n",
      "energy__          266  7.7e-02     3.0    261    265    271   1574      341  1.0e+00\n",
      "a[1]            -0.74  5.0e-03    0.27   -1.2  -0.75  -0.29   2887      626  1.0e+00\n",
      "a[2]               11  1.4e-01     5.3    4.4    9.8     21   1495      324  1.0e+00\n",
      "a[3]             -1.0  5.2e-03    0.28   -1.5   -1.0  -0.58   2932      635  1.0e+00\n",
      "a[4]             -1.0  5.0e-03    0.28   -1.5   -1.0  -0.60   3195      692  1.0e+00\n",
      "a[5]            -0.74  5.0e-03    0.27   -1.2  -0.73  -0.30   2877      623  1.0e+00\n",
      "a[6]             0.22  4.7e-03    0.27  -0.22   0.22   0.67   3297      714  1.0e+00\n",
      "a[7]              1.8  7.2e-03    0.40    1.2    1.8    2.5   3095      671  1.0e+00\n",
      "bp               0.83  6.3e-03    0.26   0.40   0.83    1.3   1727      374  1.0e+00\n",
      "bpC             -0.12  6.0e-03    0.29  -0.60  -0.13   0.36   2408      522  1.0e+00\n",
      "\n",
      "Samples were drawn using hmc with nuts.\n",
      "For each parameter, N_Eff is a crude measure of effective sample size,\n",
      "and R_hat is the potential scale reduction factor on split chains (at \n",
      "convergence, R_hat=1).\n",
      "\n"
     ]
    }
   ],
   "cell_type": "code",
   "source": [
    "rc, chn, cnames = stan(stanmodel, m_10_04_data, ProjDir, diagnostics=false,\n",
    "  summary=true, CmdStanDir=CMDSTAN_HOME);\n",
    "# Result rethinking\n",
    "rethinking = \"\n",
    "      mean   sd  5.5% 94.5% n_eff Rhat\n",
    "bp    0.84 0.26  0.43  1.26  2271    1\n",
    "bpC  -0.13 0.29 -0.59  0.34  2949    1\n",
    "\n",
    "a[1] -0.74 0.27 -1.16 -0.31  3310    1\n",
    "a[2] 10.88 5.20  4.57 20.73  1634    1\n",
    "a[3] -1.05 0.28 -1.52 -0.59  4206    1\n",
    "a[4] -1.05 0.28 -1.50 -0.60  4133    1\n",
    "a[5] -0.75 0.27 -1.18 -0.32  4049    1\n",
    "a[6]  0.22 0.27 -0.22  0.65  3877    1\n",
    "a[7]  1.81 0.39  1.22  2.48  3807    1\n",
    "\";"
   ],
   "metadata": {},
   "execution_count": 7
  },
  {
   "outputs": [],
   "cell_type": "markdown",
   "source": [
    "Update sections"
   ],
   "metadata": {}
  },
  {
   "outputs": [
    {
     "output_type": "execute_result",
     "data": {
      "text/plain": "Object of type Chains, with data of type 1000×16×4 Array{Float64,3}\n\nLog evidence      = 0.0\nIterations        = 1:1000\nThinning interval = 1\nChains            = 1, 2, 3, 4\nSamples per chain = 1000\npooled            = a.1, a.2, a.3, a.4, a.5, a.6, a.7\ninternals         = lp__, accept_stat__, stepsize__, treedepth__, n_leapfrog__, divergent__, energy__\nparameters        = bp, bpC\n\nparameters\n      Mean    SD   Naive SE  MCSE   ESS\n bp  0.8330 0.2626   0.0042 0.0059 1000\nbpC -0.1239 0.2930   0.0046 0.0064 1000\n\n"
     },
     "metadata": {},
     "execution_count": 8
    }
   ],
   "cell_type": "code",
   "source": [
    "chn2 = set_section(chn, Dict(\n",
    "  :parameters => [\"bp\", \"bpC\"],\n",
    "  :pooled => [\"a.$i\" for i in 1:7],\n",
    "  :internals => [\"lp__\", \"accept_stat__\", \"stepsize__\", \"treedepth__\", \"n_leapfrog__\",\n",
    "    \"divergent__\", \"energy__\"]\n",
    "  )\n",
    ")"
   ],
   "metadata": {},
   "execution_count": 8
  },
  {
   "outputs": [],
   "cell_type": "markdown",
   "source": [
    "Describe parameter draws"
   ],
   "metadata": {}
  },
  {
   "outputs": [
    {
     "name": "stdout",
     "output_type": "stream",
     "text": [
      "Log evidence      = 0.0\n",
      "Iterations        = 1:1000\n",
      "Thinning interval = 1\n",
      "Chains            = 1, 2, 3, 4\n",
      "Samples per chain = 1000\n",
      "parameters        = bp, bpC\n",
      "\n",
      "Empirical Posterior Estimates\n",
      "─────────────────────────────────────────\n",
      "parameters\n",
      "      Mean    SD   Naive SE  MCSE   ESS\n",
      " bp  0.8330 0.2626   0.0042 0.0059 1000\n",
      "bpC -0.1239 0.2930   0.0046 0.0064 1000\n",
      "\n",
      "Quantiles\n",
      "─────────────────────────────────────────\n",
      "parameters\n",
      "      2.5%   25.0%   50.0%   75.0%  97.5%\n",
      " bp -0.0628  0.6559  0.8295 1.0099 1.7599\n",
      "bpC -1.1784 -0.3224 -0.1283 0.0746 0.9457\n",
      "\n"
     ]
    }
   ],
   "cell_type": "code",
   "source": [
    "describe(chn2)"
   ],
   "metadata": {},
   "execution_count": 9
  },
  {
   "outputs": [],
   "cell_type": "markdown",
   "source": [
    "Describe pooled parameter draws"
   ],
   "metadata": {}
  },
  {
   "outputs": [
    {
     "name": "stdout",
     "output_type": "stream",
     "text": [
      "Log evidence      = 0.0\n",
      "Iterations        = 1:1000\n",
      "Thinning interval = 1\n",
      "Chains            = 1, 2, 3, 4\n",
      "Samples per chain = 1000\n",
      "pooled            = a.1, a.2, a.3, a.4, a.5, a.6, a.7\n",
      "\n",
      "Empirical Posterior Estimates\n",
      "───────────────────────────────────────────\n",
      "pooled\n",
      "      Mean    SD   Naive SE  MCSE   ESS\n",
      "a.1 -0.7420 0.2709   0.0043 0.0045 1000\n",
      "a.2 10.9208 5.3089   0.0839 0.1439 1000\n",
      "a.3 -1.0457 0.2806   0.0044 0.0049 1000\n",
      "a.4 -1.0482 0.2822   0.0045 0.0050 1000\n",
      "a.5 -0.7354 0.2689   0.0043 0.0039 1000\n",
      "a.6  0.2188 0.2682   0.0042 0.0043 1000\n",
      "a.7  1.8245 0.4009   0.0063 0.0065 1000\n",
      "\n",
      "Quantiles\n",
      "───────────────────────────────────────────\n",
      "pooled\n",
      "      2.5%   25.0%   50.0%   75.0%   97.5% \n",
      "a.1 -1.7493 -0.9235 -0.7473 -0.5544  0.0624\n",
      "a.2  2.2795  6.8233  9.8372 13.8009 35.0116\n",
      "a.3 -2.0744 -1.2278 -1.0385 -0.8616 -0.1162\n",
      "a.4 -2.1306 -1.2327 -1.0491 -0.8603 -0.0570\n",
      "a.5 -1.6838 -0.9173 -0.7300 -0.5493  0.1899\n",
      "a.6 -0.8816  0.0371  0.2154  0.3922  1.1233\n",
      "a.7  0.5272  1.5422  1.8058  2.0846  3.4261\n",
      "\n"
     ]
    }
   ],
   "cell_type": "code",
   "source": [
    "describe(chn2, section=:pooled)"
   ],
   "metadata": {},
   "execution_count": 10
  },
  {
   "outputs": [],
   "cell_type": "markdown",
   "source": [
    "Make it a DataFrame"
   ],
   "metadata": {}
  },
  {
   "outputs": [
    {
     "output_type": "execute_result",
     "data": {
      "text/plain": "4000×9 DataFrame. Omitted printing of 3 columns\n│ Row  │ bp        │ bpC        │ a.1       │ a.2     │ a.3       │ a.4       │\n│      │ \u001b[90mFloat64\u001b[39m   │ \u001b[90mFloat64\u001b[39m    │ \u001b[90mFloat64\u001b[39m   │ \u001b[90mFloat64\u001b[39m │ \u001b[90mFloat64\u001b[39m   │ \u001b[90mFloat64\u001b[39m   │\n├──────┼───────────┼────────────┼───────────┼─────────┼───────────┼───────────┤\n│ 1    │ 0.73843   │ 0.040043   │ -0.717293 │ 13.0023 │ -1.38428  │ -0.92933  │\n│ 2    │ 0.669553  │ 0.3062     │ -0.765067 │ 6.79637 │ -1.04071  │ -0.599035 │\n│ 3    │ 0.0325078 │ 0.495365   │ -0.698969 │ 6.69542 │ -0.662615 │ -0.682252 │\n│ 4    │ 0.298365  │ 0.410752   │ -0.343724 │ 11.3958 │ -1.01913  │ -0.851404 │\n│ 5    │ 0.379115  │ 0.499755   │ -0.265046 │ 5.84282 │ -0.801712 │ -0.680685 │\n│ 6    │ 0.172134  │ 0.286953   │ -0.661301 │ 8.31654 │ -0.570806 │ -1.02282  │\n│ 7    │ 0.134757  │ 0.341624   │ -0.682555 │ 15.6458 │ -0.424966 │ -0.873707 │\n⋮\n│ 3993 │ 0.905713  │ -0.307475  │ -0.935469 │ 15.7743 │ -0.962341 │ -0.561727 │\n│ 3994 │ 1.08812   │ -0.422288  │ -0.76998  │ 12.7206 │ -1.26044  │ -1.1331   │\n│ 3995 │ 0.575309  │ 0.158715   │ -0.674044 │ 8.75867 │ -0.776797 │ -1.29625  │\n│ 3996 │ 1.21138   │ -0.506406  │ -0.960976 │ 6.05949 │ -1.56039  │ -1.04214  │\n│ 3997 │ 0.778039  │ 0.158801   │ -0.919815 │ 8.18379 │ -0.675392 │ -1.04427  │\n│ 3998 │ 0.829723  │ 0.247608   │ -0.763482 │ 10.6755 │ -0.533014 │ -1.04412  │\n│ 3999 │ 0.434719  │ -0.0380485 │ -0.591168 │ 4.5986  │ -1.19349  │ -0.967187 │\n│ 4000 │ 0.734916  │ -0.349872  │ -0.639838 │ 10.7826 │ -0.933226 │ -0.918984 │",
      "text/html": [
       "<table class=\"data-frame\"><thead><tr><th></th><th>bp</th><th>bpC</th><th>a.1</th><th>a.2</th><th>a.3</th><th>a.4</th><th>a.5</th><th>a.6</th><th>a.7</th></tr><tr><th></th><th>Float64</th><th>Float64</th><th>Float64</th><th>Float64</th><th>Float64</th><th>Float64</th><th>Float64</th><th>Float64</th><th>Float64</th></tr></thead><tbody><p>4,000 rows × 9 columns</p><tr><th>1</th><td>0.73843</td><td>0.040043</td><td>-0.717293</td><td>13.0023</td><td>-1.38428</td><td>-0.92933</td><td>-0.92299</td><td>0.374405</td><td>1.82325</td></tr><tr><th>2</th><td>0.669553</td><td>0.3062</td><td>-0.765067</td><td>6.79637</td><td>-1.04071</td><td>-0.599035</td><td>-0.600536</td><td>-0.0524681</td><td>1.52596</td></tr><tr><th>3</th><td>0.0325078</td><td>0.495365</td><td>-0.698969</td><td>6.69542</td><td>-0.662615</td><td>-0.682252</td><td>-1.107</td><td>0.413951</td><td>2.92987</td></tr><tr><th>4</th><td>0.298365</td><td>0.410752</td><td>-0.343724</td><td>11.3958</td><td>-1.01913</td><td>-0.851404</td><td>-0.608346</td><td>0.082725</td><td>2.69649</td></tr><tr><th>5</th><td>0.379115</td><td>0.499755</td><td>-0.265046</td><td>5.84282</td><td>-0.801712</td><td>-0.680685</td><td>-0.767707</td><td>0.210337</td><td>2.70571</td></tr><tr><th>6</th><td>0.172134</td><td>0.286953</td><td>-0.661301</td><td>8.31654</td><td>-0.570806</td><td>-1.02282</td><td>-0.404429</td><td>-0.0279233</td><td>2.9147</td></tr><tr><th>7</th><td>0.134757</td><td>0.341624</td><td>-0.682555</td><td>15.6458</td><td>-0.424966</td><td>-0.873707</td><td>-0.774782</td><td>0.32715</td><td>2.74094</td></tr><tr><th>8</th><td>1.60938</td><td>-1.06161</td><td>-0.923555</td><td>16.9788</td><td>-0.920366</td><td>-1.12907</td><td>-1.19033</td><td>0.228309</td><td>2.4899</td></tr><tr><th>9</th><td>1.50762</td><td>-1.13733</td><td>-0.831134</td><td>18.448</td><td>-1.0369</td><td>-1.13457</td><td>-1.29547</td><td>0.259987</td><td>2.40661</td></tr><tr><th>10</th><td>1.1145</td><td>-0.0817127</td><td>-0.923292</td><td>17.2778</td><td>-1.24363</td><td>-1.56805</td><td>-0.806572</td><td>0.307037</td><td>1.56858</td></tr><tr><th>11</th><td>0.656082</td><td>-0.234411</td><td>-0.56581</td><td>3.01167</td><td>-0.911394</td><td>-0.684161</td><td>-0.96338</td><td>0.207087</td><td>2.19478</td></tr><tr><th>12</th><td>0.750283</td><td>-0.0803962</td><td>-0.674861</td><td>20.8061</td><td>-0.911127</td><td>-1.10665</td><td>-0.444082</td><td>-0.0261493</td><td>1.99071</td></tr><tr><th>13</th><td>0.348034</td><td>0.55437</td><td>-0.577176</td><td>11.4459</td><td>-0.940787</td><td>-0.844523</td><td>-0.771986</td><td>0.460584</td><td>1.60316</td></tr><tr><th>14</th><td>1.29907</td><td>-0.580513</td><td>-0.888397</td><td>11.1552</td><td>-1.14262</td><td>-1.45071</td><td>-1.06472</td><td>0.137907</td><td>1.51925</td></tr><tr><th>15</th><td>1.27194</td><td>-0.733172</td><td>-0.753436</td><td>5.22165</td><td>-0.903477</td><td>-1.00417</td><td>-0.989012</td><td>-0.007425</td><td>0.990889</td></tr><tr><th>16</th><td>1.22465</td><td>-0.312958</td><td>-1.30767</td><td>9.87341</td><td>-1.5313</td><td>-1.14607</td><td>-0.901171</td><td>0.423419</td><td>1.9106</td></tr><tr><th>17</th><td>0.992651</td><td>-0.348886</td><td>-0.990824</td><td>10.7899</td><td>-1.20689</td><td>-1.11096</td><td>-0.862821</td><td>0.586436</td><td>1.41812</td></tr><tr><th>18</th><td>0.631199</td><td>-0.279558</td><td>-0.580288</td><td>10.0565</td><td>-1.19337</td><td>-0.63955</td><td>-0.789371</td><td>0.558566</td><td>1.80593</td></tr><tr><th>19</th><td>0.949088</td><td>-0.314611</td><td>-0.434597</td><td>7.69362</td><td>-0.683202</td><td>-1.24105</td><td>-0.495661</td><td>0.391368</td><td>1.58869</td></tr><tr><th>20</th><td>0.635545</td><td>0.42341</td><td>-0.820939</td><td>5.64945</td><td>-1.18138</td><td>-0.615813</td><td>-0.759165</td><td>0.120607</td><td>2.07803</td></tr><tr><th>21</th><td>0.926279</td><td>-0.234906</td><td>-0.354939</td><td>8.60743</td><td>-0.827069</td><td>-1.67883</td><td>-0.25917</td><td>0.807574</td><td>2.14956</td></tr><tr><th>22</th><td>0.364971</td><td>0.0422119</td><td>-0.367714</td><td>16.1879</td><td>-0.973893</td><td>-1.30198</td><td>-0.420257</td><td>0.66944</td><td>1.83233</td></tr><tr><th>23</th><td>0.542026</td><td>0.286139</td><td>-0.591134</td><td>5.21904</td><td>-0.521781</td><td>-1.06963</td><td>-0.668606</td><td>0.264555</td><td>1.45144</td></tr><tr><th>24</th><td>0.693814</td><td>0.0802654</td><td>-0.985275</td><td>17.0412</td><td>-1.42077</td><td>-1.07132</td><td>-0.683239</td><td>0.735367</td><td>1.92901</td></tr><tr><th>&vellip;</th><td>&vellip;</td><td>&vellip;</td><td>&vellip;</td><td>&vellip;</td><td>&vellip;</td><td>&vellip;</td><td>&vellip;</td><td>&vellip;</td><td>&vellip;</td></tr></tbody></table>"
      ]
     },
     "metadata": {},
     "execution_count": 11
    }
   ],
   "cell_type": "code",
   "source": [
    "df = to_df(chn2, [:parameters, :pooled])"
   ],
   "metadata": {},
   "execution_count": 11
  },
  {
   "outputs": [],
   "cell_type": "markdown",
   "source": [
    "End of `10/m10.04s.jl`"
   ],
   "metadata": {}
  },
  {
   "outputs": [],
   "cell_type": "markdown",
   "source": [
    "*This notebook was generated using [Literate.jl](https://github.com/fredrikekre/Literate.jl).*"
   ],
   "metadata": {}
  }
 ],
 "nbformat_minor": 3,
 "metadata": {
  "language_info": {
   "file_extension": ".jl",
   "mimetype": "application/julia",
   "name": "julia",
   "version": "1.2.0-DEV.462"
  },
  "kernelspec": {
   "name": "julia-1.2",
   "display_name": "Julia 1.2.0-DEV.462",
   "language": "julia"
  }
 },
 "nbformat": 4
}
