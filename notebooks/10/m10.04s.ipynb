{
 "cells": [
  {
   "outputs": [],
   "cell_type": "markdown",
   "source": [
    "Load Julia packages (libraries) needed  for the snippets in chapter 0"
   ],
   "metadata": {}
  },
  {
   "outputs": [],
   "cell_type": "code",
   "source": [
    "using StanModels"
   ],
   "metadata": {},
   "execution_count": 1
  },
  {
   "outputs": [],
   "cell_type": "markdown",
   "source": [
    "CmdStan uses a tmp directory to store the output of cmdstan"
   ],
   "metadata": {}
  },
  {
   "outputs": [],
   "cell_type": "code",
   "source": [
    "ProjDir = @__DIR__\n",
    "cd(ProjDir)"
   ],
   "metadata": {},
   "execution_count": 2
  },
  {
   "outputs": [],
   "cell_type": "markdown",
   "source": [
    "### snippet 10.4"
   ],
   "metadata": {}
  },
  {
   "outputs": [
    {
     "output_type": "execute_result",
     "data": {
      "text/plain": "5×8 DataFrame. Omitted printing of 2 columns\n│ Row │ actor  │ recipient │ condition │ block  │ trial  │ prosoc_left │\n│     │ \u001b[90mInt64⍰\u001b[39m │ \u001b[90mString⍰\u001b[39m   │ \u001b[90mInt64⍰\u001b[39m    │ \u001b[90mInt64⍰\u001b[39m │ \u001b[90mInt64⍰\u001b[39m │ \u001b[90mInt64⍰\u001b[39m      │\n├─────┼────────┼───────────┼───────────┼────────┼────────┼─────────────┤\n│ 1   │ 1      │ NA        │ 0         │ 1      │ 2      │ 0           │\n│ 2   │ 1      │ NA        │ 0         │ 1      │ 4      │ 0           │\n│ 3   │ 1      │ NA        │ 0         │ 1      │ 6      │ 1           │\n│ 4   │ 1      │ NA        │ 0         │ 1      │ 8      │ 0           │\n│ 5   │ 1      │ NA        │ 0         │ 1      │ 10     │ 1           │",
      "text/html": [
       "<table class=\"data-frame\"><thead><tr><th></th><th>actor</th><th>recipient</th><th>condition</th><th>block</th><th>trial</th><th>prosoc_left</th><th>chose_prosoc</th><th>pulled_left</th></tr><tr><th></th><th>Int64⍰</th><th>String⍰</th><th>Int64⍰</th><th>Int64⍰</th><th>Int64⍰</th><th>Int64⍰</th><th>Int64⍰</th><th>Int64⍰</th></tr></thead><tbody><p>5 rows × 8 columns</p><tr><th>1</th><td>1</td><td>NA</td><td>0</td><td>1</td><td>2</td><td>0</td><td>1</td><td>0</td></tr><tr><th>2</th><td>1</td><td>NA</td><td>0</td><td>1</td><td>4</td><td>0</td><td>0</td><td>1</td></tr><tr><th>3</th><td>1</td><td>NA</td><td>0</td><td>1</td><td>6</td><td>1</td><td>0</td><td>0</td></tr><tr><th>4</th><td>1</td><td>NA</td><td>0</td><td>1</td><td>8</td><td>0</td><td>1</td><td>0</td></tr><tr><th>5</th><td>1</td><td>NA</td><td>0</td><td>1</td><td>10</td><td>1</td><td>1</td><td>1</td></tr></tbody></table>"
      ]
     },
     "metadata": {},
     "execution_count": 3
    }
   ],
   "cell_type": "code",
   "source": [
    "d = CSV.read(rel_path(\"..\", \"data\", \"chimpanzees.csv\"), delim=';');\n",
    "df = convert(DataFrame, d);\n",
    "\n",
    "first(df, 5)"
   ],
   "metadata": {},
   "execution_count": 3
  },
  {
   "outputs": [],
   "cell_type": "markdown",
   "source": [
    "Define the Stan language model"
   ],
   "metadata": {}
  },
  {
   "outputs": [],
   "cell_type": "code",
   "source": [
    "m_10_04 = \"\n",
    "data{\n",
    "    int N;\n",
    "    int N_actors;\n",
    "    int pulled_left[N];\n",
    "    int prosoc_left[N];\n",
    "    int condition[N];\n",
    "    int actor[N];\n",
    "}\n",
    "parameters{\n",
    "    vector[N_actors] a;\n",
    "    real bp;\n",
    "    real bpC;\n",
    "}\n",
    "model{\n",
    "    vector[N] p;\n",
    "    bpC ~ normal( 0 , 10 );\n",
    "    bp ~ normal( 0 , 10 );\n",
    "    a ~ normal( 0 , 10 );\n",
    "    for ( i in 1:504 ) {\n",
    "        p[i] = a[actor[i]] + (bp + bpC * condition[i]) * prosoc_left[i];\n",
    "        p[i] = inv_logit(p[i]);\n",
    "    }\n",
    "    pulled_left ~ binomial( 1 , p );\n",
    "}\n",
    "\";"
   ],
   "metadata": {},
   "execution_count": 4
  },
  {
   "outputs": [],
   "cell_type": "markdown",
   "source": [
    "Define the Stanmodel and set the output format to :mcmcchains."
   ],
   "metadata": {}
  },
  {
   "outputs": [],
   "cell_type": "code",
   "source": [
    "stanmodel = Stanmodel(name=\"m_10_04\",\n",
    "model=m_10_04, output_format=:mcmcchains);"
   ],
   "metadata": {},
   "execution_count": 5
  },
  {
   "outputs": [],
   "cell_type": "markdown",
   "source": [
    "Input data for cmdstan"
   ],
   "metadata": {}
  },
  {
   "outputs": [],
   "cell_type": "code",
   "source": [
    "m_10_04_data = Dict(\"N\" => size(df, 1), \"N_actors\" => length(unique(df[:actor])),\n",
    "\"actor\" => df[:actor], \"pulled_left\" => df[:pulled_left],\n",
    "\"prosoc_left\" => df[:prosoc_left], \"condition\" => df[:condition]);"
   ],
   "metadata": {},
   "execution_count": 6
  },
  {
   "outputs": [],
   "cell_type": "markdown",
   "source": [
    "Sample using cmdstan"
   ],
   "metadata": {}
  },
  {
   "outputs": [
    {
     "name": "stdout",
     "output_type": "stream",
     "text": [
      "\n",
      "Inference for Stan model: m_10_04_model\n",
      "4 chains: each with iter=(1000,1000,1000,1000); warmup=(0,0,0,0); thin=(1,1,1,1); 4000 iterations saved.\n",
      "\n",
      "Warmup took (1.3, 1.5, 1.4, 1.5) seconds, 5.8 seconds total\n",
      "Sampling took (1.4, 1.3, 1.5, 1.4) seconds, 5.6 seconds total\n",
      "\n",
      "                 Mean     MCSE  StdDev     5%    50%    95%  N_Eff  N_Eff/s    R_hat\n",
      "lp__             -261  4.9e-02     2.1   -265   -261   -259   1883      339  1.0e+00\n",
      "accept_stat__    0.88  3.2e-03    0.18   0.47   0.95    1.0   3033      546  1.0e+00\n",
      "stepsize__       0.32  1.5e-02   0.021   0.29   0.34   0.34    2.0     0.36  4.5e+13\n",
      "treedepth__       3.5  2.7e-02    0.57    3.0    4.0    4.0    435       78  1.0e+00\n",
      "n_leapfrog__       13  9.5e-02     3.8    7.0     15     15   1623      292  1.0e+00\n",
      "divergent__     0.048  3.7e-03    0.21   0.00   0.00   0.00   3366      606  1.0e+00\n",
      "energy__          266  7.5e-02     3.0    261    265    271   1634      294  1.0e+00\n",
      "a[1]            -0.74  4.7e-03    0.26   -1.2  -0.74  -0.30   3161      569  1.0e+00\n",
      "a[2]               11  1.3e-01     5.3    4.5     10     21   1578      284  1.0e+00\n",
      "a[3]             -1.1  4.6e-03    0.27   -1.5   -1.0  -0.61   3529      635  1.0e+00\n",
      "a[4]             -1.1  4.9e-03    0.28   -1.5   -1.1  -0.60   3213      578  1.0e+00\n",
      "a[5]            -0.74  4.4e-03    0.27   -1.2  -0.74  -0.31   3691      664  1.0e+00\n",
      "a[6]             0.21  4.7e-03    0.27  -0.22   0.21   0.65   3219      579  1.0e+00\n",
      "a[7]              1.8  7.5e-03    0.41    1.2    1.8    2.5   2928      527  1.0e+00\n",
      "bp               0.85  5.0e-03    0.26   0.43   0.84    1.3   2653      478  1.0e+00\n",
      "bpC             -0.14  5.1e-03    0.29  -0.63  -0.14   0.33   3252      585  1.0e+00\n",
      "\n",
      "Samples were drawn using hmc with nuts.\n",
      "For each parameter, N_Eff is a crude measure of effective sample size,\n",
      "and R_hat is the potential scale reduction factor on split chains (at \n",
      "convergence, R_hat=1).\n",
      "\n"
     ]
    }
   ],
   "cell_type": "code",
   "source": [
    "rc, chn, cnames = stan(stanmodel, m_10_04_data, ProjDir, diagnostics=false,\n",
    "  summary=true, CmdStanDir=CMDSTAN_HOME);\n",
    "# Result rethinking\n",
    "rethinking = \"\n",
    "      mean   sd  5.5% 94.5% n_eff Rhat\n",
    "bp    0.84 0.26  0.43  1.26  2271    1\n",
    "bpC  -0.13 0.29 -0.59  0.34  2949    1\n",
    "\n",
    "a[1] -0.74 0.27 -1.16 -0.31  3310    1\n",
    "a[2] 10.88 5.20  4.57 20.73  1634    1\n",
    "a[3] -1.05 0.28 -1.52 -0.59  4206    1\n",
    "a[4] -1.05 0.28 -1.50 -0.60  4133    1\n",
    "a[5] -0.75 0.27 -1.18 -0.32  4049    1\n",
    "a[6]  0.22 0.27 -0.22  0.65  3877    1\n",
    "a[7]  1.81 0.39  1.22  2.48  3807    1\n",
    "\";"
   ],
   "metadata": {},
   "execution_count": 7
  },
  {
   "outputs": [],
   "cell_type": "markdown",
   "source": [
    "Update sections"
   ],
   "metadata": {}
  },
  {
   "outputs": [
    {
     "output_type": "execute_result",
     "data": {
      "text/plain": "Object of type Chains, with data of type 1000×16×4 Array{Float64,3}\n\nIterations        = 1:1000\nThinning interval = 1\nChains            = 1, 2, 3, 4\nSamples per chain = 1000\npooled            = a.1, a.2, a.3, a.4, a.5, a.6, a.7\ninternals         = lp__, accept_stat__, stepsize__, treedepth__, n_leapfrog__, divergent__, energy__\nparameters        = bp, bpC\n\nparameters\n      Mean    SD   Naive SE  MCSE   ESS\n bp  0.8452 0.2561   0.0040 0.0045 1000\nbpC -0.1444 0.2895   0.0046 0.0046 1000\n\n"
     },
     "metadata": {},
     "execution_count": 8
    }
   ],
   "cell_type": "code",
   "source": [
    "chn2 = set_section(chn, Dict(\n",
    "  :parameters => [\"bp\", \"bpC\"],\n",
    "  :pooled => [\"a.$i\" for i in 1:7],\n",
    "  :internals => [\"lp__\", \"accept_stat__\", \"stepsize__\", \"treedepth__\", \"n_leapfrog__\",\n",
    "    \"divergent__\", \"energy__\"]\n",
    "  )\n",
    ")"
   ],
   "metadata": {},
   "execution_count": 8
  },
  {
   "outputs": [],
   "cell_type": "markdown",
   "source": [
    "Describe parameter draws"
   ],
   "metadata": {}
  },
  {
   "outputs": [
    {
     "name": "stdout",
     "output_type": "stream",
     "text": [
      "Iterations        = 1:1000\n",
      "Thinning interval = 1\n",
      "Chains            = 1, 2, 3, 4\n",
      "Samples per chain = 1000\n",
      "parameters        = bp, bpC\n",
      "\n",
      "Empirical Posterior Estimates\n",
      "─────────────────────────────────────────\n",
      "parameters\n",
      "      Mean    SD   Naive SE  MCSE   ESS\n",
      " bp  0.8452 0.2561   0.0040 0.0045 1000\n",
      "bpC -0.1444 0.2895   0.0046 0.0046 1000\n",
      "\n",
      "Quantiles\n",
      "─────────────────────────────────────────\n",
      "parameters\n",
      "      2.5%   25.0%   50.0%   75.0%  97.5%\n",
      " bp -0.0359  0.6686  0.8433 1.0141 1.6580\n",
      "bpC -1.3186 -0.3399 -0.1369 0.0498 0.7862\n",
      "\n"
     ]
    }
   ],
   "cell_type": "code",
   "source": [
    "describe(chn2)"
   ],
   "metadata": {},
   "execution_count": 9
  },
  {
   "outputs": [],
   "cell_type": "markdown",
   "source": [
    "Describe pooled parameter draws"
   ],
   "metadata": {}
  },
  {
   "outputs": [
    {
     "name": "stdout",
     "output_type": "stream",
     "text": [
      "Iterations        = 1:1000\n",
      "Thinning interval = 1\n",
      "Chains            = 1, 2, 3, 4\n",
      "Samples per chain = 1000\n",
      "pooled            = a.1, a.2, a.3, a.4, a.5, a.6, a.7\n",
      "\n",
      "Empirical Posterior Estimates\n",
      "───────────────────────────────────────────\n",
      "pooled\n",
      "      Mean    SD   Naive SE  MCSE   ESS\n",
      "a.1 -0.7371 0.2647   0.0042 0.0051 1000\n",
      "a.2 11.0734 5.2541   0.0831 0.1331 1000\n",
      "a.3 -1.0526 0.2745   0.0043 0.0042 1000\n",
      "a.4 -1.0561 0.2770   0.0044 0.0046 1000\n",
      "a.5 -0.7398 0.2680   0.0042 0.0044 1000\n",
      "a.6  0.2118 0.2659   0.0042 0.0044 1000\n",
      "a.7  1.8184 0.4053   0.0064 0.0090 1000\n",
      "\n",
      "Quantiles\n",
      "───────────────────────────────────────────\n",
      "pooled\n",
      "      2.5%   25.0%   50.0%   75.0%   97.5% \n",
      "a.1 -1.7638 -0.9126 -0.7364 -0.5593  0.1499\n",
      "a.2  2.1212  6.9489 10.0482 14.1618 33.5896\n",
      "a.3 -2.1951 -1.2377 -1.0477 -0.8596  0.0566\n",
      "a.4 -2.1332 -1.2421 -1.0501 -0.8713  0.0891\n",
      "a.5 -1.7463 -0.9170 -0.7378 -0.5575  0.0682\n",
      "a.6 -0.8305  0.0382  0.2101  0.3864  1.3276\n",
      "a.7  0.5944  1.5361  1.8093  2.0827  3.4220\n",
      "\n"
     ]
    }
   ],
   "cell_type": "code",
   "source": [
    "describe(chn2, section=:pooled)"
   ],
   "metadata": {},
   "execution_count": 10
  },
  {
   "outputs": [],
   "cell_type": "markdown",
   "source": [
    "Make it a DataFrame"
   ],
   "metadata": {}
  },
  {
   "outputs": [
    {
     "output_type": "execute_result",
     "data": {
      "text/plain": "4000×9 DataFrame. Omitted printing of 3 columns\n│ Row  │ bp       │ bpC        │ a.1       │ a.2     │ a.3       │ a.4       │\n│      │ \u001b[90mFloat64\u001b[39m  │ \u001b[90mFloat64\u001b[39m    │ \u001b[90mFloat64\u001b[39m   │ \u001b[90mFloat64\u001b[39m │ \u001b[90mFloat64\u001b[39m   │ \u001b[90mFloat64\u001b[39m   │\n├──────┼──────────┼────────────┼───────────┼─────────┼───────────┼───────────┤\n│ 1    │ 0.704099 │ -0.0554734 │ -0.441181 │ 6.16103 │ -1.28328  │ -0.892946 │\n│ 2    │ 1.04039  │ -0.165562  │ -0.845937 │ 7.15808 │ -1.13019  │ -0.949063 │\n│ 3    │ 0.919267 │ 0.0027261  │ -0.743302 │ 3.58094 │ -1.33831  │ -0.892623 │\n│ 4    │ 0.804733 │ -0.431937  │ -0.701293 │ 12.7126 │ -1.00726  │ -1.12809  │\n│ 5    │ 0.930731 │ -0.11623   │ -0.718954 │ 13.1911 │ -0.974105 │ -0.744035 │\n│ 6    │ 0.707119 │ -0.433585  │ -1.02635  │ 12.1008 │ -0.944748 │ -0.726685 │\n│ 7    │ 0.727111 │ 0.106501   │ -0.563682 │ 18.8631 │ -0.756496 │ -0.729768 │\n⋮\n│ 3993 │ 0.962702 │ -0.209665  │ -1.12659  │ 11.5676 │ -1.47006  │ -0.864762 │\n│ 3994 │ 1.05068  │ -0.451115  │ -0.814131 │ 5.61415 │ -0.753759 │ -1.1502   │\n│ 3995 │ 0.823045 │ 0.05702    │ -0.728753 │ 8.15312 │ -1.14119  │ -1.11014  │\n│ 3996 │ 0.801862 │ 0.0323024  │ -0.626359 │ 9.53965 │ -1.24734  │ -1.30825  │\n│ 3997 │ 1.15077  │ -0.399597  │ -1.16185  │ 6.03221 │ -1.14286  │ -1.3219   │\n│ 3998 │ 1.09849  │ -0.110684  │ -0.693797 │ 22.1802 │ -0.982195 │ -1.55121  │\n│ 3999 │ 1.02392  │ -0.174106  │ -0.731892 │ 15.2682 │ -1.40248  │ -1.57054  │\n│ 4000 │ 1.00592  │ -0.0240271 │ -1.06681  │ 4.0553  │ -1.29859  │ -1.2557   │",
      "text/html": [
       "<table class=\"data-frame\"><thead><tr><th></th><th>bp</th><th>bpC</th><th>a.1</th><th>a.2</th><th>a.3</th><th>a.4</th><th>a.5</th><th>a.6</th><th>a.7</th></tr><tr><th></th><th>Float64</th><th>Float64</th><th>Float64</th><th>Float64</th><th>Float64</th><th>Float64</th><th>Float64</th><th>Float64</th><th>Float64</th></tr></thead><tbody><p>4,000 rows × 9 columns</p><tr><th>1</th><td>0.704099</td><td>-0.0554734</td><td>-0.441181</td><td>6.16103</td><td>-1.28328</td><td>-0.892946</td><td>-0.764471</td><td>0.236985</td><td>2.04922</td></tr><tr><th>2</th><td>1.04039</td><td>-0.165562</td><td>-0.845937</td><td>7.15808</td><td>-1.13019</td><td>-0.949063</td><td>-0.725547</td><td>-0.282322</td><td>1.56958</td></tr><tr><th>3</th><td>0.919267</td><td>0.0027261</td><td>-0.743302</td><td>3.58094</td><td>-1.33831</td><td>-0.892623</td><td>-0.672495</td><td>-0.266803</td><td>1.60074</td></tr><tr><th>4</th><td>0.804733</td><td>-0.431937</td><td>-0.701293</td><td>12.7126</td><td>-1.00726</td><td>-1.12809</td><td>-1.0493</td><td>0.429961</td><td>2.1332</td></tr><tr><th>5</th><td>0.930731</td><td>-0.11623</td><td>-0.718954</td><td>13.1911</td><td>-0.974105</td><td>-0.744035</td><td>-0.416403</td><td>0.0194877</td><td>1.9442</td></tr><tr><th>6</th><td>0.707119</td><td>-0.433585</td><td>-1.02635</td><td>12.1008</td><td>-0.944748</td><td>-0.726685</td><td>-0.497794</td><td>0.0279475</td><td>1.925</td></tr><tr><th>7</th><td>0.727111</td><td>0.106501</td><td>-0.563682</td><td>18.8631</td><td>-0.756496</td><td>-0.729768</td><td>-0.406038</td><td>0.498179</td><td>1.25198</td></tr><tr><th>8</th><td>0.398048</td><td>0.111756</td><td>-0.950014</td><td>8.92059</td><td>-0.607216</td><td>-1.17477</td><td>-0.89552</td><td>-0.141044</td><td>2.03171</td></tr><tr><th>9</th><td>0.4555</td><td>0.0246933</td><td>-0.889058</td><td>7.94327</td><td>-0.538212</td><td>-1.20306</td><td>-0.823306</td><td>-0.160876</td><td>1.94403</td></tr><tr><th>10</th><td>0.845399</td><td>-0.990593</td><td>-0.576646</td><td>5.86482</td><td>-1.23211</td><td>-0.87203</td><td>-0.246897</td><td>0.654887</td><td>1.61928</td></tr><tr><th>11</th><td>0.833531</td><td>0.160256</td><td>-0.889855</td><td>4.34396</td><td>-1.46075</td><td>-0.786494</td><td>-1.30501</td><td>0.224931</td><td>1.97959</td></tr><tr><th>12</th><td>0.389183</td><td>0.555825</td><td>-0.779806</td><td>14.1135</td><td>-1.15473</td><td>-1.03171</td><td>-0.836914</td><td>0.671692</td><td>1.9741</td></tr><tr><th>13</th><td>0.685229</td><td>0.0523814</td><td>-0.881361</td><td>14.9698</td><td>-0.773403</td><td>-0.749963</td><td>-0.764937</td><td>0.00469144</td><td>1.25408</td></tr><tr><th>14</th><td>0.686328</td><td>0.0872056</td><td>-0.653408</td><td>11.3417</td><td>-1.60175</td><td>-1.34629</td><td>-0.567354</td><td>-0.0166218</td><td>1.9439</td></tr><tr><th>15</th><td>0.989872</td><td>-0.272353</td><td>-0.726233</td><td>5.49099</td><td>-0.750085</td><td>-0.740663</td><td>-0.577786</td><td>0.60133</td><td>1.83416</td></tr><tr><th>16</th><td>0.541589</td><td>-0.306271</td><td>-0.296134</td><td>9.21869</td><td>-0.684164</td><td>-1.2929</td><td>-0.606613</td><td>-0.0535627</td><td>2.16439</td></tr><tr><th>17</th><td>0.729493</td><td>-0.435544</td><td>0.0883593</td><td>8.3669</td><td>-0.809072</td><td>-1.03066</td><td>-0.482822</td><td>0.0489061</td><td>1.92193</td></tr><tr><th>18</th><td>0.975981</td><td>0.207773</td><td>-0.837558</td><td>6.70817</td><td>-1.00057</td><td>-1.46052</td><td>-0.98342</td><td>-0.19926</td><td>1.26738</td></tr><tr><th>19</th><td>0.559894</td><td>0.360808</td><td>-1.06467</td><td>6.37089</td><td>-1.26479</td><td>-1.23239</td><td>-0.531024</td><td>0.117232</td><td>1.6272</td></tr><tr><th>20</th><td>0.688731</td><td>0.394384</td><td>-0.901102</td><td>5.69026</td><td>-1.19796</td><td>-0.922619</td><td>-0.32698</td><td>0.230538</td><td>1.53227</td></tr><tr><th>21</th><td>0.60576</td><td>0.303833</td><td>-1.32037</td><td>6.31403</td><td>-1.26543</td><td>-1.24174</td><td>-0.951424</td><td>0.13831</td><td>1.70745</td></tr><tr><th>22</th><td>0.909517</td><td>-0.300526</td><td>-0.273847</td><td>5.44721</td><td>-0.883247</td><td>-0.815365</td><td>-0.536184</td><td>0.404558</td><td>2.61044</td></tr><tr><th>23</th><td>0.823952</td><td>-0.774437</td><td>-0.14049</td><td>8.53782</td><td>-0.99171</td><td>-0.754717</td><td>-0.73034</td><td>0.26171</td><td>2.69359</td></tr><tr><th>24</th><td>0.0123323</td><td>0.681709</td><td>-0.947976</td><td>6.44017</td><td>-0.826303</td><td>-0.901501</td><td>-0.343234</td><td>0.53294</td><td>1.28165</td></tr><tr><th>&vellip;</th><td>&vellip;</td><td>&vellip;</td><td>&vellip;</td><td>&vellip;</td><td>&vellip;</td><td>&vellip;</td><td>&vellip;</td><td>&vellip;</td><td>&vellip;</td></tr></tbody></table>"
      ]
     },
     "metadata": {},
     "execution_count": 11
    }
   ],
   "cell_type": "code",
   "source": [
    "df = DataFrame(chn2, [:parameters, :pooled])"
   ],
   "metadata": {},
   "execution_count": 11
  },
  {
   "outputs": [],
   "cell_type": "markdown",
   "source": [
    "End of `10/m10.04s.jl`"
   ],
   "metadata": {}
  },
  {
   "outputs": [],
   "cell_type": "markdown",
   "source": [
    "*This notebook was generated using [Literate.jl](https://github.com/fredrikekre/Literate.jl).*"
   ],
   "metadata": {}
  }
 ],
 "nbformat_minor": 3,
 "metadata": {
  "language_info": {
   "file_extension": ".jl",
   "mimetype": "application/julia",
   "name": "julia",
   "version": "1.2.0-DEV.564"
  },
  "kernelspec": {
   "name": "julia-1.2",
   "display_name": "Julia 1.2.0-DEV.564",
   "language": "julia"
  }
 },
 "nbformat": 4
}
