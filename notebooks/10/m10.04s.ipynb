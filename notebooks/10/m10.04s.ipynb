{
 "cells": [
  {
   "outputs": [],
   "cell_type": "markdown",
   "source": [
    "Load Julia packages (libraries) needed  for the snippets in chapter 0"
   ],
   "metadata": {}
  },
  {
   "outputs": [],
   "cell_type": "code",
   "source": [
    "using StanModels"
   ],
   "metadata": {},
   "execution_count": 1
  },
  {
   "outputs": [],
   "cell_type": "markdown",
   "source": [
    "CmdStan uses a tmp directory to store the output of cmdstan"
   ],
   "metadata": {}
  },
  {
   "outputs": [],
   "cell_type": "code",
   "source": [
    "ProjDir = @__DIR__\n",
    "cd(ProjDir)"
   ],
   "metadata": {},
   "execution_count": 2
  },
  {
   "outputs": [],
   "cell_type": "markdown",
   "source": [
    "### snippet 10.4"
   ],
   "metadata": {}
  },
  {
   "outputs": [
    {
     "output_type": "execute_result",
     "data": {
      "text/plain": "5×8 DataFrame. Omitted printing of 2 columns\n│ Row │ actor  │ recipient │ condition │ block  │ trial  │ prosoc_left │\n│     │ \u001b[90mInt64⍰\u001b[39m │ \u001b[90mString⍰\u001b[39m   │ \u001b[90mInt64⍰\u001b[39m    │ \u001b[90mInt64⍰\u001b[39m │ \u001b[90mInt64⍰\u001b[39m │ \u001b[90mInt64⍰\u001b[39m      │\n├─────┼────────┼───────────┼───────────┼────────┼────────┼─────────────┤\n│ 1   │ 1      │ NA        │ 0         │ 1      │ 2      │ 0           │\n│ 2   │ 1      │ NA        │ 0         │ 1      │ 4      │ 0           │\n│ 3   │ 1      │ NA        │ 0         │ 1      │ 6      │ 1           │\n│ 4   │ 1      │ NA        │ 0         │ 1      │ 8      │ 0           │\n│ 5   │ 1      │ NA        │ 0         │ 1      │ 10     │ 1           │",
      "text/html": [
       "<table class=\"data-frame\"><thead><tr><th></th><th>actor</th><th>recipient</th><th>condition</th><th>block</th><th>trial</th><th>prosoc_left</th><th>chose_prosoc</th><th>pulled_left</th></tr><tr><th></th><th>Int64⍰</th><th>String⍰</th><th>Int64⍰</th><th>Int64⍰</th><th>Int64⍰</th><th>Int64⍰</th><th>Int64⍰</th><th>Int64⍰</th></tr></thead><tbody><p>5 rows × 8 columns</p><tr><th>1</th><td>1</td><td>NA</td><td>0</td><td>1</td><td>2</td><td>0</td><td>1</td><td>0</td></tr><tr><th>2</th><td>1</td><td>NA</td><td>0</td><td>1</td><td>4</td><td>0</td><td>0</td><td>1</td></tr><tr><th>3</th><td>1</td><td>NA</td><td>0</td><td>1</td><td>6</td><td>1</td><td>0</td><td>0</td></tr><tr><th>4</th><td>1</td><td>NA</td><td>0</td><td>1</td><td>8</td><td>0</td><td>1</td><td>0</td></tr><tr><th>5</th><td>1</td><td>NA</td><td>0</td><td>1</td><td>10</td><td>1</td><td>1</td><td>1</td></tr></tbody></table>"
      ]
     },
     "metadata": {},
     "execution_count": 3
    }
   ],
   "cell_type": "code",
   "source": [
    "d = CSV.read(rel_path(\"..\", \"data\", \"chimpanzees.csv\"), delim=';');\n",
    "df = convert(DataFrame, d);\n",
    "\n",
    "first(df, 5)"
   ],
   "metadata": {},
   "execution_count": 3
  },
  {
   "outputs": [],
   "cell_type": "markdown",
   "source": [
    "Define the Stan language model"
   ],
   "metadata": {}
  },
  {
   "outputs": [],
   "cell_type": "code",
   "source": [
    "m_10_04 = \"\n",
    "data{\n",
    "    int N;\n",
    "    int N_actors;\n",
    "    int pulled_left[N];\n",
    "    int prosoc_left[N];\n",
    "    int condition[N];\n",
    "    int actor[N];\n",
    "}\n",
    "parameters{\n",
    "    vector[N_actors] a;\n",
    "    real bp;\n",
    "    real bpC;\n",
    "}\n",
    "model{\n",
    "    vector[N] p;\n",
    "    bpC ~ normal( 0 , 10 );\n",
    "    bp ~ normal( 0 , 10 );\n",
    "    a ~ normal( 0 , 10 );\n",
    "    for ( i in 1:504 ) {\n",
    "        p[i] = a[actor[i]] + (bp + bpC * condition[i]) * prosoc_left[i];\n",
    "        p[i] = inv_logit(p[i]);\n",
    "    }\n",
    "    pulled_left ~ binomial( 1 , p );\n",
    "}\n",
    "\";"
   ],
   "metadata": {},
   "execution_count": 4
  },
  {
   "outputs": [],
   "cell_type": "markdown",
   "source": [
    "Define the Stanmodel and set the output format to :mcmcchains."
   ],
   "metadata": {}
  },
  {
   "outputs": [],
   "cell_type": "code",
   "source": [
    "stanmodel = Stanmodel(name=\"m_10_04\",\n",
    "model=m_10_04, output_format=:mcmcchains);"
   ],
   "metadata": {},
   "execution_count": 5
  },
  {
   "outputs": [],
   "cell_type": "markdown",
   "source": [
    "Input data for cmdstan"
   ],
   "metadata": {}
  },
  {
   "outputs": [],
   "cell_type": "code",
   "source": [
    "m_10_04_data = Dict(\"N\" => size(df, 1), \"N_actors\" => length(unique(df[:actor])),\n",
    "\"actor\" => df[:actor], \"pulled_left\" => df[:pulled_left],\n",
    "\"prosoc_left\" => df[:prosoc_left], \"condition\" => df[:condition]);"
   ],
   "metadata": {},
   "execution_count": 6
  },
  {
   "outputs": [],
   "cell_type": "markdown",
   "source": [
    "Sample using cmdstan"
   ],
   "metadata": {}
  },
  {
   "outputs": [
    {
     "name": "stdout",
     "output_type": "stream",
     "text": [
      "\n",
      "Inference for Stan model: m_10_04_model\n",
      "4 chains: each with iter=(1000,1000,1000,1000); warmup=(0,0,0,0); thin=(1,1,1,1); 4000 iterations saved.\n",
      "\n",
      "Warmup took (1.6, 1.4, 1.5, 1.4) seconds, 5.9 seconds total\n",
      "Sampling took (1.3, 1.3, 1.3, 1.3) seconds, 5.3 seconds total\n",
      "\n",
      "                 Mean     MCSE  StdDev     5%    50%    95%  N_Eff  N_Eff/s    R_hat\n",
      "lp__             -261  4.9e-02     2.1   -265   -261   -259   1855      348  1.0e+00\n",
      "accept_stat__    0.85  5.9e-03    0.20   0.37   0.93    1.0   1212      228  1.0e+00\n",
      "stepsize__       0.36  1.8e-02   0.025   0.32   0.38   0.39    2.0     0.38  3.4e+13\n",
      "treedepth__       3.3  9.2e-02    0.62    2.0    3.0    4.0     45      8.5  1.0e+00\n",
      "n_leapfrog__       12  9.6e-02     6.0    7.0     15     19   3838      720  1.0e+00\n",
      "divergent__     0.064  5.3e-03    0.25   0.00   0.00    1.0   2153      404  1.0e+00\n",
      "energy__          266  7.5e-02     3.0    262    266    271   1582      297  1.0e+00\n",
      "a[1]            -0.74  4.6e-03    0.27   -1.2  -0.74  -0.30   3331      625  1.0e+00\n",
      "a[2]               11  1.3e-01     5.3    4.4    9.7     21   1749      328  1.0e+00\n",
      "a[3]             -1.1  4.6e-03    0.27   -1.5   -1.0  -0.62   3475      652  1.0e+00\n",
      "a[4]             -1.1  4.9e-03    0.28   -1.5   -1.1  -0.60   3268      613  1.0e+00\n",
      "a[5]            -0.74  4.7e-03    0.27   -1.2  -0.73  -0.31   3283      616  1.0e+00\n",
      "a[6]             0.21  5.2e-03    0.27  -0.24   0.21   0.65   2744      515  1.0e+00\n",
      "a[7]              1.8  6.7e-03    0.40    1.2    1.8    2.5   3545      665  1.0e+00\n",
      "bp               0.84  5.6e-03    0.26   0.43   0.84    1.3   2081      391  1.0e+00\n",
      "bpC             -0.14  6.2e-03    0.30  -0.64  -0.14   0.38   2422      455  1.0e+00\n",
      "\n",
      "Samples were drawn using hmc with nuts.\n",
      "For each parameter, N_Eff is a crude measure of effective sample size,\n",
      "and R_hat is the potential scale reduction factor on split chains (at \n",
      "convergence, R_hat=1).\n",
      "\n"
     ]
    }
   ],
   "cell_type": "code",
   "source": [
    "rc, chn, cnames = stan(stanmodel, m_10_04_data, ProjDir, diagnostics=false,\n",
    "  summary=true, CmdStanDir=CMDSTAN_HOME);\n",
    "# Result rethinking\n",
    "rethinking = \"\n",
    "      mean   sd  5.5% 94.5% n_eff Rhat\n",
    "bp    0.84 0.26  0.43  1.26  2271    1\n",
    "bpC  -0.13 0.29 -0.59  0.34  2949    1\n",
    "\n",
    "a[1] -0.74 0.27 -1.16 -0.31  3310    1\n",
    "a[2] 10.88 5.20  4.57 20.73  1634    1\n",
    "a[3] -1.05 0.28 -1.52 -0.59  4206    1\n",
    "a[4] -1.05 0.28 -1.50 -0.60  4133    1\n",
    "a[5] -0.75 0.27 -1.18 -0.32  4049    1\n",
    "a[6]  0.22 0.27 -0.22  0.65  3877    1\n",
    "a[7]  1.81 0.39  1.22  2.48  3807    1\n",
    "\";"
   ],
   "metadata": {},
   "execution_count": 7
  },
  {
   "outputs": [],
   "cell_type": "markdown",
   "source": [
    "Update sections"
   ],
   "metadata": {}
  },
  {
   "outputs": [
    {
     "output_type": "execute_result",
     "data": {
      "text/plain": "Object of type Chains, with data of type 1000×16×4 Array{Float64,3}\n\nIterations        = 1:1000\nThinning interval = 1\nChains            = 1, 2, 3, 4\nSamples per chain = 1000\npooled            = a.1, a.2, a.3, a.4, a.5, a.6, a.7\ninternals         = lp__, accept_stat__, stepsize__, treedepth__, n_leapfrog__, divergent__, energy__\nparameters        = bp, bpC\n\nparameters\n      Mean    SD   Naive SE  MCSE   ESS\n bp  0.8427 0.2571   0.0041 0.0052 1000\nbpC -0.1354 0.3027   0.0048 0.0057 1000\n\n"
     },
     "metadata": {},
     "execution_count": 8
    }
   ],
   "cell_type": "code",
   "source": [
    "chn2 = set_section(chn, Dict(\n",
    "  :parameters => [\"bp\", \"bpC\"],\n",
    "  :pooled => [\"a.$i\" for i in 1:7],\n",
    "  :internals => [\"lp__\", \"accept_stat__\", \"stepsize__\", \"treedepth__\", \"n_leapfrog__\",\n",
    "    \"divergent__\", \"energy__\"]\n",
    "  )\n",
    ")"
   ],
   "metadata": {},
   "execution_count": 8
  },
  {
   "outputs": [],
   "cell_type": "markdown",
   "source": [
    "Describe parameter draws"
   ],
   "metadata": {}
  },
  {
   "outputs": [
    {
     "name": "stdout",
     "output_type": "stream",
     "text": [
      "Iterations        = 1:1000\n",
      "Thinning interval = 1\n",
      "Chains            = 1, 2, 3, 4\n",
      "Samples per chain = 1000\n",
      "parameters        = bp, bpC\n",
      "\n",
      "Empirical Posterior Estimates\n",
      "─────────────────────────────────────────\n",
      "parameters\n",
      "      Mean    SD   Naive SE  MCSE   ESS\n",
      " bp  0.8427 0.2571   0.0041 0.0052 1000\n",
      "bpC -0.1354 0.3027   0.0048 0.0057 1000\n",
      "\n",
      "Quantiles\n",
      "─────────────────────────────────────────\n",
      "parameters\n",
      "      2.5%   25.0%   50.0%   75.0%  97.5%\n",
      " bp -0.0191  0.6690  0.8446 1.0152 1.7708\n",
      "bpC -1.1437 -0.3305 -0.1399 0.0615 0.8363\n",
      "\n"
     ]
    }
   ],
   "cell_type": "code",
   "source": [
    "describe(chn2)"
   ],
   "metadata": {},
   "execution_count": 9
  },
  {
   "outputs": [],
   "cell_type": "markdown",
   "source": [
    "Describe pooled parameter draws"
   ],
   "metadata": {}
  },
  {
   "outputs": [
    {
     "name": "stdout",
     "output_type": "stream",
     "text": [
      "Iterations        = 1:1000\n",
      "Thinning interval = 1\n",
      "Chains            = 1, 2, 3, 4\n",
      "Samples per chain = 1000\n",
      "pooled            = a.1, a.2, a.3, a.4, a.5, a.6, a.7\n",
      "\n",
      "Empirical Posterior Estimates\n",
      "───────────────────────────────────────────\n",
      "pooled\n",
      "      Mean    SD   Naive SE  MCSE   ESS\n",
      "a.1 -0.7392 0.2652   0.0042 0.0045 1000\n",
      "a.2 10.9204 5.3025   0.0838 0.1256 1000\n",
      "a.3 -1.0541 0.2725   0.0043 0.0047 1000\n",
      "a.4 -1.0579 0.2773   0.0044 0.0044 1000\n",
      "a.5 -0.7435 0.2691   0.0043 0.0042 1000\n",
      "a.6  0.2114 0.2715   0.0043 0.0048 1000\n",
      "a.7  1.8178 0.3995   0.0063 0.0063 1000\n",
      "\n",
      "Quantiles\n",
      "───────────────────────────────────────────\n",
      "pooled\n",
      "      2.5%   25.0%   50.0%   75.0%   97.5% \n",
      "a.1 -1.8184 -0.9220 -0.7357 -0.5594  0.3014\n",
      "a.2  2.3185  6.7870  9.6885 14.1738 34.9296\n",
      "a.3 -1.9935 -1.2376 -1.0500 -0.8675 -0.1238\n",
      "a.4 -2.1835 -1.2415 -1.0503 -0.8662 -0.2239\n",
      "a.5 -1.6829 -0.9230 -0.7327 -0.5640  0.1155\n",
      "a.6 -0.7330  0.0302  0.2112  0.3963  1.3355\n",
      "a.7  0.6546  1.5384  1.7943  2.0738  3.3561\n",
      "\n"
     ]
    }
   ],
   "cell_type": "code",
   "source": [
    "describe(chn2, section=:pooled)"
   ],
   "metadata": {},
   "execution_count": 10
  },
  {
   "outputs": [],
   "cell_type": "markdown",
   "source": [
    "Make it a DataFrame"
   ],
   "metadata": {}
  },
  {
   "outputs": [
    {
     "output_type": "execute_result",
     "data": {
      "text/plain": "4000×9 DataFrame. Omitted printing of 3 columns\n│ Row  │ bp       │ bpC         │ a.1       │ a.2     │ a.3       │ a.4       │\n│      │ \u001b[90mFloat64\u001b[39m  │ \u001b[90mFloat64\u001b[39m     │ \u001b[90mFloat64\u001b[39m   │ \u001b[90mFloat64\u001b[39m │ \u001b[90mFloat64\u001b[39m   │ \u001b[90mFloat64\u001b[39m   │\n├──────┼──────────┼─────────────┼───────────┼─────────┼───────────┼───────────┤\n│ 1    │ 0.92466  │ 0.153377    │ -0.656164 │ 23.3027 │ -0.81731  │ -1.54361  │\n│ 2    │ 0.933201 │ 0.0597494   │ -0.686501 │ 19.3928 │ -0.81704  │ -1.36675  │\n│ 3    │ 0.872626 │ -0.53602    │ -0.47967  │ 21.2687 │ -0.753265 │ -1.41695  │\n│ 4    │ 0.793398 │ -0.213519   │ -0.759552 │ 20.9193 │ -1.35226  │ -0.94371  │\n│ 5    │ 1.23897  │ -0.356256   │ -0.963433 │ 7.66638 │ -1.05012  │ -1.37931  │\n│ 6    │ 0.361049 │ -0.00598738 │ -0.210089 │ 7.12087 │ -0.903534 │ -0.442405 │\n│ 7    │ 0.432981 │ -0.0378694  │ -0.778762 │ 6.54152 │ -0.762835 │ -0.644979 │\n⋮\n│ 3993 │ 0.757016 │ -0.278985   │ -0.671987 │ 16.5386 │ -0.82195  │ -1.21128  │\n│ 3994 │ 0.700426 │ 0.376516    │ -0.40515  │ 11.4596 │ -1.15961  │ -1.09187  │\n│ 3995 │ 0.682324 │ 0.213317    │ -0.512476 │ 12.9359 │ -0.996506 │ -1.06346  │\n│ 3996 │ 0.820895 │ 0.0477628   │ -0.715656 │ 14.1239 │ -0.925487 │ -1.1994   │\n│ 3997 │ 0.772879 │ -0.316787   │ -1.00058  │ 20.0109 │ -1.28379  │ -0.829139 │\n│ 3998 │ 1.01122  │ 0.279475    │ -1.0168   │ 12.6414 │ -1.47223  │ -1.04011  │\n│ 3999 │ 1.02995  │ 0.203709    │ -1.0366   │ 11.7331 │ -1.57301  │ -0.923481 │\n│ 4000 │ 0.604361 │ -0.173589   │ -0.85367  │ 14.8169 │ -1.35474  │ -1.15062  │",
      "text/html": [
       "<table class=\"data-frame\"><thead><tr><th></th><th>bp</th><th>bpC</th><th>a.1</th><th>a.2</th><th>a.3</th><th>a.4</th><th>a.5</th><th>a.6</th><th>a.7</th></tr><tr><th></th><th>Float64</th><th>Float64</th><th>Float64</th><th>Float64</th><th>Float64</th><th>Float64</th><th>Float64</th><th>Float64</th><th>Float64</th></tr></thead><tbody><p>4,000 rows × 9 columns</p><tr><th>1</th><td>0.92466</td><td>0.153377</td><td>-0.656164</td><td>23.3027</td><td>-0.81731</td><td>-1.54361</td><td>-0.980074</td><td>0.103514</td><td>1.97962</td></tr><tr><th>2</th><td>0.933201</td><td>0.0597494</td><td>-0.686501</td><td>19.3928</td><td>-0.81704</td><td>-1.36675</td><td>-0.799793</td><td>0.261292</td><td>1.744</td></tr><tr><th>3</th><td>0.872626</td><td>-0.53602</td><td>-0.47967</td><td>21.2687</td><td>-0.753265</td><td>-1.41695</td><td>0.027324</td><td>0.209003</td><td>2.1808</td></tr><tr><th>4</th><td>0.793398</td><td>-0.213519</td><td>-0.759552</td><td>20.9193</td><td>-1.35226</td><td>-0.94371</td><td>-0.515446</td><td>0.624946</td><td>1.88272</td></tr><tr><th>5</th><td>1.23897</td><td>-0.356256</td><td>-0.963433</td><td>7.66638</td><td>-1.05012</td><td>-1.37931</td><td>-1.21759</td><td>-0.406136</td><td>1.53305</td></tr><tr><th>6</th><td>0.361049</td><td>-0.00598738</td><td>-0.210089</td><td>7.12087</td><td>-0.903534</td><td>-0.442405</td><td>-0.378081</td><td>0.608852</td><td>1.57544</td></tr><tr><th>7</th><td>0.432981</td><td>-0.0378694</td><td>-0.778762</td><td>6.54152</td><td>-0.762835</td><td>-0.644979</td><td>-0.238724</td><td>0.451244</td><td>2.99296</td></tr><tr><th>8</th><td>1.05848</td><td>-0.341068</td><td>-0.693123</td><td>6.16126</td><td>-1.11257</td><td>-1.22092</td><td>-1.26944</td><td>0.252453</td><td>2.40208</td></tr><tr><th>9</th><td>0.677292</td><td>-0.125061</td><td>-0.743753</td><td>7.49861</td><td>-1.39798</td><td>-0.77544</td><td>-0.428418</td><td>0.397158</td><td>2.06219</td></tr><tr><th>10</th><td>0.521639</td><td>0.263689</td><td>-0.471086</td><td>6.08178</td><td>-1.28554</td><td>-1.03649</td><td>-0.333198</td><td>0.244548</td><td>1.79439</td></tr><tr><th>11</th><td>0.412517</td><td>0.635744</td><td>-0.407574</td><td>10.5667</td><td>-0.720656</td><td>-0.958792</td><td>-0.617602</td><td>0.0635051</td><td>1.60922</td></tr><tr><th>12</th><td>1.16272</td><td>-0.683406</td><td>-0.76431</td><td>7.38583</td><td>-1.11491</td><td>-1.27792</td><td>-1.06493</td><td>-0.0334828</td><td>1.58173</td></tr><tr><th>13</th><td>1.08202</td><td>0.0485234</td><td>-0.704023</td><td>6.18988</td><td>-1.41212</td><td>-1.4372</td><td>-0.824625</td><td>0.106981</td><td>2.23019</td></tr><tr><th>14</th><td>0.705786</td><td>0.0280042</td><td>-0.869719</td><td>7.64482</td><td>-0.779002</td><td>-1.14088</td><td>-0.914746</td><td>0.142128</td><td>2.78734</td></tr><tr><th>15</th><td>0.699707</td><td>0.0406396</td><td>-0.859591</td><td>4.58433</td><td>-0.669287</td><td>-1.11348</td><td>-0.80174</td><td>0.222378</td><td>2.83202</td></tr><tr><th>16</th><td>0.665268</td><td>0.0451638</td><td>-0.765955</td><td>5.89581</td><td>-1.00823</td><td>-1.06923</td><td>-0.91746</td><td>0.0860367</td><td>2.40678</td></tr><tr><th>17</th><td>0.932234</td><td>-0.279746</td><td>-0.466127</td><td>7.90397</td><td>-1.0592</td><td>-0.655688</td><td>-0.793248</td><td>0.280279</td><td>1.11051</td></tr><tr><th>18</th><td>0.756338</td><td>-0.420627</td><td>-0.702754</td><td>5.4811</td><td>-0.771362</td><td>-0.671501</td><td>-0.586895</td><td>0.277334</td><td>1.72787</td></tr><tr><th>19</th><td>0.794119</td><td>-0.13109</td><td>-0.89078</td><td>8.81968</td><td>-0.876136</td><td>-0.533498</td><td>-0.56061</td><td>0.0948485</td><td>1.91511</td></tr><tr><th>20</th><td>0.458303</td><td>-0.120133</td><td>-0.273468</td><td>5.59096</td><td>-0.722609</td><td>-0.768723</td><td>-0.724613</td><td>0.39779</td><td>2.10026</td></tr><tr><th>21</th><td>0.357295</td><td>0.349667</td><td>-0.206447</td><td>8.21191</td><td>-0.904792</td><td>-1.20936</td><td>-0.521407</td><td>0.219903</td><td>2.42539</td></tr><tr><th>22</th><td>0.461811</td><td>0.131482</td><td>-0.228281</td><td>6.71719</td><td>-0.923005</td><td>-1.09066</td><td>-0.538454</td><td>0.213688</td><td>2.52985</td></tr><tr><th>23</th><td>0.799166</td><td>-0.0557452</td><td>-0.912101</td><td>10.5104</td><td>-1.07933</td><td>-0.773827</td><td>-0.786059</td><td>0.159031</td><td>1.40931</td></tr><tr><th>24</th><td>0.816318</td><td>-0.00432053</td><td>-0.827387</td><td>6.47379</td><td>-1.13468</td><td>-0.954227</td><td>-0.940532</td><td>0.359332</td><td>2.01009</td></tr><tr><th>&vellip;</th><td>&vellip;</td><td>&vellip;</td><td>&vellip;</td><td>&vellip;</td><td>&vellip;</td><td>&vellip;</td><td>&vellip;</td><td>&vellip;</td><td>&vellip;</td></tr></tbody></table>"
      ]
     },
     "metadata": {},
     "execution_count": 11
    }
   ],
   "cell_type": "code",
   "source": [
    "df = DataFrame(chn2, [:parameters, :pooled])"
   ],
   "metadata": {},
   "execution_count": 11
  },
  {
   "outputs": [],
   "cell_type": "markdown",
   "source": [
    "End of `10/m10.04s.jl`"
   ],
   "metadata": {}
  },
  {
   "outputs": [],
   "cell_type": "markdown",
   "source": [
    "*This notebook was generated using [Literate.jl](https://github.com/fredrikekre/Literate.jl).*"
   ],
   "metadata": {}
  }
 ],
 "nbformat_minor": 3,
 "metadata": {
  "language_info": {
   "file_extension": ".jl",
   "mimetype": "application/julia",
   "name": "julia",
   "version": "1.2.0-DEV.573"
  },
  "kernelspec": {
   "name": "julia-1.2",
   "display_name": "Julia 1.2.0-DEV.573",
   "language": "julia"
  }
 },
 "nbformat": 4
}
