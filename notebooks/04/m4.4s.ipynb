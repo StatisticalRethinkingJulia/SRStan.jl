{
 "cells": [
  {
   "outputs": [],
   "cell_type": "markdown",
   "source": [
    "Load Julia packages (libraries) needed  for the snippets in chapter 0"
   ],
   "metadata": {}
  },
  {
   "outputs": [],
   "cell_type": "code",
   "source": [
    "using StanModels"
   ],
   "metadata": {},
   "execution_count": 1
  },
  {
   "outputs": [],
   "cell_type": "markdown",
   "source": [
    "CmdStan uses a tmp directory to store the output of cmdstan"
   ],
   "metadata": {}
  },
  {
   "outputs": [],
   "cell_type": "code",
   "source": [
    "ProjDir = rel_path_s(\"..\", \"scripts\", \"04\")\n",
    "cd(ProjDir)"
   ],
   "metadata": {},
   "execution_count": 2
  },
  {
   "outputs": [],
   "cell_type": "markdown",
   "source": [
    "### snippet 4.7"
   ],
   "metadata": {}
  },
  {
   "outputs": [],
   "cell_type": "code",
   "source": [
    "howell1 = CSV.read(rel_path(\"..\", \"data\", \"Howell1.csv\"), delim=';')\n",
    "df = convert(DataFrame, howell1);"
   ],
   "metadata": {},
   "execution_count": 3
  },
  {
   "outputs": [],
   "cell_type": "markdown",
   "source": [
    "Use only adults"
   ],
   "metadata": {}
  },
  {
   "outputs": [],
   "cell_type": "code",
   "source": [
    "df2 = filter(row -> row[:age] >= 18, df)\n",
    "mean_weight = mean(df2[:weight])\n",
    "df2[:weight_c] = convert(Vector{Float64}, df2[:weight]) .- mean_weight ;"
   ],
   "metadata": {},
   "execution_count": 4
  },
  {
   "outputs": [],
   "cell_type": "markdown",
   "source": [
    "Define the Stan language model"
   ],
   "metadata": {}
  },
  {
   "outputs": [],
   "cell_type": "code",
   "source": [
    "weightsmodel = \"\n",
    "data {\n",
    " int < lower = 1 > N; // Sample size\n",
    " vector[N] height; // Predictor\n",
    " vector[N] weight; // Outcome\n",
    "}\n",
    "\n",
    "parameters {\n",
    " real alpha; // Intercept\n",
    " real beta; // Slope (regression coefficients)\n",
    " real < lower = 0 > sigma; // Error SD\n",
    "}\n",
    "\n",
    "model {\n",
    " height ~ normal(alpha + weight * beta , sigma);\n",
    "}\n",
    "\n",
    "generated quantities {\n",
    "}\n",
    "\";"
   ],
   "metadata": {},
   "execution_count": 5
  },
  {
   "outputs": [],
   "cell_type": "markdown",
   "source": [
    "Define the Stanmodel and set the output format to :mcmcchain."
   ],
   "metadata": {}
  },
  {
   "outputs": [],
   "cell_type": "code",
   "source": [
    "stanmodel = Stanmodel(name=\"weights\", monitors = [\"alpha\", \"beta\", \"sigma\"],model=weightsmodel,\n",
    "  output_format=:mcmcchain);\n",
    "# Input data for cmdstan\n",
    "heightsdata = Dict(\"N\" => length(df2[:height]), \"height\" => df2[:height], \"weight\" => df2[:weight_c]);"
   ],
   "metadata": {},
   "execution_count": 6
  },
  {
   "outputs": [],
   "cell_type": "markdown",
   "source": [
    "Sample using cmdstan"
   ],
   "metadata": {}
  },
  {
   "outputs": [
    {
     "name": "stdout",
     "output_type": "stream",
     "text": [
      "Iterations = 1:1000\n",
      "Thinning interval = 1\n",
      "Chains = 1,2,3,4\n",
      "Samples per chain = 1000\n",
      "\n",
      "Empirical Posterior Estimates:\n",
      "          Mean          SD       Naive SE       MCSE      ESS\n",
      "alpha 154.59423950 0.263821102 0.0041713779 0.0040688455 1000\n",
      " beta   0.90638023 0.041269033 0.0006525207 0.0006892418 1000\n",
      "sigma   5.09978729 0.189980921 0.0030038621 0.0030937633 1000\n",
      "\n",
      "Quantiles:\n",
      "          2.5%       25.0%       50.0%       75.0%       97.5%   \n",
      "alpha 154.0679500 154.4170000 154.597000 154.76900000 155.1130250\n",
      " beta   0.8254523   0.8791735   0.907081   0.93428475   0.9865398\n",
      "sigma   4.7542623   4.9681800   5.094930   5.22545250   5.4764555\n",
      "\n"
     ]
    }
   ],
   "cell_type": "code",
   "source": [
    "rc, chn, cnames = stan(stanmodel, heightsdata, ProjDir, diagnostics=false,\n",
    "  summary=false, CmdStanDir=CMDSTAN_HOME);\n",
    "# Describe the draws\n",
    "describe(chn)"
   ],
   "metadata": {},
   "execution_count": 7
  },
  {
   "outputs": [],
   "cell_type": "markdown",
   "source": [
    "Save the chains in a JLS file"
   ],
   "metadata": {}
  },
  {
   "outputs": [
    {
     "output_type": "execute_result",
     "data": {
      "text/plain": "Object of type \"Chains{Float64}\"\n\nIterations = 1:1000\nThinning interval = 1\nChains = 1,2,3,4\nSamples per chain = 1000\n\nUnion{Missing, Float64}[154.441 0.978855 5.01834; 155.112 0.830961 5.14387; … ; 154.685 0.905007 5.09064; 154.619 0.88024 5.26477]\n\nUnion{Missing, Float64}[154.491 0.898241 4.71288; 154.809 0.908826 5.23233; … ; 154.281 0.913903 5.28347; 154.758 0.917595 5.22389]\n\nUnion{Missing, Float64}[155.178 0.860376 5.16057; 154.164 0.983547 5.01183; … ; 154.411 0.915011 5.11366; 154.361 0.897381 5.07476]\n\nUnion{Missing, Float64}[154.356 0.944227 4.97141; 154.826 0.863457 5.21682; … ; 154.629 0.952278 5.02912; 154.67 0.895017 4.95821]"
     },
     "metadata": {},
     "execution_count": 8
    }
   ],
   "cell_type": "code",
   "source": [
    "serialize(\"m4.4s.jls\", chn)\n",
    "\n",
    "chn2 = deserialize(\"m4.4s.jls\")"
   ],
   "metadata": {},
   "execution_count": 8
  },
  {
   "outputs": [],
   "cell_type": "markdown",
   "source": [
    "Should be identical to earlier result"
   ],
   "metadata": {}
  },
  {
   "outputs": [
    {
     "name": "stdout",
     "output_type": "stream",
     "text": [
      "Iterations = 1:1000\n",
      "Thinning interval = 1\n",
      "Chains = 1,2,3,4\n",
      "Samples per chain = 1000\n",
      "\n",
      "Empirical Posterior Estimates:\n",
      "          Mean          SD       Naive SE       MCSE      ESS\n",
      "alpha 154.59423950 0.263821102 0.0041713779 0.0040688455 1000\n",
      " beta   0.90638023 0.041269033 0.0006525207 0.0006892418 1000\n",
      "sigma   5.09978729 0.189980921 0.0030038621 0.0030937633 1000\n",
      "\n",
      "Quantiles:\n",
      "          2.5%       25.0%       50.0%       75.0%       97.5%   \n",
      "alpha 154.0679500 154.4170000 154.597000 154.76900000 155.1130250\n",
      " beta   0.8254523   0.8791735   0.907081   0.93428475   0.9865398\n",
      "sigma   4.7542623   4.9681800   5.094930   5.22545250   5.4764555\n",
      "\n"
     ]
    }
   ],
   "cell_type": "code",
   "source": [
    "describe(chn2)"
   ],
   "metadata": {},
   "execution_count": 9
  },
  {
   "outputs": [],
   "cell_type": "markdown",
   "source": [
    "End of `m4.4s.jl`"
   ],
   "metadata": {}
  },
  {
   "outputs": [],
   "cell_type": "markdown",
   "source": [
    "*This notebook was generated using [Literate.jl](https://github.com/fredrikekre/Literate.jl).*"
   ],
   "metadata": {}
  }
 ],
 "nbformat_minor": 3,
 "metadata": {
  "language_info": {
   "file_extension": ".jl",
   "mimetype": "application/julia",
   "name": "julia",
   "version": "1.2.0-DEV.296"
  },
  "kernelspec": {
   "name": "julia-1.2",
   "display_name": "Julia 1.2.0-DEV.296",
   "language": "julia"
  }
 },
 "nbformat": 4
}
