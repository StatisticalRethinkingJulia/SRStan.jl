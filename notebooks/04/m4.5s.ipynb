{
 "cells": [
  {
   "outputs": [],
   "cell_type": "markdown",
   "source": [
    "Load Julia packages (libraries) needed  for the snippets in chapter 0"
   ],
   "metadata": {}
  },
  {
   "outputs": [],
   "cell_type": "code",
   "source": [
    "using StatisticalRethinking\n",
    "using CmdStan, StanMCMCChain\n",
    "gr(size=(500,500));"
   ],
   "metadata": {},
   "execution_count": 1
  },
  {
   "outputs": [],
   "cell_type": "markdown",
   "source": [
    "CmdStan uses a tmp directory to store the output of cmdstan"
   ],
   "metadata": {}
  },
  {
   "outputs": [],
   "cell_type": "code",
   "source": [
    "ProjDir = rel_path(\"..\", \"scripts\", \"04\")\n",
    "cd(ProjDir)"
   ],
   "metadata": {},
   "execution_count": 2
  },
  {
   "outputs": [],
   "cell_type": "markdown",
   "source": [
    "### snippet 4.7"
   ],
   "metadata": {}
  },
  {
   "outputs": [],
   "cell_type": "code",
   "source": [
    "howell1 = CSV.read(rel_path(\"..\", \"data\", \"Howell1.csv\"), delim=';')\n",
    "df = convert(DataFrame, howell1);"
   ],
   "metadata": {},
   "execution_count": 3
  },
  {
   "outputs": [],
   "cell_type": "markdown",
   "source": [
    "Use only adults"
   ],
   "metadata": {}
  },
  {
   "outputs": [],
   "cell_type": "code",
   "source": [
    "df2 = filter(row -> row[:age] >= 18, df)\n",
    "df2[:height] = convert(Vector{Float64}, df2[:height]);\n",
    "df2[:weight] = convert(Vector{Float64}, df2[:weight]);\n",
    "df2[:weight_s] = (df2[:weight] .- mean(df2[:weight])) / std(df2[:weight]);\n",
    "df2[:weight_s2] = df2[:weight_s] .^ 2;"
   ],
   "metadata": {},
   "execution_count": 4
  },
  {
   "outputs": [],
   "cell_type": "markdown",
   "source": [
    "Define the Stan language model"
   ],
   "metadata": {}
  },
  {
   "outputs": [],
   "cell_type": "code",
   "source": [
    "weightsmodel = \"\n",
    "data{\n",
    "    int N;\n",
    "    real height[N];\n",
    "    real weight_s2[N];\n",
    "    real weight_s[N];\n",
    "}\n",
    "parameters{\n",
    "    real a;\n",
    "    real b1;\n",
    "    real b2;\n",
    "    real sigma;\n",
    "}\n",
    "model{\n",
    "    vector[N] mu;\n",
    "    sigma ~ uniform( 0 , 50 );\n",
    "    b2 ~ normal( 0 , 10 );\n",
    "    b1 ~ normal( 0 , 10 );\n",
    "    a ~ normal( 178 , 100 );\n",
    "    for ( i in 1:N ) {\n",
    "        mu[i] = a + b1 * weight_s[i] + b2 * weight_s2[i];\n",
    "    }\n",
    "    height ~ normal( mu , sigma );\n",
    "}\n",
    "\";"
   ],
   "metadata": {},
   "execution_count": 5
  },
  {
   "outputs": [],
   "cell_type": "markdown",
   "source": [
    "Define the Stanmodel and set the output format to :mcmcchain."
   ],
   "metadata": {}
  },
  {
   "outputs": [
    {
     "name": "stdout",
     "output_type": "stream",
     "text": [
      "\n",
      "File /Users/rob/.julia/dev/StatisticalRethinking/scripts/04/tmp/weights.stan will be updated.\n",
      "\n"
     ]
    }
   ],
   "cell_type": "code",
   "source": [
    "stanmodel = Stanmodel(name=\"weights\", monitors = [\"a\", \"b1\", \"b2\", \"sigma\"],\n",
    "model=weightsmodel,  output_format=:mcmcchain);"
   ],
   "metadata": {},
   "execution_count": 6
  },
  {
   "outputs": [],
   "cell_type": "markdown",
   "source": [
    "Input data for cmdstan"
   ],
   "metadata": {}
  },
  {
   "outputs": [],
   "cell_type": "code",
   "source": [
    "heightsdata = Dict(\"N\" => size(df2, 1), \"height\" => df2[:height],\n",
    "\"weight_s\" => df2[:weight_s], \"weight_s2\" => df2[:weight_s2]);"
   ],
   "metadata": {},
   "execution_count": 7
  },
  {
   "outputs": [],
   "cell_type": "markdown",
   "source": [
    "Sample using cmdstan"
   ],
   "metadata": {}
  },
  {
   "outputs": [
    {
     "name": "stdout",
     "output_type": "stream",
     "text": [
      "Informational Message: The current Metropolis proposal is about to be rejected because of the following issue:\n",
      "Exception: normal_lpdf: Scale parameter is -34.3304, but must be > 0!  (in '/Users/rob/.julia/dev/StatisticalRethinking/scripts/04/tmp/weights.stan' at line 22)\n",
      "\n",
      "If this warning occurs sporadically, such as for highly constrained variable types like covariance matrices, then the sampler is fine,\n",
      "but if this warning occurs often then your model may be either severely ill-conditioned or misspecified.\n",
      "\n",
      "Informational Message: The current Metropolis proposal is about to be rejected because of the following issue:\n",
      "Exception: normal_lpdf: Scale parameter is -40.4732, but must be > 0!  (in '/Users/rob/.julia/dev/StatisticalRethinking/scripts/04/tmp/weights.stan' at line 22)\n",
      "\n",
      "If this warning occurs sporadically, such as for highly constrained variable types like covariance matrices, then the sampler is fine,\n",
      "but if this warning occurs often then your model may be either severely ill-conditioned or misspecified.\n",
      "\n",
      "Informational Message: The current Metropolis proposal is about to be rejected because of the following issue:\n",
      "Exception: normal_lpdf: Scale parameter is -3.34377, but must be > 0!  (in '/Users/rob/.julia/dev/StatisticalRethinking/scripts/04/tmp/weights.stan' at line 22)\n",
      "\n",
      "If this warning occurs sporadically, such as for highly constrained variable types like covariance matrices, then the sampler is fine,\n",
      "but if this warning occurs often then your model may be either severely ill-conditioned or misspecified.\n",
      "\n",
      "Informational Message: The current Metropolis proposal is about to be rejected because of the following issue:\n",
      "Exception: normal_lpdf: Scale parameter is -82.7939, but must be > 0!  (in '/Users/rob/.julia/dev/StatisticalRethinking/scripts/04/tmp/weights.stan' at line 22)\n",
      "\n",
      "If this warning occurs sporadically, such as for highly constrained variable types like covariance matrices, then the sampler is fine,\n",
      "but if this warning occurs often then your model may be either severely ill-conditioned or misspecified.\n",
      "\n",
      "Informational Message: The current Metropolis proposal is about to be rejected because of the following issue:\n",
      "Exception: normal_lpdf: Scale parameter is -2.53655, but must be > 0!  (in '/Users/rob/.julia/dev/StatisticalRethinking/scripts/04/tmp/weights.stan' at line 22)\n",
      "\n",
      "If this warning occurs sporadically, such as for highly constrained variable types like covariance matrices, then the sampler is fine,\n",
      "but if this warning occurs often then your model may be either severely ill-conditioned or misspecified.\n",
      "\n",
      "Informational Message: The current Metropolis proposal is about to be rejected because of the following issue:\n",
      "Exception: normal_lpdf: Scale parameter is -17.1595, but must be > 0!  (in '/Users/rob/.julia/dev/StatisticalRethinking/scripts/04/tmp/weights.stan' at line 22)\n",
      "\n",
      "If this warning occurs sporadically, such as for highly constrained variable types like covariance matrices, then the sampler is fine,\n",
      "but if this warning occurs often then your model may be either severely ill-conditioned or misspecified.\n",
      "\n",
      "Informational Message: The current Metropolis proposal is about to be rejected because of the following issue:\n",
      "Exception: normal_lpdf: Scale parameter is -21.6019, but must be > 0!  (in '/Users/rob/.julia/dev/StatisticalRethinking/scripts/04/tmp/weights.stan' at line 22)\n",
      "\n",
      "If this warning occurs sporadically, such as for highly constrained variable types like covariance matrices, then the sampler is fine,\n",
      "but if this warning occurs often then your model may be either severely ill-conditioned or misspecified.\n",
      "\n",
      "Informational Message: The current Metropolis proposal is about to be rejected because of the following issue:\n",
      "Exception: normal_lpdf: Scale parameter is -22.0507, but must be > 0!  (in '/Users/rob/.julia/dev/StatisticalRethinking/scripts/04/tmp/weights.stan' at line 22)\n",
      "\n",
      "If this warning occurs sporadically, such as for highly constrained variable types like covariance matrices, then the sampler is fine,\n",
      "but if this warning occurs often then your model may be either severely ill-conditioned or misspecified.\n",
      "\n",
      "Informational Message: The current Metropolis proposal is about to be rejected because of the following issue:\n",
      "Exception: normal_lpdf: Scale parameter is -62.3824, but must be > 0!  (in '/Users/rob/.julia/dev/StatisticalRethinking/scripts/04/tmp/weights.stan' at line 22)\n",
      "\n",
      "If this warning occurs sporadically, such as for highly constrained variable types like covariance matrices, then the sampler is fine,\n",
      "but if this warning occurs often then your model may be either severely ill-conditioned or misspecified.\n",
      "\n",
      "Informational Message: The current Metropolis proposal is about to be rejected because of the following issue:\n",
      "Exception: normal_lpdf: Scale parameter is -14.5173, but must be > 0!  (in '/Users/rob/.julia/dev/StatisticalRethinking/scripts/04/tmp/weights.stan' at line 22)\n",
      "\n",
      "If this warning occurs sporadically, such as for highly constrained variable types like covariance matrices, then the sampler is fine,\n",
      "but if this warning occurs often then your model may be either severely ill-conditioned or misspecified.\n",
      "\n",
      "\n",
      "Inference for Stan model: weights_model\n",
      "4 chains: each with iter=(1000,1000,1000,1000); warmup=(0,0,0,0); thin=(1,1,1,1); 4000 iterations saved.\n",
      "\n",
      "Warmup took (0.90, 0.42, 0.55, 0.71) seconds, 2.6 seconds total\n",
      "Sampling took (0.15, 0.26, 0.25, 0.18) seconds, 0.85 seconds total\n",
      "\n",
      "                    Mean     MCSE   StdDev     5%       50%   95%    N_Eff  N_Eff/s    R_hat\n",
      "lp__            -7.5e+02  3.4e-02  1.5e+00   -753  -7.5e+02  -748  1.8e+03  2.2e+03  1.0e+00\n",
      "accept_stat__    9.3e-01  1.3e-03  8.8e-02   0.74   9.6e-01   1.0  4.6e+03  5.4e+03  1.0e+00\n",
      "stepsize__       5.6e-01  6.8e-03  9.6e-03   0.54   5.6e-01  0.57  2.0e+00  2.4e+00  3.1e+13\n",
      "treedepth__      2.6e+00  9.9e-03  5.1e-01    2.0   3.0e+00   3.0  2.7e+03  3.2e+03  1.0e+00\n",
      "n_leapfrog__     6.6e+00  4.3e-02  2.7e+00    3.0   7.0e+00    11  3.9e+03  4.6e+03  1.0e+00\n",
      "divergent__      0.0e+00      nan  0.0e+00   0.00   0.0e+00  0.00      nan      nan      nan\n",
      "energy__         7.5e+02  5.2e-02  2.1e+00    749   7.5e+02   756  1.6e+03  1.9e+03  1.0e+00\n",
      "a                1.5e+02  6.0e-03  3.5e-01    154   1.5e+02   155  3.4e+03  4.0e+03  1.0e+00\n",
      "b1               5.8e+00  4.4e-03  2.7e-01    5.4   5.8e+00   6.3  3.8e+03  4.5e+03  1.0e+00\n",
      "b2              -9.7e-03  3.9e-03  2.3e-01  -0.39  -7.7e-03  0.37  3.3e+03  3.9e+03  1.0e+00\n",
      "sigma            5.1e+00  3.3e-03  2.0e-01    4.8   5.1e+00   5.4  3.8e+03  4.4e+03  1.0e+00\n",
      "\n",
      "Samples were drawn using hmc with nuts.\n",
      "For each parameter, N_Eff is a crude measure of effective sample size,\n",
      "and R_hat is the potential scale reduction factor on split chains (at \n",
      "convergence, R_hat=1).\n",
      "\n"
     ]
    }
   ],
   "cell_type": "code",
   "source": [
    "rc, chn, cnames = stan(stanmodel, heightsdata, ProjDir, diagnostics=false,\n",
    "CmdStanDir=CMDSTAN_HOME);"
   ],
   "metadata": {},
   "execution_count": 8
  },
  {
   "outputs": [],
   "cell_type": "markdown",
   "source": [
    "Describe the draws"
   ],
   "metadata": {}
  },
  {
   "outputs": [
    {
     "name": "stdout",
     "output_type": "stream",
     "text": [
      "Iterations = 1:1000\n",
      "Thinning interval = 1\n",
      "Chains = 1,2,3,4\n",
      "Samples per chain = 1000\n",
      "\n",
      "Empirical Posterior Estimates:\n",
      "           Mean         SD       Naive SE       MCSE      ESS\n",
      "    a 154.607779250 0.35131915 0.0055548435 0.0071962373 1000\n",
      "   b1   5.837877495 0.27425660 0.0043363777 0.0052382876 1000\n",
      "   b2  -0.009720602 0.22604067 0.0035740168 0.0046425714 1000\n",
      "sigma   5.111629662 0.20038724 0.0031684005 0.0035398814 1000\n",
      "\n",
      "Quantiles:\n",
      "          2.5%         25.0%        50.0%        75.0%       97.5%   \n",
      "    a 153.91987500 154.37400000 154.609000000 154.8402500 155.3010000\n",
      "   b1   5.31131050   5.64806750   5.840195000   6.0198325   6.3837903\n",
      "   b2  -0.46659305  -0.15745425  -0.007693345   0.1444845   0.4341176\n",
      "sigma   4.73293550   4.97430250   5.104830000   5.2409800   5.5255782\n",
      "\n"
     ]
    }
   ],
   "cell_type": "code",
   "source": [
    "describe(chn)"
   ],
   "metadata": {},
   "execution_count": 9
  },
  {
   "outputs": [],
   "cell_type": "markdown",
   "source": [
    "End of `m4.5s.jl`"
   ],
   "metadata": {}
  },
  {
   "outputs": [],
   "cell_type": "markdown",
   "source": [
    "*This notebook was generated using [Literate.jl](https://github.com/fredrikekre/Literate.jl).*"
   ],
   "metadata": {}
  }
 ],
 "nbformat_minor": 3,
 "metadata": {
  "language_info": {
   "file_extension": ".jl",
   "mimetype": "application/julia",
   "name": "julia",
   "version": "1.2.0-DEV.264"
  },
  "kernelspec": {
   "name": "julia-1.2",
   "display_name": "Julia 1.2.0-DEV.264",
   "language": "julia"
  }
 },
 "nbformat": 4
}
