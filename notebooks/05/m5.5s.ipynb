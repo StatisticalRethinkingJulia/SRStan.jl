{
 "cells": [
  {
   "outputs": [],
   "cell_type": "markdown",
   "source": [
    "Load Julia packages (libraries) needed  for the snippets in chapter 0"
   ],
   "metadata": {}
  },
  {
   "outputs": [],
   "cell_type": "code",
   "source": [
    "using StanModels"
   ],
   "metadata": {},
   "execution_count": 1
  },
  {
   "outputs": [],
   "cell_type": "markdown",
   "source": [
    "CmdStan uses a tmp directory to store the output of cmdstan"
   ],
   "metadata": {}
  },
  {
   "outputs": [],
   "cell_type": "code",
   "source": [
    "ProjDir = rel_path_s(\"..\", \"scripts\", \"05\")\n",
    "cd(ProjDir)"
   ],
   "metadata": {},
   "execution_count": 2
  },
  {
   "outputs": [],
   "cell_type": "markdown",
   "source": [
    "Read the milk data"
   ],
   "metadata": {}
  },
  {
   "outputs": [
    {
     "output_type": "execute_result",
     "data": {
      "text/plain": "17-element Array{Float64,1}:\n 55.16\n 64.54\n 64.54\n 67.64\n 68.85\n 58.85\n 61.69\n 60.32\n 69.97\n 70.41\n 73.4 \n 67.53\n 71.26\n 72.6 \n 70.24\n 76.3 \n 75.49"
     },
     "metadata": {},
     "execution_count": 3
    }
   ],
   "cell_type": "code",
   "source": [
    "wd = CSV.read(rel_path(\"..\", \"data\", \"milk.csv\"), delim=';')\n",
    "df = convert(DataFrame, wd);\n",
    "dcc = filter(row -> !(row[:neocortex_perc] == \"NA\"), df)\n",
    "dcc[:kcal_per_g] = convert(Vector{Float64}, dcc[:kcal_per_g])\n",
    "dcc[:neocortex_perc] = parse.(Float64, dcc[:neocortex_perc])"
   ],
   "metadata": {},
   "execution_count": 3
  },
  {
   "outputs": [],
   "cell_type": "markdown",
   "source": [
    "Show first 5 rows"
   ],
   "metadata": {}
  },
  {
   "outputs": [
    {
     "output_type": "execute_result",
     "data": {
      "text/plain": "5×8 DataFrame. Omitted printing of 4 columns\n│ Row │ clade            │ species            │ kcal_per_g │ perc_fat │\n│     │ \u001b[90mString⍰\u001b[39m          │ \u001b[90mString⍰\u001b[39m            │ \u001b[90mFloat64\u001b[39m    │ \u001b[90mFloat64⍰\u001b[39m │\n├─────┼──────────────────┼────────────────────┼────────────┼──────────┤\n│ 1   │ Strepsirrhine    │ Eulemur fulvus     │ 0.49       │ 16.6     │\n│ 2   │ New World Monkey │ Alouatta seniculus │ 0.47       │ 21.22    │\n│ 3   │ New World Monkey │ A palliata         │ 0.56       │ 29.66    │\n│ 4   │ New World Monkey │ Cebus apella       │ 0.89       │ 53.41    │\n│ 5   │ New World Monkey │ S sciureus         │ 0.92       │ 50.58    │",
      "text/html": [
       "<table class=\"data-frame\"><thead><tr><th></th><th>clade</th><th>species</th><th>kcal_per_g</th><th>perc_fat</th><th>perc_protein</th><th>perc_lactose</th><th>mass</th><th>neocortex_perc</th></tr><tr><th></th><th>String⍰</th><th>String⍰</th><th>Float64</th><th>Float64⍰</th><th>Float64⍰</th><th>Float64⍰</th><th>Float64⍰</th><th>Float64</th></tr></thead><tbody><p>5 rows × 8 columns</p><tr><th>1</th><td>Strepsirrhine</td><td>Eulemur fulvus</td><td>0.49</td><td>16.6</td><td>15.42</td><td>67.98</td><td>1.95</td><td>55.16</td></tr><tr><th>2</th><td>New World Monkey</td><td>Alouatta seniculus</td><td>0.47</td><td>21.22</td><td>23.58</td><td>55.2</td><td>5.25</td><td>64.54</td></tr><tr><th>3</th><td>New World Monkey</td><td>A palliata</td><td>0.56</td><td>29.66</td><td>23.46</td><td>46.88</td><td>5.37</td><td>64.54</td></tr><tr><th>4</th><td>New World Monkey</td><td>Cebus apella</td><td>0.89</td><td>53.41</td><td>15.8</td><td>30.79</td><td>2.51</td><td>67.64</td></tr><tr><th>5</th><td>New World Monkey</td><td>S sciureus</td><td>0.92</td><td>50.58</td><td>22.33</td><td>27.09</td><td>0.68</td><td>68.85</td></tr></tbody></table>"
      ]
     },
     "metadata": {},
     "execution_count": 4
    }
   ],
   "cell_type": "code",
   "source": [
    "first(dcc, 5)"
   ],
   "metadata": {},
   "execution_count": 4
  },
  {
   "outputs": [],
   "cell_type": "markdown",
   "source": [
    "Define the Stan language model"
   ],
   "metadata": {}
  },
  {
   "outputs": [],
   "cell_type": "code",
   "source": [
    "m5_5 = \"\n",
    "data{\n",
    "    int N;\n",
    "    vector[N] kcal_per_g;\n",
    "    vector[N] neocortex_perc;\n",
    "}\n",
    "parameters{\n",
    "    real a;\n",
    "    real bn;\n",
    "    real sigma;\n",
    "}\n",
    "model{\n",
    "    vector[N] mu = a + bn * neocortex_perc;\n",
    "    sigma ~ uniform( 0 , 1 );\n",
    "    bn ~ normal( 0 , 1 );\n",
    "    a ~ normal( 0 , 100 );\n",
    "    kcal_per_g ~ normal( mu , sigma );\n",
    "}\n",
    "\";"
   ],
   "metadata": {},
   "execution_count": 5
  },
  {
   "outputs": [],
   "cell_type": "markdown",
   "source": [
    "Define the Stanmodel and set the output format to :mcmcchains."
   ],
   "metadata": {}
  },
  {
   "outputs": [
    {
     "name": "stdout",
     "output_type": "stream",
     "text": [
      "\n",
      "File /Users/rob/.julia/dev/StanModels/scripts/05/tmp/m5_5.stan will be updated.\n",
      "\n",
      "\n",
      "Inference for Stan model: m5_5_model\n",
      "4 chains: each with iter=(1000,1000,1000,1000); warmup=(0,0,0,0); thin=(1,1,1,1); 4000 iterations saved.\n",
      "\n",
      "Warmup took (0.35, 0.35, 0.12, 0.068) seconds, 0.88 seconds total\n",
      "Sampling took (0.17, 0.18, 0.080, 0.056) seconds, 0.49 seconds total\n",
      "\n",
      "                    Mean     MCSE  StdDev        5%       50%    95%    N_Eff  N_Eff/s    R_hat\n",
      "lp__            -2.3e+04  1.6e+04   23297  -5.0e+04   1.1e+01     22  2.0e+00  4.1e+00  6.6e+02\n",
      "accept_stat__    8.2e-01  8.7e-02    0.24   0.0e+00   9.1e-01   1.00  7.7e+00  1.6e+01  1.2e+00\n",
      "stepsize__       2.9e-02  2.0e-02   0.028   5.0e-04   5.5e-02  0.059  2.0e+00  4.1e+00  2.6e+14\n",
      "treedepth__      3.3e+00  9.4e-01     1.8   0.0e+00   3.0e+00    6.0  3.5e+00  7.2e+00  1.5e+00\n",
      "n_leapfrog__     2.4e+01  1.2e+01      24   1.0e+00   1.4e+01     63  4.0e+00  8.1e+00  1.4e+00\n",
      "divergent__      4.7e-01      nan    0.50   0.0e+00   0.0e+00    1.0      nan      nan  3.4e+00\n",
      "energy__         2.3e+04  1.6e+04   23297  -2.1e+01   4.2e+04  50117  2.0e+00  4.1e+00  6.6e+02\n",
      "a               -3.0e-01  4.6e-01    0.76  -1.1e+00  -7.1e-01    1.0  2.7e+00  5.6e+00  1.9e+00\n",
      "bn              -5.3e-01  3.8e-01    0.54  -1.1e+00  -2.8e-02  0.015  2.0e+00  4.1e+00  9.5e+01\n",
      "sigma            6.0e-01  2.8e-01    0.40   1.5e-01   1.0e+00   1.00  2.0e+00  4.1e+00  1.5e+01\n",
      "\n",
      "Samples were drawn using hmc with nuts.\n",
      "For each parameter, N_Eff is a crude measure of effective sample size,\n",
      "and R_hat is the potential scale reduction factor on split chains (at \n",
      "convergence, R_hat=1).\n",
      "\n",
      "Log evidence      = 0.0\n",
      "Iterations        = 1:1000\n",
      "Thinning interval = 1\n",
      "Chains            = Chain1, Chain2, Chain3, Chain4\n",
      "Samples per chain = 1000\n",
      "parameters        = a, bn, sigma\n",
      "\n",
      "Empirical Posterior Estimates:\n",
      "============================================\n",
      "parameters\n",
      "        Mean    SD   Naive SE  MCSE    ESS  \n",
      "    a -0.3022 0.7578   0.0120 0.1032 53.9718\n",
      "   bn -0.5293 0.5352   0.0085 0.0857 39.0145\n",
      "sigma  0.5975 0.4036   0.0064 0.0645 39.2029\n",
      "\n",
      "Quantiles:\n",
      "============================================\n",
      "parameters\n",
      "        2.5%   25.0%   50.0%   75.0%  97.5%\n",
      "    a -2.0653 -1.1389 -0.7051 0.3058 2.4916\n",
      "   bn -1.1064 -1.0440 -0.5242 0.0052 0.0389\n",
      "sigma  0.1128  0.1880  0.7051 1.0000 1.0000\n",
      "\n"
     ]
    }
   ],
   "cell_type": "code",
   "source": [
    "stanmodel = Stanmodel(name=\"m5_5\",\n",
    "monitors = [\"a\", \"bn\", \"sigma\"],\n",
    " model=m5_5, output_format=:mcmcchains);\n",
    "# Input data for cmdstan\n",
    "m5_5_data = Dict(\"N\" => size(dcc, 1),\n",
    "  \"kcal_per_g\" => dcc[:kcal_per_g],\n",
    "  \"neocortex_perc\" => dcc[:neocortex_perc]);\n",
    "# Sample using cmdstan\n",
    "rc, chn, cnames = stan(stanmodel, m5_5_data, ProjDir, diagnostics=false,\n",
    "  CmdStanDir=CMDSTAN_HOME);\n",
    "# Describe the draws\n",
    "describe(chn)"
   ],
   "metadata": {},
   "execution_count": 6
  },
  {
   "outputs": [],
   "cell_type": "markdown",
   "source": [
    "Rethinking results"
   ],
   "metadata": {}
  },
  {
   "outputs": [
    {
     "output_type": "execute_result",
     "data": {
      "text/plain": "\"\\n        mean    sd   5.5%  94.5% n_eff  Rhat\\na     -0.814 0.000 -0.815 -0.814     7 1.124\\nbn    -0.499 0.006 -0.508 -0.490     2 2.803\\nsigma  1.000 0.000  1.000  1.000    42 0.999\\nsigma  1.53 0.16  1.28  1.80  1121    1\\n\""
     },
     "metadata": {},
     "execution_count": 7
    }
   ],
   "cell_type": "code",
   "source": [
    "rethinking_results = \"\n",
    "        mean    sd   5.5%  94.5% n_eff  Rhat\n",
    "a     -0.814 0.000 -0.815 -0.814     7 1.124\n",
    "bn    -0.499 0.006 -0.508 -0.490     2 2.803\n",
    "sigma  1.000 0.000  1.000  1.000    42 0.999\n",
    "sigma  1.53 0.16  1.28  1.80  1121    1\n",
    "\""
   ],
   "metadata": {},
   "execution_count": 7
  },
  {
   "outputs": [],
   "cell_type": "markdown",
   "source": [
    "End of `05/5.5s.jl`"
   ],
   "metadata": {}
  },
  {
   "outputs": [],
   "cell_type": "markdown",
   "source": [
    "*This notebook was generated using [Literate.jl](https://github.com/fredrikekre/Literate.jl).*"
   ],
   "metadata": {}
  }
 ],
 "nbformat_minor": 3,
 "metadata": {
  "language_info": {
   "file_extension": ".jl",
   "mimetype": "application/julia",
   "name": "julia",
   "version": "1.2.0-DEV.406"
  },
  "kernelspec": {
   "name": "julia-1.2",
   "display_name": "Julia 1.2.0-DEV.406",
   "language": "julia"
  }
 },
 "nbformat": 4
}
