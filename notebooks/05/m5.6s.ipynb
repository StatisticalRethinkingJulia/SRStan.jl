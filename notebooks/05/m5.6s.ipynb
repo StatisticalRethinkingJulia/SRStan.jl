{
 "cells": [
  {
   "outputs": [],
   "cell_type": "markdown",
   "source": [
    "Load Julia packages (libraries) needed  for the snippets in chapter 0"
   ],
   "metadata": {}
  },
  {
   "outputs": [],
   "cell_type": "code",
   "source": [
    "using SRStan\n",
    "using CmdStan, StanMCMCChain"
   ],
   "metadata": {},
   "execution_count": 1
  },
  {
   "outputs": [],
   "cell_type": "markdown",
   "source": [
    "CmdStan uses a tmp directory to store the output of cmdstan"
   ],
   "metadata": {}
  },
  {
   "outputs": [],
   "cell_type": "code",
   "source": [
    "ProjDir = rel_path_s(\"..\", \"scripts\", \"05\")\n",
    "cd(ProjDir)"
   ],
   "metadata": {},
   "execution_count": 2
  },
  {
   "outputs": [],
   "cell_type": "markdown",
   "source": [
    "Read the milk data"
   ],
   "metadata": {}
  },
  {
   "outputs": [
    {
     "output_type": "execute_result",
     "data": {
      "text/plain": "17-element Array{Float64,1}:\n  0.6678293725756554\n  1.6582280766035324\n  1.6808279085207734\n  0.9202827531436925\n -0.3856624808119846\n -2.120263536200091 \n -0.7550225842780328\n -1.1394342831883648\n  0.4382549309311553\n  1.1755733298042381\n  2.509599262378372 \n  1.6808279085207734\n  3.5689691574413787\n  4.374876130645041 \n  3.70721041079866  \n  3.4998353515591547\n  4.006423680849631 "
     },
     "metadata": {},
     "execution_count": 3
    }
   ],
   "cell_type": "code",
   "source": [
    "wd = CSV.read(rel_path(\"..\", \"data\", \"milk.csv\"), delim=';')\n",
    "df = convert(DataFrame, wd);\n",
    "dcc = filter(row -> !(row[:neocortex_perc] == \"NA\"), df)\n",
    "dcc[:kcal_per_g] = convert(Vector{Float64}, dcc[:kcal_per_g])\n",
    "dcc[:log_mass] = log.(dcc[:mass])"
   ],
   "metadata": {},
   "execution_count": 3
  },
  {
   "outputs": [],
   "cell_type": "markdown",
   "source": [
    "Show first 5 rows"
   ],
   "metadata": {}
  },
  {
   "outputs": [
    {
     "output_type": "execute_result",
     "data": {
      "text/plain": "5×3 DataFrame\n│ Row │ kcal_per_g │ mass     │ log_mass  │\n│     │ \u001b[90mFloat64\u001b[39m    │ \u001b[90mFloat64⍰\u001b[39m │ \u001b[90mFloat64\u001b[39m   │\n├─────┼────────────┼──────────┼───────────┤\n│ 1   │ 0.49       │ 1.95     │ 0.667829  │\n│ 2   │ 0.47       │ 5.25     │ 1.65823   │\n│ 3   │ 0.56       │ 5.37     │ 1.68083   │\n│ 4   │ 0.89       │ 2.51     │ 0.920283  │\n│ 5   │ 0.92       │ 0.68     │ -0.385662 │",
      "text/html": [
       "<table class=\"data-frame\"><thead><tr><th></th><th>kcal_per_g</th><th>mass</th><th>log_mass</th></tr><tr><th></th><th>Float64</th><th>Float64⍰</th><th>Float64</th></tr></thead><tbody><p>5 rows × 3 columns</p><tr><th>1</th><td>0.49</td><td>1.95</td><td>0.667829</td></tr><tr><th>2</th><td>0.47</td><td>5.25</td><td>1.65823</td></tr><tr><th>3</th><td>0.56</td><td>5.37</td><td>1.68083</td></tr><tr><th>4</th><td>0.89</td><td>2.51</td><td>0.920283</td></tr><tr><th>5</th><td>0.92</td><td>0.68</td><td>-0.385662</td></tr></tbody></table>"
      ]
     },
     "metadata": {},
     "execution_count": 4
    }
   ],
   "cell_type": "code",
   "source": [
    "first(dcc[[3, 7, 9]], 5)"
   ],
   "metadata": {},
   "execution_count": 4
  },
  {
   "outputs": [],
   "cell_type": "markdown",
   "source": [
    "Define the Stan language model"
   ],
   "metadata": {}
  },
  {
   "outputs": [],
   "cell_type": "code",
   "source": [
    "m5_6_model = \"\n",
    "data{\n",
    "    real kcal_per_g[17];\n",
    "    real log_mass[17];\n",
    "}\n",
    "parameters{\n",
    "    real a;\n",
    "    real bm;\n",
    "    real sigma;\n",
    "}\n",
    "model{\n",
    "    vector[17] mu;\n",
    "    sigma ~ uniform( 0 , 1 );\n",
    "    bm ~ normal( 0 , 1 );\n",
    "    a ~ normal( 0 , 100 );\n",
    "    for ( i in 1:17 ) {\n",
    "        mu[i] = a + bm * log_mass[i];\n",
    "    }\n",
    "    kcal_per_g ~ normal( mu , sigma );\n",
    "}\n",
    "\";"
   ],
   "metadata": {},
   "execution_count": 5
  },
  {
   "outputs": [],
   "cell_type": "markdown",
   "source": [
    "Define the Stanmodel and set the output format to :mcmcchain."
   ],
   "metadata": {}
  },
  {
   "outputs": [
    {
     "name": "stdout",
     "output_type": "stream",
     "text": [
      "\n",
      "File /Users/rob/.julia/dev/SRStan/scripts/05/tmp/m5_5_model.stan will be updated.\n",
      "\n",
      "Informational Message: The current Metropolis proposal is about to be rejected because of the following issue:\n",
      "Exception: normal_lpdf: Scale parameter is -351.45, but must be > 0!  (in '/Users/rob/.julia/dev/SRStan/scripts/05/tmp/m5_5_model.stan' at line 18)\n",
      "\n",
      "If this warning occurs sporadically, such as for highly constrained variable types like covariance matrices, then the sampler is fine,\n",
      "but if this warning occurs often then your model may be either severely ill-conditioned or misspecified.\n",
      "\n",
      "Informational Message: The current Metropolis proposal is about to be rejected because of the following issue:\n",
      "Exception: normal_lpdf: Scale parameter is -10.9407, but must be > 0!  (in '/Users/rob/.julia/dev/SRStan/scripts/05/tmp/m5_5_model.stan' at line 18)\n",
      "\n",
      "If this warning occurs sporadically, such as for highly constrained variable types like covariance matrices, then the sampler is fine,\n",
      "but if this warning occurs often then your model may be either severely ill-conditioned or misspecified.\n",
      "\n",
      "Informational Message: The current Metropolis proposal is about to be rejected because of the following issue:\n",
      "Exception: normal_lpdf: Scale parameter is -0.240602, but must be > 0!  (in '/Users/rob/.julia/dev/SRStan/scripts/05/tmp/m5_5_model.stan' at line 18)\n",
      "\n",
      "If this warning occurs sporadically, such as for highly constrained variable types like covariance matrices, then the sampler is fine,\n",
      "but if this warning occurs often then your model may be either severely ill-conditioned or misspecified.\n",
      "\n",
      "Informational Message: The current Metropolis proposal is about to be rejected because of the following issue:\n",
      "Exception: normal_lpdf: Scale parameter is -0.236698, but must be > 0!  (in '/Users/rob/.julia/dev/SRStan/scripts/05/tmp/m5_5_model.stan' at line 18)\n",
      "\n",
      "If this warning occurs sporadically, such as for highly constrained variable types like covariance matrices, then the sampler is fine,\n",
      "but if this warning occurs often then your model may be either severely ill-conditioned or misspecified.\n",
      "\n",
      "Informational Message: The current Metropolis proposal is about to be rejected because of the following issue:\n",
      "Exception: normal_lpdf: Scale parameter is -0.562451, but must be > 0!  (in '/Users/rob/.julia/dev/SRStan/scripts/05/tmp/m5_5_model.stan' at line 18)\n",
      "\n",
      "If this warning occurs sporadically, such as for highly constrained variable types like covariance matrices, then the sampler is fine,\n",
      "but if this warning occurs often then your model may be either severely ill-conditioned or misspecified.\n",
      "\n",
      "Informational Message: The current Metropolis proposal is about to be rejected because of the following issue:\n",
      "Exception: normal_lpdf: Scale parameter is -1.49298, but must be > 0!  (in '/Users/rob/.julia/dev/SRStan/scripts/05/tmp/m5_5_model.stan' at line 18)\n",
      "\n",
      "If this warning occurs sporadically, such as for highly constrained variable types like covariance matrices, then the sampler is fine,\n",
      "but if this warning occurs often then your model may be either severely ill-conditioned or misspecified.\n",
      "\n",
      "Informational Message: The current Metropolis proposal is about to be rejected because of the following issue:\n",
      "Exception: normal_lpdf: Scale parameter is -2.02168, but must be > 0!  (in '/Users/rob/.julia/dev/SRStan/scripts/05/tmp/m5_5_model.stan' at line 18)\n",
      "\n",
      "If this warning occurs sporadically, such as for highly constrained variable types like covariance matrices, then the sampler is fine,\n",
      "but if this warning occurs often then your model may be either severely ill-conditioned or misspecified.\n",
      "\n",
      "Informational Message: The current Metropolis proposal is about to be rejected because of the following issue:\n",
      "Exception: normal_lpdf: Scale parameter is -0.00150305, but must be > 0!  (in '/Users/rob/.julia/dev/SRStan/scripts/05/tmp/m5_5_model.stan' at line 18)\n",
      "\n",
      "If this warning occurs sporadically, such as for highly constrained variable types like covariance matrices, then the sampler is fine,\n",
      "but if this warning occurs often then your model may be either severely ill-conditioned or misspecified.\n",
      "\n",
      "Informational Message: The current Metropolis proposal is about to be rejected because of the following issue:\n",
      "Exception: normal_lpdf: Scale parameter is -0.291187, but must be > 0!  (in '/Users/rob/.julia/dev/SRStan/scripts/05/tmp/m5_5_model.stan' at line 18)\n",
      "\n",
      "If this warning occurs sporadically, such as for highly constrained variable types like covariance matrices, then the sampler is fine,\n",
      "but if this warning occurs often then your model may be either severely ill-conditioned or misspecified.\n",
      "\n",
      "Informational Message: The current Metropolis proposal is about to be rejected because of the following issue:\n",
      "Exception: normal_lpdf: Scale parameter is -0.230589, but must be > 0!  (in '/Users/rob/.julia/dev/SRStan/scripts/05/tmp/m5_5_model.stan' at line 18)\n",
      "\n",
      "If this warning occurs sporadically, such as for highly constrained variable types like covariance matrices, then the sampler is fine,\n",
      "but if this warning occurs often then your model may be either severely ill-conditioned or misspecified.\n",
      "\n",
      "\n",
      "Inference for Stan model: m5_5_model_model\n",
      "4 chains: each with iter=(1000,1000,1000,1000); warmup=(0,0,0,0); thin=(1,1,1,1); 4000 iterations saved.\n",
      "\n",
      "Warmup took (0.046, 0.045, 0.047, 0.061) seconds, 0.20 seconds total\n",
      "Sampling took (0.061, 0.069, 0.063, 0.057) seconds, 0.25 seconds total\n",
      "\n",
      "                    Mean     MCSE  StdDev        5%       50%       95%    N_Eff  N_Eff/s    R_hat\n",
      "lp__             2.1e+01  4.1e-02     1.4   1.8e+01   2.2e+01   2.3e+01  1.3e+03  5.0e+03  1.0e+00\n",
      "accept_stat__    9.2e-01  1.7e-02    0.14   6.7e-01   9.7e-01   1.0e+00  6.6e+01  2.6e+02  1.0e+00\n",
      "stepsize__       4.7e-01  6.3e-02   0.090   3.4e-01   5.4e-01   5.6e-01  2.0e+00  8.0e+00  1.7e+14\n",
      "treedepth__      2.5e+00  1.0e-01    0.61   2.0e+00   3.0e+00   3.0e+00  3.6e+01  1.5e+02  1.0e+00\n",
      "n_leapfrog__     6.8e+00  2.9e-01     3.5   3.0e+00   7.0e+00   1.5e+01  1.5e+02  6.0e+02  1.0e+00\n",
      "divergent__      0.0e+00      nan    0.00   0.0e+00   0.0e+00   0.0e+00      nan      nan      nan\n",
      "energy__        -2.0e+01  5.3e-02     1.9  -2.2e+01  -2.0e+01  -1.6e+01  1.3e+03  5.1e+03  1.0e+00\n",
      "a                7.0e-01  1.4e-03   0.058   6.1e-01   7.0e-01   8.0e-01  1.6e+03  6.5e+03  1.0e+00\n",
      "bm              -3.2e-02  5.9e-04   0.024  -7.2e-02  -3.2e-02   7.9e-03  1.7e+03  6.8e+03  1.0e+00\n",
      "sigma            1.8e-01  9.3e-04   0.038   1.3e-01   1.8e-01   2.5e-01  1.6e+03  6.5e+03  1.0e+00\n",
      "\n",
      "Samples were drawn using hmc with nuts.\n",
      "For each parameter, N_Eff is a crude measure of effective sample size,\n",
      "and R_hat is the potential scale reduction factor on split chains (at \n",
      "convergence, R_hat=1).\n",
      "\n"
     ]
    }
   ],
   "cell_type": "code",
   "source": [
    "stanmodel = Stanmodel(name=\"m5_5_model\",\n",
    "monitors = [\"a\", \"bm\", \"sigma\"],\n",
    " model=m5_6_model, output_format=:mcmcchain);\n",
    "# Input data for cmdstan\n",
    "m5_6_data = Dict(\"N\" => size(dcc, 1),\n",
    "  \"kcal_per_g\" => dcc[:kcal_per_g],\n",
    "  \"log_mass\" => dcc[:log_mass]);\n",
    "# Sample using cmdstan\n",
    "rc, chn, cnames = stan(stanmodel, m5_6_data, ProjDir, diagnostics=false,\n",
    "  CmdStanDir=CMDSTAN_HOME);\n",
    "# Rethinking results\n",
    "rethinking_results = \"\n",
    "        mean    sd   5.5%  94.5% n_eff  Rhat\n",
    "        mean   sd  5.5% 94.5% n_eff Rhat\n",
    " a      0.70 0.06  0.61  0.79   926 1.00\n",
    " bm    -0.03 0.02 -0.07  0.01   986 1.00\n",
    " sigma  0.18 0.04  0.13  0.25   628 1.01\n",
    "\";"
   ],
   "metadata": {},
   "execution_count": 6
  },
  {
   "outputs": [],
   "cell_type": "markdown",
   "source": [
    "Describe the draws"
   ],
   "metadata": {}
  },
  {
   "outputs": [
    {
     "name": "stdout",
     "output_type": "stream",
     "text": [
      "Iterations = 1:1000\n",
      "Thinning interval = 1\n",
      "Chains = 1,2,3,4\n",
      "Samples per chain = 1000\n",
      "\n",
      "Empirical Posterior Estimates:\n",
      "          Mean         SD        Naive SE        MCSE      ESS\n",
      "    a  0.70458330 0.057512207 0.00090934784 0.00139663986 1000\n",
      "   bm -0.03172764 0.024462974 0.00038679358 0.00059961642 1000\n",
      "sigma  0.18376136 0.037794402 0.00059758197 0.00080639245 1000\n",
      "\n",
      "Quantiles:\n",
      "          2.5%        25.0%       50.0%       75.0%       97.5%  \n",
      "    a  0.589654975  0.66805625  0.70480200  0.74206800 0.81719520\n",
      "   bm -0.080230563 -0.04724635 -0.03215405 -0.01618300 0.01722386\n",
      "sigma  0.127928675  0.15611975  0.17782550  0.20588325 0.27146712\n",
      "\n"
     ]
    }
   ],
   "cell_type": "code",
   "source": [
    "describe(chn)"
   ],
   "metadata": {},
   "execution_count": 7
  },
  {
   "outputs": [],
   "cell_type": "markdown",
   "source": [
    "End of `05/5.5s.jl`"
   ],
   "metadata": {}
  },
  {
   "outputs": [],
   "cell_type": "markdown",
   "source": [
    "*This notebook was generated using [Literate.jl](https://github.com/fredrikekre/Literate.jl).*"
   ],
   "metadata": {}
  }
 ],
 "nbformat_minor": 3,
 "metadata": {
  "language_info": {
   "file_extension": ".jl",
   "mimetype": "application/julia",
   "name": "julia",
   "version": "1.2.0-DEV.264"
  },
  "kernelspec": {
   "name": "julia-1.2",
   "display_name": "Julia 1.2.0-DEV.264",
   "language": "julia"
  }
 },
 "nbformat": 4
}
